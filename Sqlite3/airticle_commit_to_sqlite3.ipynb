{
 "cells": [
  {
   "cell_type": "markdown",
   "metadata": {
    "ExecuteTime": {
     "end_time": "2018-12-22T03:28:16.137913Z",
     "start_time": "2018-12-22T03:28:16.134566Z"
    }
   },
   "source": [
    "# 概要\n",
    "- スクレイピングで対象ページの記事を全てdbに落とす\n",
    "-  とりあえずdb (id, category, text, url)で定義する"
   ]
  },
  {
   "cell_type": "markdown",
   "metadata": {},
   "source": [
    "# ライブラリimport "
   ]
  },
  {
   "cell_type": "code",
   "execution_count": 1,
   "metadata": {
    "ExecuteTime": {
     "end_time": "2018-12-22T05:19:58.732395Z",
     "start_time": "2018-12-22T05:19:58.256914Z"
    }
   },
   "outputs": [],
   "source": [
    "import requests\n",
    "import urllib\n",
    "import sqlite3\n",
    "import re\n",
    "import time\n",
    "from bs4 import BeautifulSoup as BS\n",
    "from tqdm import tqdm_notebook as tqdm"
   ]
  },
  {
   "cell_type": "markdown",
   "metadata": {},
   "source": [
    "# スクレイピング用の関数定義"
   ]
  },
  {
   "cell_type": "code",
   "execution_count": 2,
   "metadata": {
    "ExecuteTime": {
     "end_time": "2018-12-22T05:19:58.758648Z",
     "start_time": "2018-12-22T05:19:58.737618Z"
    }
   },
   "outputs": [],
   "source": [
    "# トップページからカテゴリ別に分けられてるページのURLを抽出\n",
    "def main_url_func(main_url):\n",
    "    main_url_dic = {}\n",
    "    res = urllib.request.urlopen(main_url)\n",
    "    data = res.read()\n",
    "    text = data.decode(\"utf-8\")\n",
    "    soup = BS(text, 'html.parser')\n",
    "    ul = soup.html.body.nav.ul\n",
    "    li = ul.find_all('li', class_=re.compile(r'^(nav_color_).$'),)\n",
    "\n",
    "    for i in li:    \n",
    "        main_url_dic[i.a.string] = i.a.attrs['href']\n",
    "    return main_url_dic\n",
    "\n",
    "\n",
    "# カテゴリごとのページを訪れ、次のページへのリンクを抽出\n",
    "def same_category_other_page_url(main_dic):\n",
    "\n",
    "    for category, start_url  in main_dic.items():\n",
    "        other_pages_list = [start_url]\n",
    "        all_url_dic = {}\n",
    "        \n",
    "        url = start_url\n",
    "        res = urllib.request.urlopen(url)\n",
    "        time.sleep(1)\n",
    "        data = res.read()\n",
    "        text = data.decode(\"utf-8\")\n",
    "        soup = BS(text, \"html.parser\")\n",
    "    \n",
    "        body = soup.html.body\n",
    "        li = body.find_all(\"a\", href=re.compile(r'^/categories/1.'))\n",
    "    \n",
    "        for i in li:\n",
    "            other_pages_list.append(\"https://gunosy.com\" + i.attrs['href'])\n",
    "            \n",
    "        all_url_dic[category] = set(other_pages_list)\n",
    "        \n",
    "    return all_url_dic\n",
    "\n",
    "\n",
    "#　カテゴリ別のページにアクセスして記事のあるURLを抽出\n",
    "def category_url_func(main_dic):\n",
    "    sub_url_dic = {}\n",
    "    \n",
    "    for category, url in main_dic.items():\n",
    "        url_list = []  \n",
    "        res = urllib.request.urlopen(url)\n",
    "        time.sleep(1)\n",
    "        data = res.read()\n",
    "        text = data.decode(\"utf-8\")\n",
    "        soup = BS(text, \"html.parser\")\n",
    "        soup_html = soup.html.body\n",
    "        li = soup_html.find_all(\"a\", href=re.compile(r'^https://gunosy.com/articles/'))\n",
    "    \n",
    "        for i in li:\n",
    "            url_list.append(i.attrs['href'])\n",
    "        \n",
    "        sub_url_dic[category] = url_list\n",
    "    \n",
    "    return sub_url_dic\n",
    "\n",
    "# 記事のtextをスクレイピング\n",
    "#　URLを入力したら、textがリストで返る\n",
    "def text_scraping(url):\n",
    "    text_list = []\n",
    "    res = urllib.request.urlopen(url)\n",
    "    time.sleep(1)\n",
    "    data = res.read()\n",
    "    text = data.decode(\"utf-8\")\n",
    "    soup = BS(text, \"html.parser\")\n",
    "    body = soup.html.body\n",
    "    articlie = body.find_all(\"p\")\n",
    "    for i in articlie:\n",
    "        text_list.append(i.string)\n",
    "    return text_list"
   ]
  },
  {
   "cell_type": "markdown",
   "metadata": {},
   "source": [
    "# URLの取得"
   ]
  },
  {
   "cell_type": "code",
   "execution_count": 3,
   "metadata": {
    "ExecuteTime": {
     "end_time": "2018-12-22T05:20:13.471828Z",
     "start_time": "2018-12-22T05:19:58.762748Z"
    }
   },
   "outputs": [],
   "source": [
    "top_url = \"https://gunosy.com\"\n",
    "main_url_dic = main_url_func(top_url)\n",
    "\n",
    "category_url_dic = category_url_func(main_url_dic)"
   ]
  },
  {
   "cell_type": "code",
   "execution_count": 4,
   "metadata": {
    "ExecuteTime": {
     "end_time": "2018-12-22T05:20:13.494013Z",
     "start_time": "2018-12-22T05:20:13.474366Z"
    }
   },
   "outputs": [
    {
     "data": {
      "text/plain": [
       "dict_keys(['エンタメ', 'スポーツ', 'おもしろ', '国内', '海外', 'コラム', 'IT・科学', 'グルメ'])"
      ]
     },
     "execution_count": 4,
     "metadata": {},
     "output_type": "execute_result"
    }
   ],
   "source": [
    "category_url_dic.keys()"
   ]
  },
  {
   "cell_type": "markdown",
   "metadata": {},
   "source": [
    "# dbの定義"
   ]
  },
  {
   "cell_type": "code",
   "execution_count": 5,
   "metadata": {
    "ExecuteTime": {
     "end_time": "2018-12-22T05:20:13.504819Z",
     "start_time": "2018-12-22T05:20:13.497273Z"
    }
   },
   "outputs": [],
   "source": [
    "# dbに接続する\n",
    "conn = sqlite3.connect('GunosyText.db')\n",
    "c = conn.cursor()\n",
    "\n",
    "# テーブルの作成\n",
    "c.execute('''CREATE TABLE textlist(id real, category real, airticle text, url text)''')"
   ]
  },
  {
   "cell_type": "markdown",
   "metadata": {},
   "source": [
    "# 記事のスクレイピングと記事をdbに保存\n",
    "**「逐次的にアクセスして保存」**\n",
    "1. 記事のURLにアクセス\n",
    "2. 記事をスクレイピング\n",
    "3. 　dbに保存"
   ]
  },
  {
   "cell_type": "code",
   "execution_count": 6,
   "metadata": {
    "ExecuteTime": {
     "end_time": "2018-12-22T05:20:13.515460Z",
     "start_time": "2018-12-22T05:20:13.508213Z"
    }
   },
   "outputs": [
    {
     "data": {
      "text/plain": [
       "{'エンタメ': 0,\n",
       " 'スポーツ': 1,\n",
       " 'おもしろ': 2,\n",
       " '国内': 3,\n",
       " '海外': 4,\n",
       " 'コラム': 5,\n",
       " 'IT・科学': 6,\n",
       " 'グルメ': 7}"
      ]
     },
     "execution_count": 6,
     "metadata": {},
     "output_type": "execute_result"
    }
   ],
   "source": [
    "count = 0\n",
    "category_dic = {}\n",
    "for name in category_url_dic.keys():\n",
    "    category_dic[name] = count\n",
    "    count += 1\n",
    "category_dic"
   ]
  },
  {
   "cell_type": "code",
   "execution_count": null,
   "metadata": {
    "ExecuteTime": {
     "start_time": "2018-12-22T05:19:58.135Z"
    }
   },
   "outputs": [
    {
     "data": {
      "application/vnd.jupyter.widget-view+json": {
       "model_id": "3d780b263b6346df8ac72e26a7d5fd65",
       "version_major": 2,
       "version_minor": 0
      },
      "text/plain": [
       "HBox(children=(IntProgress(value=0, max=59), HTML(value='')))"
      ]
     },
     "metadata": {},
     "output_type": "display_data"
    },
    {
     "name": "stdout",
     "output_type": "stream",
     "text": [
      "https://gunosy.com/articles/azuHATextList_compreted\n",
      "https://gunosy.com/articles/azuHATextList_compreted\n",
      "https://gunosy.com/articles/RfajzTextList_compreted\n",
      "https://gunosy.com/articles/RfajzTextList_compreted\n",
      "https://gunosy.com/articles/auYBbTextList_compreted\n",
      "https://gunosy.com/articles/auYBbTextList_compreted\n",
      "https://gunosy.com/articles/RCxJ0TextList_compreted\n",
      "https://gunosy.com/articles/RCxJ0TextList_compreted\n",
      "https://gunosy.com/articles/aYKH7TextList_compreted\n",
      "https://gunosy.com/articles/aYKH7TextList_compreted\n",
      "https://gunosy.com/articles/RN5SlTextList_compreted\n",
      "https://gunosy.com/articles/RN5SlTextList_compreted\n",
      "https://gunosy.com/articles/RpTPMTextList_compreted\n",
      "https://gunosy.com/articles/RpTPMTextList_compreted\n",
      "https://gunosy.com/articles/RWK87TextList_compreted\n",
      "https://gunosy.com/articles/RWK87TextList_compreted\n",
      "https://gunosy.com/articles/aWO1ATextList_compreted\n",
      "https://gunosy.com/articles/RvHvMTextList_compreted\n",
      "https://gunosy.com/articles/RvHvMTextList_compreted\n",
      "https://gunosy.com/articles/Rb4XQTextList_compreted\n",
      "https://gunosy.com/articles/Rb4XQTextList_compreted\n",
      "https://gunosy.com/articles/RJNT7TextList_compreted\n",
      "https://gunosy.com/articles/RJNT7TextList_compreted\n",
      "https://gunosy.com/articles/Rnr9ATextList_compreted\n",
      "https://gunosy.com/articles/Rnr9ATextList_compreted\n",
      "https://gunosy.com/articles/aOHzbTextList_compreted\n",
      "https://gunosy.com/articles/aOHzbTextList_compreted\n",
      "https://gunosy.com/articles/RuoPjTextList_compreted\n",
      "https://gunosy.com/articles/RuoPjTextList_compreted\n",
      "https://gunosy.com/articles/R3EZ0TextList_compreted\n",
      "https://gunosy.com/articles/R3EZ0TextList_compreted\n",
      "https://gunosy.com/articles/RQaJMTextList_compreted\n",
      "https://gunosy.com/articles/RQaJMTextList_compreted\n",
      "https://gunosy.com/articles/R0MMbTextList_compreted\n",
      "https://gunosy.com/articles/R0MMbTextList_compreted\n",
      "https://gunosy.com/articles/RjcjzTextList_compreted\n",
      "https://gunosy.com/articles/RjcjzTextList_compreted\n",
      "https://gunosy.com/articles/aLuYjTextList_compreted\n",
      "https://gunosy.com/articles/aLuYjTextList_compreted\n",
      "https://gunosy.com/articles/RWN7bTextList_compreted\n",
      "https://gunosy.com/articles/RWN7bTextList_compreted\n",
      "https://gunosy.com/articles/Rp9LjTextList_compreted\n",
      "https://gunosy.com/articles/Rp9LjTextList_compreted\n",
      "https://gunosy.com/articles/algfQTextList_compreted\n",
      "https://gunosy.com/articles/algfQTextList_compreted\n",
      "https://gunosy.com/articles/R035ATextList_compreted\n",
      "https://gunosy.com/articles/R035ATextList_compreted\n",
      "https://gunosy.com/articles/aRxybTextList_compreted\n",
      "https://gunosy.com/articles/aRxybTextList_compreted\n",
      "https://gunosy.com/articles/aPyYlTextList_compreted\n",
      "https://gunosy.com/articles/aPyYlTextList_compreted\n",
      "https://gunosy.com/articles/a0ZzRTextList_compreted\n",
      "https://gunosy.com/articles/a0ZzRTextList_compreted\n",
      "https://gunosy.com/articles/aFsZ0TextList_compreted\n",
      "https://gunosy.com/articles/aFsZ0TextList_compreted\n",
      "https://gunosy.com/articles/RudBbTextList_compreted\n",
      "https://gunosy.com/articles/RudBbTextList_compreted\n",
      "https://gunosy.com/articles/RMGC7TextList_compreted\n",
      "https://gunosy.com/articles/RMGC7TextList_compreted\n",
      "\n",
      "エンタメcompleted--------------------\n"
     ]
    },
    {
     "data": {
      "application/vnd.jupyter.widget-view+json": {
       "model_id": "357c7dc40288444c89be341b20220465",
       "version_major": 2,
       "version_minor": 0
      },
      "text/plain": [
       "HBox(children=(IntProgress(value=0, max=60), HTML(value='')))"
      ]
     },
     "metadata": {},
     "output_type": "display_data"
    },
    {
     "name": "stdout",
     "output_type": "stream",
     "text": [
      "https://gunosy.com/articles/RQYRRTextList_compreted\n",
      "https://gunosy.com/articles/RQYRRTextList_compreted\n",
      "https://gunosy.com/articles/RWYPlTextList_compreted\n",
      "https://gunosy.com/articles/RWYPlTextList_compreted\n",
      "https://gunosy.com/articles/a4WhbTextList_compreted\n",
      "https://gunosy.com/articles/a4WhbTextList_compreted\n",
      "https://gunosy.com/articles/apxwyTextList_compreted\n",
      "https://gunosy.com/articles/apxwyTextList_compreted\n",
      "https://gunosy.com/articles/RIFLMTextList_compreted\n",
      "https://gunosy.com/articles/RIFLMTextList_compreted\n",
      "https://gunosy.com/articles/RBjeFTextList_compreted\n",
      "https://gunosy.com/articles/RBjeFTextList_compreted\n",
      "https://gunosy.com/articles/abt20TextList_compreted\n",
      "https://gunosy.com/articles/abt20TextList_compreted\n",
      "https://gunosy.com/articles/aq7YlTextList_compreted\n",
      "https://gunosy.com/articles/aq7YlTextList_compreted\n",
      "https://gunosy.com/articles/aH5FRTextList_compreted\n",
      "https://gunosy.com/articles/aH5FRTextList_compreted\n",
      "https://gunosy.com/articles/RK8nFTextList_compreted\n",
      "https://gunosy.com/articles/RK8nFTextList_compreted\n",
      "https://gunosy.com/articles/RVlIATextList_compreted\n",
      "https://gunosy.com/articles/RVlIATextList_compreted\n",
      "https://gunosy.com/articles/RwXjRTextList_compreted\n",
      "https://gunosy.com/articles/RwXjRTextList_compreted\n",
      "https://gunosy.com/articles/R3nvjTextList_compreted\n",
      "https://gunosy.com/articles/R3nvjTextList_compreted\n",
      "https://gunosy.com/articles/RQKO4TextList_compreted\n",
      "https://gunosy.com/articles/RQKO4TextList_compreted\n",
      "https://gunosy.com/articles/awMmBTextList_compreted\n",
      "https://gunosy.com/articles/awMmBTextList_compreted\n",
      "https://gunosy.com/articles/aLdsFTextList_compreted\n",
      "https://gunosy.com/articles/aLdsFTextList_compreted\n",
      "https://gunosy.com/articles/am2EQTextList_compreted\n",
      "https://gunosy.com/articles/am2EQTextList_compreted\n",
      "https://gunosy.com/articles/Rf5XBTextList_compreted\n",
      "https://gunosy.com/articles/Rf5XBTextList_compreted\n",
      "https://gunosy.com/articles/RyzP0TextList_compreted\n",
      "https://gunosy.com/articles/RyzP0TextList_compreted\n",
      "https://gunosy.com/articles/atJKFTextList_compreted\n",
      "https://gunosy.com/articles/atJKFTextList_compreted\n",
      "https://gunosy.com/articles/a7FiMTextList_compreted\n",
      "https://gunosy.com/articles/a7FiMTextList_compreted\n",
      "https://gunosy.com/articles/R32jzTextList_compreted\n",
      "https://gunosy.com/articles/R32jzTextList_compreted\n",
      "https://gunosy.com/articles/R8XilTextList_compreted\n",
      "https://gunosy.com/articles/R8XilTextList_compreted\n",
      "https://gunosy.com/articles/R0xdlTextList_compreted\n",
      "https://gunosy.com/articles/R0xdlTextList_compreted\n",
      "https://gunosy.com/articles/aZKGMTextList_compreted\n",
      "https://gunosy.com/articles/aZKGMTextList_compreted\n",
      "https://gunosy.com/articles/RbemFTextList_compreted\n",
      "https://gunosy.com/articles/RbemFTextList_compreted\n",
      "https://gunosy.com/articles/aesajTextList_compreted\n",
      "https://gunosy.com/articles/aesajTextList_compreted\n",
      "https://gunosy.com/articles/RBsYMTextList_compreted\n",
      "https://gunosy.com/articles/RBsYMTextList_compreted\n",
      "https://gunosy.com/articles/atZCATextList_compreted\n",
      "https://gunosy.com/articles/atZCATextList_compreted\n",
      "https://gunosy.com/articles/a0H4RTextList_compreted\n",
      "https://gunosy.com/articles/a0H4RTextList_compreted\n",
      "\n",
      "スポーツcompleted--------------------\n"
     ]
    },
    {
     "data": {
      "application/vnd.jupyter.widget-view+json": {
       "model_id": "d03485d4b2e94b7a8a9f7bc01ae4a563",
       "version_major": 2,
       "version_minor": 0
      },
      "text/plain": [
       "HBox(children=(IntProgress(value=0, max=60), HTML(value='')))"
      ]
     },
     "metadata": {},
     "output_type": "display_data"
    },
    {
     "name": "stdout",
     "output_type": "stream",
     "text": [
      "https://gunosy.com/articles/aXL7hTextList_compreted\n",
      "https://gunosy.com/articles/aXL7hTextList_compreted\n",
      "https://gunosy.com/articles/RLO2MTextList_compreted\n",
      "https://gunosy.com/articles/RLO2MTextList_compreted\n",
      "https://gunosy.com/articles/RjtMhTextList_compreted\n",
      "https://gunosy.com/articles/RjtMhTextList_compreted\n",
      "https://gunosy.com/articles/RN7OQTextList_compreted\n",
      "https://gunosy.com/articles/RN7OQTextList_compreted\n",
      "https://gunosy.com/articles/aAZjzTextList_compreted\n",
      "https://gunosy.com/articles/aAZjzTextList_compreted\n",
      "https://gunosy.com/articles/RT7YlTextList_compreted\n",
      "https://gunosy.com/articles/RT7YlTextList_compreted\n",
      "https://gunosy.com/articles/R5ToQTextList_compreted\n",
      "https://gunosy.com/articles/R5ToQTextList_compreted\n",
      "https://gunosy.com/articles/aEXrFTextList_compreted\n",
      "https://gunosy.com/articles/aEXrFTextList_compreted\n",
      "https://gunosy.com/articles/a0DxBTextList_compreted\n",
      "https://gunosy.com/articles/a0DxBTextList_compreted\n",
      "https://gunosy.com/articles/RdaKFTextList_compreted\n",
      "https://gunosy.com/articles/RdaKFTextList_compreted\n",
      "https://gunosy.com/articles/RdB67TextList_compreted\n",
      "https://gunosy.com/articles/RdB67TextList_compreted\n",
      "https://gunosy.com/articles/aExybTextList_compreted\n",
      "https://gunosy.com/articles/aExybTextList_compreted\n",
      "https://gunosy.com/articles/RXqbbTextList_compreted\n",
      "https://gunosy.com/articles/RXqbbTextList_compreted\n",
      "https://gunosy.com/articles/a7vAhTextList_compreted\n",
      "https://gunosy.com/articles/a7vAhTextList_compreted\n",
      "https://gunosy.com/articles/RQxnQTextList_compreted\n",
      "https://gunosy.com/articles/RQxnQTextList_compreted\n",
      "https://gunosy.com/articles/RFcN4TextList_compreted\n",
      "https://gunosy.com/articles/RFcN4TextList_compreted\n",
      "https://gunosy.com/articles/aEiWATextList_compreted\n",
      "https://gunosy.com/articles/aEiWATextList_compreted\n",
      "https://gunosy.com/articles/aDnH7TextList_compreted\n",
      "https://gunosy.com/articles/aDnH7TextList_compreted\n",
      "https://gunosy.com/articles/a7upBTextList_compreted\n",
      "https://gunosy.com/articles/a7upBTextList_compreted\n",
      "https://gunosy.com/articles/Rnh0bTextList_compreted\n",
      "https://gunosy.com/articles/Rnh0bTextList_compreted\n",
      "https://gunosy.com/articles/RBD4bTextList_compreted\n",
      "https://gunosy.com/articles/RBD4bTextList_compreted\n",
      "https://gunosy.com/articles/RuVlRTextList_compreted\n",
      "https://gunosy.com/articles/RuVlRTextList_compreted\n",
      "https://gunosy.com/articles/alZi0TextList_compreted\n",
      "https://gunosy.com/articles/alZi0TextList_compreted\n",
      "https://gunosy.com/articles/aLxFzTextList_compreted\n",
      "https://gunosy.com/articles/aLxFzTextList_compreted\n",
      "https://gunosy.com/articles/RBv8ATextList_compreted\n",
      "https://gunosy.com/articles/RBv8ATextList_compreted\n",
      "https://gunosy.com/articles/RVRiMTextList_compreted\n",
      "https://gunosy.com/articles/RVRiMTextList_compreted\n",
      "https://gunosy.com/articles/RW4QhTextList_compreted\n",
      "https://gunosy.com/articles/RW4QhTextList_compreted\n",
      "https://gunosy.com/articles/aDeajTextList_compreted\n",
      "https://gunosy.com/articles/aDeajTextList_compreted\n",
      "https://gunosy.com/articles/agjJjTextList_compreted\n",
      "https://gunosy.com/articles/agjJjTextList_compreted\n",
      "https://gunosy.com/articles/RBojRTextList_compreted\n",
      "https://gunosy.com/articles/RBojRTextList_compreted\n",
      "\n",
      "おもしろcompleted--------------------\n"
     ]
    },
    {
     "data": {
      "application/vnd.jupyter.widget-view+json": {
       "model_id": "47ae451337fd4a81984f3a424055a097",
       "version_major": 2,
       "version_minor": 0
      },
      "text/plain": [
       "HBox(children=(IntProgress(value=0, max=59), HTML(value='')))"
      ]
     },
     "metadata": {},
     "output_type": "display_data"
    },
    {
     "name": "stdout",
     "output_type": "stream",
     "text": [
      "https://gunosy.com/articles/amMlbTextList_compreted\n",
      "https://gunosy.com/articles/amMlbTextList_compreted\n",
      "https://gunosy.com/articles/R52sFTextList_compreted\n",
      "https://gunosy.com/articles/R52sFTextList_compreted\n",
      "https://gunosy.com/articles/Rmw3yTextList_compreted\n",
      "https://gunosy.com/articles/Rmw3yTextList_compreted\n",
      "https://gunosy.com/articles/a6wMhTextList_compreted\n",
      "https://gunosy.com/articles/a6wMhTextList_compreted\n",
      "https://gunosy.com/articles/aqKDlTextList_compreted\n",
      "https://gunosy.com/articles/aqKDlTextList_compreted\n",
      "https://gunosy.com/articles/acya0TextList_compreted\n",
      "https://gunosy.com/articles/acya0TextList_compreted\n",
      "https://gunosy.com/articles/RFv2jTextList_compreted\n",
      "https://gunosy.com/articles/RFv2jTextList_compreted\n",
      "https://gunosy.com/articles/RvOH7TextList_compreted\n",
      "https://gunosy.com/articles/RvOH7TextList_compreted\n",
      "https://gunosy.com/articles/a4w7zTextList_compreted\n",
      "https://gunosy.com/articles/a4w7zTextList_compreted\n",
      "https://gunosy.com/articles/RYJe4TextList_compreted\n",
      "https://gunosy.com/articles/RYJe4TextList_compreted\n",
      "https://gunosy.com/articles/RubIATextList_compreted\n",
      "https://gunosy.com/articles/RubIATextList_compreted\n",
      "https://gunosy.com/articles/RYliMTextList_compreted\n",
      "https://gunosy.com/articles/RYliMTextList_compreted\n",
      "https://gunosy.com/articles/RWneBTextList_compreted\n",
      "https://gunosy.com/articles/RWneBTextList_compreted\n",
      "https://gunosy.com/articles/RqOujTextList_compreted\n",
      "https://gunosy.com/articles/RqOujTextList_compreted\n",
      "https://gunosy.com/articles/a68RbTextList_compreted\n",
      "https://gunosy.com/articles/RvPZMTextList_compreted\n",
      "https://gunosy.com/articles/RvPZMTextList_compreted\n",
      "https://gunosy.com/articles/Rp40bTextList_compreted\n",
      "https://gunosy.com/articles/Rp40bTextList_compreted\n",
      "https://gunosy.com/articles/R8NdlTextList_compreted\n",
      "https://gunosy.com/articles/R8NdlTextList_compreted\n",
      "https://gunosy.com/articles/ag6V4TextList_compreted\n",
      "https://gunosy.com/articles/ag6V4TextList_compreted\n",
      "https://gunosy.com/articles/aYX2MTextList_compreted\n",
      "https://gunosy.com/articles/aYX2MTextList_compreted\n",
      "https://gunosy.com/articles/aCvL0TextList_compreted\n",
      "https://gunosy.com/articles/aCvL0TextList_compreted\n",
      "https://gunosy.com/articles/aGHuMTextList_compreted\n",
      "https://gunosy.com/articles/aGHuMTextList_compreted\n",
      "https://gunosy.com/articles/aFJt7TextList_compreted\n",
      "https://gunosy.com/articles/aFJt7TextList_compreted\n",
      "https://gunosy.com/articles/R2O5yTextList_compreted\n",
      "https://gunosy.com/articles/R2O5yTextList_compreted\n",
      "https://gunosy.com/articles/RJB57TextList_compreted\n",
      "https://gunosy.com/articles/RJB57TextList_compreted\n",
      "https://gunosy.com/articles/RpZ37TextList_compreted\n",
      "https://gunosy.com/articles/RpZ37TextList_compreted\n",
      "https://gunosy.com/articles/RWQMbTextList_compreted\n",
      "https://gunosy.com/articles/RWQMbTextList_compreted\n",
      "https://gunosy.com/articles/RZRARTextList_compreted\n",
      "https://gunosy.com/articles/RZRARTextList_compreted\n",
      "https://gunosy.com/articles/aZSI7TextList_compreted\n",
      "https://gunosy.com/articles/aZSI7TextList_compreted\n",
      "https://gunosy.com/articles/am9KBTextList_compreted\n",
      "https://gunosy.com/articles/am9KBTextList_compreted\n",
      "\n",
      "国内completed--------------------\n"
     ]
    },
    {
     "data": {
      "application/vnd.jupyter.widget-view+json": {
       "model_id": "06d5168756f647d3a9c477196a0ae485",
       "version_major": 2,
       "version_minor": 0
      },
      "text/plain": [
       "HBox(children=(IntProgress(value=0, max=58), HTML(value='')))"
      ]
     },
     "metadata": {},
     "output_type": "display_data"
    },
    {
     "name": "stdout",
     "output_type": "stream",
     "text": [
      "https://gunosy.com/articles/RAYTATextList_compreted\n",
      "https://gunosy.com/articles/RAYTATextList_compreted\n",
      "https://gunosy.com/articles/apJN4TextList_compreted\n",
      "https://gunosy.com/articles/apJN4TextList_compreted\n",
      "https://gunosy.com/articles/aqBu0TextList_compreted\n",
      "https://gunosy.com/articles/aqBu0TextList_compreted\n",
      "https://gunosy.com/articles/afGyhTextList_compreted\n",
      "https://gunosy.com/articles/afGyhTextList_compreted\n",
      "https://gunosy.com/articles/R3sGMTextList_compreted\n",
      "https://gunosy.com/articles/RjdQbTextList_compreted\n",
      "https://gunosy.com/articles/RjdQbTextList_compreted\n",
      "https://gunosy.com/articles/RYwBRTextList_compreted\n",
      "https://gunosy.com/articles/RYwBRTextList_compreted\n",
      "https://gunosy.com/articles/aflKQTextList_compreted\n",
      "https://gunosy.com/articles/aflKQTextList_compreted\n",
      "https://gunosy.com/articles/R0ZhRTextList_compreted\n",
      "https://gunosy.com/articles/R0ZhRTextList_compreted\n",
      "https://gunosy.com/articles/aH2JMTextList_compreted\n",
      "https://gunosy.com/articles/aH2JMTextList_compreted\n",
      "https://gunosy.com/articles/amSHATextList_compreted\n",
      "https://gunosy.com/articles/amSHATextList_compreted\n",
      "https://gunosy.com/articles/RhOS0TextList_compreted\n",
      "https://gunosy.com/articles/RhOS0TextList_compreted\n",
      "https://gunosy.com/articles/azCV4TextList_compreted\n",
      "https://gunosy.com/articles/azCV4TextList_compreted\n",
      "https://gunosy.com/articles/RdZbRTextList_compreted\n",
      "https://gunosy.com/articles/RdZbRTextList_compreted\n",
      "https://gunosy.com/articles/RCyNFTextList_compreted\n",
      "https://gunosy.com/articles/RCyNFTextList_compreted\n",
      "https://gunosy.com/articles/RwdalTextList_compreted\n",
      "https://gunosy.com/articles/RwdalTextList_compreted\n",
      "https://gunosy.com/articles/aLw17TextList_compreted\n",
      "https://gunosy.com/articles/aLw17TextList_compreted\n",
      "https://gunosy.com/articles/Ro9vMTextList_compreted\n",
      "https://gunosy.com/articles/Ro9vMTextList_compreted\n",
      "https://gunosy.com/articles/RmMrBTextList_compreted\n",
      "https://gunosy.com/articles/RmMrBTextList_compreted\n",
      "https://gunosy.com/articles/RhMbzTextList_compreted\n",
      "https://gunosy.com/articles/RPdhRTextList_compreted\n",
      "https://gunosy.com/articles/RPdhRTextList_compreted\n",
      "https://gunosy.com/articles/RL03ATextList_compreted\n",
      "https://gunosy.com/articles/RL03ATextList_compreted\n",
      "https://gunosy.com/articles/RJn6yTextList_compreted\n",
      "https://gunosy.com/articles/RJn6yTextList_compreted\n",
      "https://gunosy.com/articles/RAtBRTextList_compreted\n",
      "https://gunosy.com/articles/RAtBRTextList_compreted\n",
      "https://gunosy.com/articles/RXGKFTextList_compreted\n",
      "https://gunosy.com/articles/RXGKFTextList_compreted\n",
      "https://gunosy.com/articles/R5Lt7TextList_compreted\n",
      "https://gunosy.com/articles/R5Lt7TextList_compreted\n",
      "https://gunosy.com/articles/aPzeFTextList_compreted\n",
      "https://gunosy.com/articles/aPzeFTextList_compreted\n",
      "https://gunosy.com/articles/azILjTextList_compreted\n",
      "https://gunosy.com/articles/azILjTextList_compreted\n",
      "https://gunosy.com/articles/RZSRRTextList_compreted\n",
      "https://gunosy.com/articles/RZSRRTextList_compreted\n",
      "https://gunosy.com/articles/RdPvlTextList_compreted\n",
      "https://gunosy.com/articles/RdPvlTextList_compreted\n",
      "\n",
      "海外completed--------------------\n"
     ]
    },
    {
     "data": {
      "application/vnd.jupyter.widget-view+json": {
       "model_id": "be0a50e11ec2425fb8b62dee8d570c3b",
       "version_major": 2,
       "version_minor": 0
      },
      "text/plain": [
       "HBox(children=(IntProgress(value=0, max=60), HTML(value='')))"
      ]
     },
     "metadata": {},
     "output_type": "display_data"
    },
    {
     "name": "stdout",
     "output_type": "stream",
     "text": [
      "https://gunosy.com/articles/RXZN4TextList_compreted\n",
      "https://gunosy.com/articles/RXZN4TextList_compreted\n",
      "https://gunosy.com/articles/afIIyTextList_compreted\n",
      "https://gunosy.com/articles/afIIyTextList_compreted\n",
      "https://gunosy.com/articles/RnFg7TextList_compreted\n",
      "https://gunosy.com/articles/RnFg7TextList_compreted\n",
      "https://gunosy.com/articles/RiuI7TextList_compreted\n",
      "https://gunosy.com/articles/RiuI7TextList_compreted\n",
      "https://gunosy.com/articles/aCyn4TextList_compreted\n",
      "https://gunosy.com/articles/aCyn4TextList_compreted\n",
      "https://gunosy.com/articles/RIvSMTextList_compreted\n",
      "https://gunosy.com/articles/RIvSMTextList_compreted\n",
      "https://gunosy.com/articles/RrHZlTextList_compreted\n",
      "https://gunosy.com/articles/RrHZlTextList_compreted\n",
      "https://gunosy.com/articles/RXr0RTextList_compreted\n",
      "https://gunosy.com/articles/RXr0RTextList_compreted\n",
      "https://gunosy.com/articles/awzbzTextList_compreted\n"
     ]
    }
   ],
   "source": [
    "# (id, category, text, url)\n",
    "index = 0\n",
    "\n",
    "for name, url_list in category_url_dic.items():\n",
    "    \n",
    "    for url in tqdm(url_list):\n",
    "        text = text_scraping(url)\n",
    "        text = \"　\".join(map(str, text))\n",
    "        data = [(index, category_dic[name], text, url)]\n",
    "        c.executemany(\"INSERT INTO textlist VALUES(?, ?, ?, ?)\", data)\n",
    "        index += 1\n",
    "    print(name + \"completed\" + \"-\"*20)\n",
    "c.close()"
   ]
  }
 ],
 "metadata": {
  "hide_input": false,
  "kernelspec": {
   "display_name": "Python 3",
   "language": "python",
   "name": "python3"
  },
  "language_info": {
   "codemirror_mode": {
    "name": "ipython",
    "version": 3
   },
   "file_extension": ".py",
   "mimetype": "text/x-python",
   "name": "python",
   "nbconvert_exporter": "python",
   "pygments_lexer": "ipython3",
   "version": "3.6.5"
  },
  "latex_envs": {
   "LaTeX_envs_menu_present": true,
   "autoclose": false,
   "autocomplete": true,
   "bibliofile": "biblio.bib",
   "cite_by": "apalike",
   "current_citInitial": 1,
   "eqLabelWithNumbers": true,
   "eqNumInitial": 1,
   "hotkeys": {
    "equation": "Ctrl-E",
    "itemize": "Ctrl-I"
   },
   "labels_anchors": false,
   "latex_user_defs": false,
   "report_style_numbering": false,
   "user_envs_cfg": false
  },
  "toc": {
   "base_numbering": 1,
   "nav_menu": {},
   "number_sections": true,
   "sideBar": true,
   "skip_h1_title": false,
   "title_cell": "Table of Contents",
   "title_sidebar": "Contents",
   "toc_cell": false,
   "toc_position": {},
   "toc_section_display": true,
   "toc_window_display": false
  }
 },
 "nbformat": 4,
 "nbformat_minor": 2
}
