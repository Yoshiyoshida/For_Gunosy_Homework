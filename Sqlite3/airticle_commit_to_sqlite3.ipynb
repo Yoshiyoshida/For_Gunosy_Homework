{
 "cells": [
  {
   "cell_type": "markdown",
   "metadata": {
    "ExecuteTime": {
     "end_time": "2018-12-22T03:28:16.137913Z",
     "start_time": "2018-12-22T03:28:16.134566Z"
    }
   },
   "source": [
    "# 概要\n",
    "- スクレイピングで対象ページの記事を全てdbに落とす\n",
    "-  とりあえずdb (id, category, text, url)で定義する"
   ]
  },
  {
   "cell_type": "markdown",
   "metadata": {},
   "source": [
    "# ライブラリimport "
   ]
  },
  {
   "cell_type": "code",
   "execution_count": 1,
   "metadata": {
    "ExecuteTime": {
     "end_time": "2018-12-22T04:16:31.285646Z",
     "start_time": "2018-12-22T04:16:30.895441Z"
    }
   },
   "outputs": [],
   "source": [
    "import requests\n",
    "import urllib\n",
    "import sqlite3\n",
    "import re\n",
    "import time\n",
    "from bs4 import BeautifulSoup as BS"
   ]
  },
  {
   "cell_type": "markdown",
   "metadata": {},
   "source": [
    "# スクレイピング用の関数定義"
   ]
  },
  {
   "cell_type": "code",
   "execution_count": 2,
   "metadata": {
    "ExecuteTime": {
     "end_time": "2018-12-22T04:16:31.299922Z",
     "start_time": "2018-12-22T04:16:31.287902Z"
    }
   },
   "outputs": [],
   "source": [
    "# トップページからカテゴリ別に分けられてるページのURLを抽出\n",
    "def main_url_func(main_url):\n",
    "    main_url_dic = {}\n",
    "    res = urllib.request.urlopen(main_url)\n",
    "    data = res.read()\n",
    "    text = data.decode(\"utf-8\")\n",
    "    soup = BS(text, 'html.parser')\n",
    "    ul = soup.html.body.nav.ul\n",
    "    li = ul.find_all('li', class_=re.compile(r'^(nav_color_).$'),)\n",
    "\n",
    "    for i in li:    \n",
    "        main_url_dic[i.a.string] = i.a.attrs['href']\n",
    "    return main_url_dic\n",
    "\n",
    "\n",
    "# カテゴリごとのページを訪れ、次のページへのリンクを抽出\n",
    "def same_category_other_page_url(main_dic):\n",
    "\n",
    "    for category, start_url  in main_dic.items():\n",
    "        other_pages_list = [start_url]\n",
    "        all_url_dic = {}\n",
    "        \n",
    "        url = start_url\n",
    "        res = urllib.request.urlopen(url)\n",
    "        time.sleep(1)\n",
    "        data = res.read()\n",
    "        text = data.decode(\"utf-8\")\n",
    "        soup = BS(text, \"html.parser\")\n",
    "    \n",
    "        body = soup.html.body\n",
    "        li = body.find_all(\"a\", href=re.compile(r'^/categories/1.'))\n",
    "    \n",
    "        for i in li:\n",
    "            other_pages_list.append(\"https://gunosy.com\" + i.attrs['href'])\n",
    "            \n",
    "        all_url_dic[category] = set(other_pages_list)\n",
    "        \n",
    "    return all_url_dic\n",
    "\n",
    "\n",
    "#　カテゴリ別のページにアクセスして記事のあるURLを抽出\n",
    "def categpry_url_func(main_dic):\n",
    "    sub_url_dic = {}\n",
    "    \n",
    "    for category, url in main_dic.items():\n",
    "        url_list = []  \n",
    "        res = urllib.request.urlopen(url)\n",
    "        time.sleep(1)\n",
    "        data = res.read()\n",
    "        text = data.decode(\"utf-8\")\n",
    "        soup = BS(text, \"html.parser\")\n",
    "        soup_html = soup.html.body\n",
    "        li = soup_html.find_all(\"a\", href=re.compile(r'^https://gunosy.com/articles/'))\n",
    "    \n",
    "        for i in li:\n",
    "            url_list.append(i.attrs['href'])\n",
    "        \n",
    "        sub_url_dic[category] = url_list\n",
    "    \n",
    "    return sub_url_dic\n",
    "\n",
    "# 記事のtextをスクレイピング\n",
    "#　{category:[url_list], ....}を入力したら、カテゴリ全てのtextが\n",
    "def text_scraping(url_dic):\n",
    "    text_list = []\n",
    "    category_text_dic = {}\n",
    "    for category, li in url_dic.items():\n",
    "        for url in li:\n",
    "            res = urllib.request.urlopen(url)\n",
    "            time.sleep(1)\n",
    "            data = res.read()\n",
    "            text = data.decode(\"utf-8\")\n",
    "            soup = BS(text, \"html.parser\")\n",
    "            body = soup.html.body\n",
    "            articlie = body.find_all(\"p\")\n",
    "            for i in articlie:\n",
    "                text_list.append(i.string)\n",
    "        category_text_dic[category] = text_list\n",
    "    return  category_text_dic"
   ]
  },
  {
   "cell_type": "markdown",
   "metadata": {},
   "source": [
    "# URLの取得"
   ]
  },
  {
   "cell_type": "code",
   "execution_count": 3,
   "metadata": {
    "ExecuteTime": {
     "end_time": "2018-12-22T04:16:49.751106Z",
     "start_time": "2018-12-22T04:16:34.234163Z"
    }
   },
   "outputs": [],
   "source": [
    "top_url = \"https://gunosy.com\"\n",
    "main_url_dic = main_url_func(top_url)\n",
    "\n",
    "categpry_url_dic = categpry_url_func(main_url_dic)"
   ]
  },
  {
   "cell_type": "code",
   "execution_count": 4,
   "metadata": {
    "ExecuteTime": {
     "end_time": "2018-12-22T04:16:49.772491Z",
     "start_time": "2018-12-22T04:16:49.753559Z"
    }
   },
   "outputs": [
    {
     "data": {
      "text/plain": [
       "dict_keys(['エンタメ', 'スポーツ', 'おもしろ', '国内', '海外', 'コラム', 'IT・科学', 'グルメ'])"
      ]
     },
     "execution_count": 4,
     "metadata": {},
     "output_type": "execute_result"
    }
   ],
   "source": [
    "categpry_url_dic.keys()"
   ]
  },
  {
   "cell_type": "code",
   "execution_count": null,
   "metadata": {
    "ExecuteTime": {
     "start_time": "2018-12-22T04:16:39.351Z"
    }
   },
   "outputs": [],
   "source": [
    "text_scraping(categpry_url_dic)[\"エンタメ\"]"
   ]
  },
  {
   "cell_type": "markdown",
   "metadata": {},
   "source": [
    "# dbの定義"
   ]
  },
  {
   "cell_type": "code",
   "execution_count": null,
   "metadata": {
    "ExecuteTime": {
     "start_time": "2018-12-22T04:17:00.088Z"
    }
   },
   "outputs": [],
   "source": [
    "# dbに接続する\n",
    "conn = sqlite3.connect('GunosyText.db')\n",
    "c = conn.cursor()\n",
    "\n",
    "# テーブルの作成\n",
    "c.execute('''CREATE TABLE textlist(id real, category real, airticle text, url text)''')"
   ]
  },
  {
   "cell_type": "markdown",
   "metadata": {},
   "source": [
    "# 記事のスクレイピングと記事をdbに保存\n",
    "**「逐次的にアクセスして保存」**\n",
    "1. 記事のURLにアクセス\n",
    "2. 記事をスクレイピング\n",
    "3. 　dbに保存"
   ]
  },
  {
   "cell_type": "code",
   "execution_count": null,
   "metadata": {
    "ExecuteTime": {
     "start_time": "2018-12-22T04:17:08.032Z"
    }
   },
   "outputs": [],
   "source": [
    "count = 0\n",
    "categpry_dic = {}\n",
    "for name in categpry_url_dic.keys():\n",
    "    categpry_dic[name] = count\n",
    "    count += 1\n",
    "categpry_dic"
   ]
  },
  {
   "cell_type": "code",
   "execution_count": null,
   "metadata": {
    "ExecuteTime": {
     "start_time": "2018-12-22T04:20:32.026Z"
    }
   },
   "outputs": [],
   "source": [
    "# (id, category, text, url)\n",
    "index = 0\n",
    "category_text_list = text_scraping(categpry_url_dic)\n",
    "\n",
    "for name, text in category_text_list.items():\n",
    "        c.execute(\"INSERT INTO textlist VALUES(index, categpry_dic[name], text, url)\")\n"
   ]
  },
  {
   "cell_type": "code",
   "execution_count": null,
   "metadata": {},
   "outputs": [],
   "source": []
  }
 ],
 "metadata": {
  "hide_input": false,
  "kernelspec": {
   "display_name": "Python 3",
   "language": "python",
   "name": "python3"
  },
  "language_info": {
   "codemirror_mode": {
    "name": "ipython",
    "version": 3
   },
   "file_extension": ".py",
   "mimetype": "text/x-python",
   "name": "python",
   "nbconvert_exporter": "python",
   "pygments_lexer": "ipython3",
   "version": "3.6.5"
  },
  "latex_envs": {
   "LaTeX_envs_menu_present": true,
   "autoclose": false,
   "autocomplete": true,
   "bibliofile": "biblio.bib",
   "cite_by": "apalike",
   "current_citInitial": 1,
   "eqLabelWithNumbers": true,
   "eqNumInitial": 1,
   "hotkeys": {
    "equation": "Ctrl-E",
    "itemize": "Ctrl-I"
   },
   "labels_anchors": false,
   "latex_user_defs": false,
   "report_style_numbering": false,
   "user_envs_cfg": false
  },
  "toc": {
   "base_numbering": 1,
   "nav_menu": {},
   "number_sections": true,
   "sideBar": true,
   "skip_h1_title": false,
   "title_cell": "Table of Contents",
   "title_sidebar": "Contents",
   "toc_cell": false,
   "toc_position": {},
   "toc_section_display": true,
   "toc_window_display": false
  }
 },
 "nbformat": 4,
 "nbformat_minor": 2
}
