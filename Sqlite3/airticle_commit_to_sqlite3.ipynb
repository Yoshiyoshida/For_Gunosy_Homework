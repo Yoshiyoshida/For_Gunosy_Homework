{
 "cells": [
  {
   "cell_type": "markdown",
   "metadata": {
    "ExecuteTime": {
     "end_time": "2018-12-22T03:28:16.137913Z",
     "start_time": "2018-12-22T03:28:16.134566Z"
    }
   },
   "source": [
    "# 概要\n",
    "- スクレイピングで対象ページの記事を全てdbに落とす\n",
    "-  とりあえずdb (id, category, text, url)で定義する"
   ]
  },
  {
   "cell_type": "markdown",
   "metadata": {},
   "source": [
    "# ライブラリimport "
   ]
  },
  {
   "cell_type": "code",
   "execution_count": 1,
   "metadata": {
    "ExecuteTime": {
     "end_time": "2018-12-22T05:50:17.833663Z",
     "start_time": "2018-12-22T05:50:17.573871Z"
    }
   },
   "outputs": [],
   "source": [
    "import requests\n",
    "import urllib\n",
    "import sqlite3\n",
    "import re\n",
    "import time\n",
    "from bs4 import BeautifulSoup as BS\n",
    "from tqdm import tqdm_notebook as tqdm"
   ]
  },
  {
   "cell_type": "markdown",
   "metadata": {},
   "source": [
    "# スクレイピング用の関数定義"
   ]
  },
  {
   "cell_type": "code",
   "execution_count": 2,
   "metadata": {
    "ExecuteTime": {
     "end_time": "2018-12-22T05:50:17.849099Z",
     "start_time": "2018-12-22T05:50:17.835980Z"
    }
   },
   "outputs": [],
   "source": [
    "# トップページからカテゴリ別に分けられてるページのURLを抽出\n",
    "def main_url_func(main_url):\n",
    "    main_url_dic = {}\n",
    "    res = urllib.request.urlopen(main_url)\n",
    "    data = res.read()\n",
    "    text = data.decode(\"utf-8\")\n",
    "    soup = BS(text, 'html.parser')\n",
    "    ul = soup.html.body.nav.ul\n",
    "    li = ul.find_all('li', class_=re.compile(r'^(nav_color_).$'),)\n",
    "\n",
    "    for i in li:    \n",
    "        main_url_dic[i.a.string] = i.a.attrs['href']\n",
    "    return main_url_dic\n",
    "\n",
    "\n",
    "# カテゴリごとのページを訪れ、次のページへのリンクを抽出\n",
    "def same_category_other_page_url(main_dic):\n",
    "\n",
    "    for category, start_url  in main_dic.items():\n",
    "        other_pages_list = [start_url]\n",
    "        all_url_dic = {}\n",
    "        \n",
    "        url = start_url\n",
    "        res = urllib.request.urlopen(url)\n",
    "        time.sleep(1)\n",
    "        data = res.read()\n",
    "        text = data.decode(\"utf-8\")\n",
    "        soup = BS(text, \"html.parser\")\n",
    "    \n",
    "        body = soup.html.body\n",
    "        li = body.find_all(\"a\", href=re.compile(r'^/categories/1.'))\n",
    "    \n",
    "        for i in li:\n",
    "            other_pages_list.append(\"https://gunosy.com\" + i.attrs['href'])\n",
    "            \n",
    "        all_url_dic[category] = set(other_pages_list)\n",
    "        \n",
    "    return all_url_dic\n",
    "\n",
    "\n",
    "#　カテゴリ別のページにアクセスして記事のあるURLを抽出\n",
    "def category_url_func(main_dic):\n",
    "    sub_url_dic = {}\n",
    "    \n",
    "    for category, url in main_dic.items():\n",
    "        url_list = []  \n",
    "        res = urllib.request.urlopen(url)\n",
    "        time.sleep(1)\n",
    "        data = res.read()\n",
    "        text = data.decode(\"utf-8\")\n",
    "        soup = BS(text, \"html.parser\")\n",
    "        soup_html = soup.html.body\n",
    "        li = soup_html.find_all(\"a\", href=re.compile(r'^https://gunosy.com/articles/'))\n",
    "    \n",
    "        for i in li:\n",
    "            url_list.append(i.attrs['href'])\n",
    "        \n",
    "        sub_url_dic[category] = url_list\n",
    "    \n",
    "    return sub_url_dic\n",
    "\n",
    "# 記事のtextをスクレイピング\n",
    "#　URLを入力したら、textがリストで返る\n",
    "def text_scraping(url):\n",
    "    try:\n",
    "        text_list = []\n",
    "        res = urllib.request.urlopen(url)\n",
    "        time.sleep(1)\n",
    "        data = res.read()\n",
    "        text = data.decode(\"utf-8\")\n",
    "        soup = BS(text, \"html.parser\")\n",
    "        body = soup.html.body\n",
    "        articlie = body.find_all(\"p\")\n",
    "        for i in articlie:\n",
    "            text_list.append(i.string)\n",
    "    except:\n",
    "        print(\"ERROR\")\n",
    "        print({}).format(url)\n",
    "    return text_list"
   ]
  },
  {
   "cell_type": "markdown",
   "metadata": {},
   "source": [
    "# URLの取得"
   ]
  },
  {
   "cell_type": "code",
   "execution_count": 3,
   "metadata": {
    "ExecuteTime": {
     "end_time": "2018-12-22T05:50:33.669104Z",
     "start_time": "2018-12-22T05:50:17.852817Z"
    }
   },
   "outputs": [],
   "source": [
    "top_url = \"https://gunosy.com\"\n",
    "main_url_dic = main_url_func(top_url)\n",
    "\n",
    "category_url_dic = category_url_func(main_url_dic)"
   ]
  },
  {
   "cell_type": "markdown",
   "metadata": {},
   "source": [
    "# dbの定義"
   ]
  },
  {
   "cell_type": "code",
   "execution_count": 4,
   "metadata": {
    "ExecuteTime": {
     "end_time": "2018-12-22T05:50:33.683018Z",
     "start_time": "2018-12-22T05:50:33.671375Z"
    }
   },
   "outputs": [],
   "source": [
    "# dbに接続する\n",
    "conn = sqlite3.connect('GunosyText.db')\n",
    "c = conn.cursor()\n",
    "\n",
    "# テーブルの作成\n",
    "try:\n",
    "    c.execute('''CREATE TABLE textlist(id real, category real, airticle text, url text)''')\n",
    "except:\n",
    "    print(\"すでにDBがあります\")"
   ]
  },
  {
   "cell_type": "markdown",
   "metadata": {},
   "source": [
    "# 記事のスクレイピングと記事をdbに保存\n",
    "**「逐次的にアクセスして保存」**\n",
    "1. 記事のURLにアクセス\n",
    "2. 記事をスクレイピング\n",
    "3. 　dbに保存"
   ]
  },
  {
   "cell_type": "code",
   "execution_count": 5,
   "metadata": {
    "ExecuteTime": {
     "end_time": "2018-12-22T05:50:33.720987Z",
     "start_time": "2018-12-22T05:50:33.691729Z"
    }
   },
   "outputs": [
    {
     "data": {
      "text/plain": [
       "{'エンタメ': 0,\n",
       " 'スポーツ': 1,\n",
       " 'おもしろ': 2,\n",
       " '国内': 3,\n",
       " '海外': 4,\n",
       " 'コラム': 5,\n",
       " 'IT・科学': 6,\n",
       " 'グルメ': 7}"
      ]
     },
     "execution_count": 5,
     "metadata": {},
     "output_type": "execute_result"
    }
   ],
   "source": [
    "count = 0\n",
    "category_dic = {}\n",
    "for name in category_url_dic.keys():\n",
    "    category_dic[name] = count\n",
    "    count += 1\n",
    "category_dic"
   ]
  },
  {
   "cell_type": "markdown",
   "metadata": {},
   "source": [
    "## テスト用のコード"
   ]
  },
  {
   "cell_type": "code",
   "execution_count": 6,
   "metadata": {
    "ExecuteTime": {
     "end_time": "2018-12-22T05:50:33.735714Z",
     "start_time": "2018-12-22T05:50:33.724444Z"
    },
    "scrolled": true
   },
   "outputs": [
    {
     "data": {
      "text/plain": [
       "' \\n\\nindex = 0\\n\\nfor name, url_list in {\"IT・科学\":category_url_dic[\\'IT・科学\\']}.items():\\n    \\n    for url in tqdm(url_list):\\n        text = text_scraping(url)\\n        text = \"\\u3000\".join(map(str, text))\\n        data = [(index, category_dic[name], text, url)]\\n        c.executemany(\"INSERT INTO textlist VALUES(?, ?, ?, ?)\", data)\\n        index += 1\\nc.close()\\n'"
      ]
     },
     "execution_count": 6,
     "metadata": {},
     "output_type": "execute_result"
    }
   ],
   "source": [
    "# (id, category, text, url)\n",
    "\"\"\" \n",
    "\n",
    "index = 0\n",
    "\n",
    "for name, url_list in {\"IT・科学\":category_url_dic['IT・科学']}.items():\n",
    "    \n",
    "    for url in tqdm(url_list):\n",
    "        text = text_scraping(url)\n",
    "        text = \"　\".join(map(str, text))\n",
    "        data = [(index, category_dic[name], text, url)]\n",
    "        c.executemany(\"INSERT INTO textlist VALUES(?, ?, ?, ?)\", data)\n",
    "        index += 1\n",
    "c.close()\n",
    "\"\"\" \n"
   ]
  },
  {
   "cell_type": "markdown",
   "metadata": {},
   "source": [
    "## 本ちゃんコード"
   ]
  },
  {
   "cell_type": "code",
   "execution_count": null,
   "metadata": {
    "ExecuteTime": {
     "start_time": "2018-12-22T05:50:17.459Z"
    }
   },
   "outputs": [
    {
     "data": {
      "application/vnd.jupyter.widget-view+json": {
       "model_id": "1979130eb1ea4bd2bcd2e5b99356a234",
       "version_major": 2,
       "version_minor": 0
      },
      "text/plain": [
       "HBox(children=(IntProgress(value=0, max=59), HTML(value='')))"
      ]
     },
     "metadata": {},
     "output_type": "display_data"
    }
   ],
   "source": [
    "# (id, category, text, url)\n",
    "index = 0\n",
    "\n",
    "for name, url_list in category_url_dic.items():\n",
    "    \n",
    "    for url in tqdm(url_list):\n",
    "        text = text_scraping(url)\n",
    "        text = \"　\".join(map(str, text))\n",
    "        data = [(index, category_dic[name], text, url)]\n",
    "        c.executemany(\"INSERT INTO textlist VALUES(?, ?, ?, ?)\", data)\n",
    "        index += 1\n",
    "c.close()"
   ]
  },
  {
   "cell_type": "markdown",
   "metadata": {},
   "source": [
    "# DBの確認"
   ]
  },
  {
   "cell_type": "code",
   "execution_count": null,
   "metadata": {},
   "outputs": [],
   "source": []
  }
 ],
 "metadata": {
  "hide_input": false,
  "kernelspec": {
   "display_name": "Python 3",
   "language": "python",
   "name": "python3"
  },
  "language_info": {
   "codemirror_mode": {
    "name": "ipython",
    "version": 3
   },
   "file_extension": ".py",
   "mimetype": "text/x-python",
   "name": "python",
   "nbconvert_exporter": "python",
   "pygments_lexer": "ipython3",
   "version": "3.6.5"
  },
  "latex_envs": {
   "LaTeX_envs_menu_present": true,
   "autoclose": false,
   "autocomplete": true,
   "bibliofile": "biblio.bib",
   "cite_by": "apalike",
   "current_citInitial": 1,
   "eqLabelWithNumbers": true,
   "eqNumInitial": 1,
   "hotkeys": {
    "equation": "Ctrl-E",
    "itemize": "Ctrl-I"
   },
   "labels_anchors": false,
   "latex_user_defs": false,
   "report_style_numbering": false,
   "user_envs_cfg": false
  },
  "toc": {
   "base_numbering": 1,
   "nav_menu": {},
   "number_sections": true,
   "sideBar": true,
   "skip_h1_title": false,
   "title_cell": "Table of Contents",
   "title_sidebar": "Contents",
   "toc_cell": false,
   "toc_position": {},
   "toc_section_display": true,
   "toc_window_display": false
  }
 },
 "nbformat": 4,
 "nbformat_minor": 2
}
