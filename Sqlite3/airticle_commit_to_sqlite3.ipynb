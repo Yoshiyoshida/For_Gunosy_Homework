{
 "cells": [
  {
   "cell_type": "markdown",
   "metadata": {
    "ExecuteTime": {
     "end_time": "2018-12-22T03:28:16.137913Z",
     "start_time": "2018-12-22T03:28:16.134566Z"
    }
   },
   "source": [
    "# 概要\n",
    "- スクレイピングで対象ページの記事を全てdbに落とす\n",
    "-  とりあえずdb (id, category, text, url)で定義する"
   ]
  },
  {
   "cell_type": "markdown",
   "metadata": {},
   "source": [
    "# ライブラリimport "
   ]
  },
  {
   "cell_type": "code",
   "execution_count": 1,
   "metadata": {
    "ExecuteTime": {
     "end_time": "2018-12-22T04:24:26.227655Z",
     "start_time": "2018-12-22T04:24:25.806239Z"
    }
   },
   "outputs": [],
   "source": [
    "import requests\n",
    "import urllib\n",
    "import sqlite3\n",
    "import re\n",
    "import time\n",
    "from bs4 import BeautifulSoup as BS"
   ]
  },
  {
   "cell_type": "markdown",
   "metadata": {},
   "source": [
    "# スクレイピング用の関数定義"
   ]
  },
  {
   "cell_type": "code",
   "execution_count": 12,
   "metadata": {
    "ExecuteTime": {
     "end_time": "2018-12-22T04:33:16.549660Z",
     "start_time": "2018-12-22T04:33:16.537694Z"
    }
   },
   "outputs": [],
   "source": [
    "# トップページからカテゴリ別に分けられてるページのURLを抽出\n",
    "def main_url_func(main_url):\n",
    "    main_url_dic = {}\n",
    "    res = urllib.request.urlopen(main_url)\n",
    "    data = res.read()\n",
    "    text = data.decode(\"utf-8\")\n",
    "    soup = BS(text, 'html.parser')\n",
    "    ul = soup.html.body.nav.ul\n",
    "    li = ul.find_all('li', class_=re.compile(r'^(nav_color_).$'),)\n",
    "\n",
    "    for i in li:    \n",
    "        main_url_dic[i.a.string] = i.a.attrs['href']\n",
    "    return main_url_dic\n",
    "\n",
    "\n",
    "# カテゴリごとのページを訪れ、次のページへのリンクを抽出\n",
    "def same_category_other_page_url(main_dic):\n",
    "\n",
    "    for category, start_url  in main_dic.items():\n",
    "        other_pages_list = [start_url]\n",
    "        all_url_dic = {}\n",
    "        \n",
    "        url = start_url\n",
    "        res = urllib.request.urlopen(url)\n",
    "        time.sleep(1)\n",
    "        data = res.read()\n",
    "        text = data.decode(\"utf-8\")\n",
    "        soup = BS(text, \"html.parser\")\n",
    "    \n",
    "        body = soup.html.body\n",
    "        li = body.find_all(\"a\", href=re.compile(r'^/categories/1.'))\n",
    "    \n",
    "        for i in li:\n",
    "            other_pages_list.append(\"https://gunosy.com\" + i.attrs['href'])\n",
    "            \n",
    "        all_url_dic[category] = set(other_pages_list)\n",
    "        \n",
    "    return all_url_dic\n",
    "\n",
    "\n",
    "#　カテゴリ別のページにアクセスして記事のあるURLを抽出\n",
    "def categpry_url_func(main_dic):\n",
    "    sub_url_dic = {}\n",
    "    \n",
    "    for category, url in main_dic.items():\n",
    "        url_list = []  \n",
    "        res = urllib.request.urlopen(url)\n",
    "        time.sleep(1)\n",
    "        data = res.read()\n",
    "        text = data.decode(\"utf-8\")\n",
    "        soup = BS(text, \"html.parser\")\n",
    "        soup_html = soup.html.body\n",
    "        li = soup_html.find_all(\"a\", href=re.compile(r'^https://gunosy.com/articles/'))\n",
    "    \n",
    "        for i in li:\n",
    "            url_list.append(i.attrs['href'])\n",
    "        \n",
    "        sub_url_dic[category] = url_list\n",
    "    \n",
    "    return sub_url_dic\n",
    "\n",
    "# 記事のtextをスクレイピング\n",
    "#　URLを入力したら、textがリストで返る\n",
    "def text_scraping(url):\n",
    "    text_list = []\n",
    "    res = urllib.request.urlopen(url)\n",
    "    time.sleep(1)\n",
    "    data = res.read()\n",
    "    text = data.decode(\"utf-8\")\n",
    "    soup = BS(text, \"html.parser\")\n",
    "    body = soup.html.body\n",
    "    articlie = body.find_all(\"p\")\n",
    "    for i in articlie:\n",
    "        text_list.append(i.string)\n",
    "    return text_list"
   ]
  },
  {
   "cell_type": "markdown",
   "metadata": {},
   "source": [
    "# URLの取得"
   ]
  },
  {
   "cell_type": "code",
   "execution_count": 3,
   "metadata": {
    "ExecuteTime": {
     "end_time": "2018-12-22T04:24:38.758278Z",
     "start_time": "2018-12-22T04:24:26.259197Z"
    }
   },
   "outputs": [],
   "source": [
    "top_url = \"https://gunosy.com\"\n",
    "main_url_dic = main_url_func(top_url)\n",
    "\n",
    "categpry_url_dic = categpry_url_func(main_url_dic)"
   ]
  },
  {
   "cell_type": "code",
   "execution_count": 4,
   "metadata": {
    "ExecuteTime": {
     "end_time": "2018-12-22T04:24:38.778127Z",
     "start_time": "2018-12-22T04:24:38.760707Z"
    }
   },
   "outputs": [
    {
     "data": {
      "text/plain": [
       "dict_keys(['エンタメ', 'スポーツ', 'おもしろ', '国内', '海外', 'コラム', 'IT・科学', 'グルメ'])"
      ]
     },
     "execution_count": 4,
     "metadata": {},
     "output_type": "execute_result"
    }
   ],
   "source": [
    "categpry_url_dic.keys()"
   ]
  },
  {
   "cell_type": "markdown",
   "metadata": {},
   "source": [
    "# dbの定義"
   ]
  },
  {
   "cell_type": "code",
   "execution_count": 6,
   "metadata": {
    "ExecuteTime": {
     "end_time": "2018-12-22T04:25:07.859131Z",
     "start_time": "2018-12-22T04:25:07.850058Z"
    }
   },
   "outputs": [
    {
     "data": {
      "text/plain": [
       "<sqlite3.Cursor at 0x10f427c70>"
      ]
     },
     "execution_count": 6,
     "metadata": {},
     "output_type": "execute_result"
    }
   ],
   "source": [
    "# dbに接続する\n",
    "conn = sqlite3.connect('GunosyText.db')\n",
    "c = conn.cursor()\n",
    "\n",
    "# テーブルの作成\n",
    "c.execute('''CREATE TABLE textlist(id real, category real, airticle text, url text)''')"
   ]
  },
  {
   "cell_type": "markdown",
   "metadata": {},
   "source": [
    "# 記事のスクレイピングと記事をdbに保存\n",
    "**「逐次的にアクセスして保存」**\n",
    "1. 記事のURLにアクセス\n",
    "2. 記事をスクレイピング\n",
    "3. 　dbに保存"
   ]
  },
  {
   "cell_type": "code",
   "execution_count": 7,
   "metadata": {
    "ExecuteTime": {
     "end_time": "2018-12-22T04:25:10.300956Z",
     "start_time": "2018-12-22T04:25:10.294917Z"
    }
   },
   "outputs": [
    {
     "data": {
      "text/plain": [
       "{'エンタメ': 0,\n",
       " 'スポーツ': 1,\n",
       " 'おもしろ': 2,\n",
       " '国内': 3,\n",
       " '海外': 4,\n",
       " 'コラム': 5,\n",
       " 'IT・科学': 6,\n",
       " 'グルメ': 7}"
      ]
     },
     "execution_count": 7,
     "metadata": {},
     "output_type": "execute_result"
    }
   ],
   "source": [
    "count = 0\n",
    "categpry_dic = {}\n",
    "for name in categpry_url_dic.keys():\n",
    "    categpry_dic[name] = count\n",
    "    count += 1\n",
    "categpry_dic"
   ]
  },
  {
   "cell_type": "code",
   "execution_count": 13,
   "metadata": {
    "ExecuteTime": {
     "end_time": "2018-12-22T04:43:25.329657Z",
     "start_time": "2018-12-22T04:43:24.030691Z"
    }
   },
   "outputs": [
    {
     "name": "stdout",
     "output_type": "stream",
     "text": [
      "https://gunosy.com/articles/awjBhTextList_compreted\n"
     ]
    },
    {
     "ename": "OperationalError",
     "evalue": "near \"index\": syntax error",
     "output_type": "error",
     "traceback": [
      "\u001b[0;31m---------------------------------------------------------------------------\u001b[0m",
      "\u001b[0;31mOperationalError\u001b[0m                          Traceback (most recent call last)",
      "\u001b[0;32m<ipython-input-13-e3f610852271>\u001b[0m in \u001b[0;36m<module>\u001b[0;34m()\u001b[0m\n\u001b[1;32m      7\u001b[0m         \u001b[0mtext\u001b[0m \u001b[0;34m=\u001b[0m \u001b[0mtext_scraping\u001b[0m\u001b[0;34m(\u001b[0m\u001b[0murl\u001b[0m\u001b[0;34m)\u001b[0m\u001b[0;34m\u001b[0m\u001b[0m\n\u001b[1;32m      8\u001b[0m         \u001b[0mprint\u001b[0m\u001b[0;34m(\u001b[0m\u001b[0murl\u001b[0m \u001b[0;34m+\u001b[0m \u001b[0;34m\"TextList_compreted\"\u001b[0m\u001b[0;34m)\u001b[0m\u001b[0;34m\u001b[0m\u001b[0m\n\u001b[0;32m----> 9\u001b[0;31m         \u001b[0mc\u001b[0m\u001b[0;34m.\u001b[0m\u001b[0mexecute\u001b[0m\u001b[0;34m(\u001b[0m\u001b[0;34m\"INSERT INTO textlist VALUES(index, categpry_dic[name], text, url)\"\u001b[0m\u001b[0;34m)\u001b[0m\u001b[0;34m\u001b[0m\u001b[0m\n\u001b[0m\u001b[1;32m     10\u001b[0m         \u001b[0mindex\u001b[0m \u001b[0;34m+=\u001b[0m \u001b[0;36m1\u001b[0m\u001b[0;34m\u001b[0m\u001b[0m\n\u001b[1;32m     11\u001b[0m     \u001b[0mprint\u001b[0m\u001b[0;34m(\u001b[0m\u001b[0mname\u001b[0m \u001b[0;34m+\u001b[0m \u001b[0;34m\"completed\"\u001b[0m \u001b[0;34m+\u001b[0m \u001b[0;34m\"-\"\u001b[0m\u001b[0;34m*\u001b[0m\u001b[0;36m20\u001b[0m\u001b[0;34m)\u001b[0m\u001b[0;34m\u001b[0m\u001b[0m\n",
      "\u001b[0;31mOperationalError\u001b[0m: near \"index\": syntax error"
     ]
    }
   ],
   "source": [
    "# (id, category, text, url)\n",
    "index = 0\n",
    "\n",
    "for name, url_list in categpry_url_dic.items():\n",
    "    \n",
    "    for url in url_list:\n",
    "        text = text_scraping(url)\n",
    "        print(url + \"TextList_compreted\")\n",
    "        c.execute(\"INSERT INTO textlist VALUES(index, categpry_dic[name], text, url)\")\n",
    "        index += 1\n",
    "    print(name + \"completed\" + \"-\"*20)"
   ]
  },
  {
   "cell_type": "code",
   "execution_count": null,
   "metadata": {},
   "outputs": [],
   "source": []
  }
 ],
 "metadata": {
  "hide_input": false,
  "kernelspec": {
   "display_name": "Python 3",
   "language": "python",
   "name": "python3"
  },
  "latex_envs": {
   "LaTeX_envs_menu_present": true,
   "autoclose": false,
   "autocomplete": true,
   "bibliofile": "biblio.bib",
   "cite_by": "apalike",
   "current_citInitial": 1,
   "eqLabelWithNumbers": true,
   "eqNumInitial": 1,
   "hotkeys": {
    "equation": "Ctrl-E",
    "itemize": "Ctrl-I"
   },
   "labels_anchors": false,
   "latex_user_defs": false,
   "report_style_numbering": false,
   "user_envs_cfg": false
  },
  "toc": {
   "base_numbering": 1,
   "nav_menu": {},
   "number_sections": true,
   "sideBar": true,
   "skip_h1_title": false,
   "title_cell": "Table of Contents",
   "title_sidebar": "Contents",
   "toc_cell": false,
   "toc_position": {},
   "toc_section_display": true,
   "toc_window_display": false
  }
 },
 "nbformat": 4,
 "nbformat_minor": 2
}
