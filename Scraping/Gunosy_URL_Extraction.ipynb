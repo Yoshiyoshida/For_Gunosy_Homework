{
 "cells": [
  {
   "cell_type": "markdown",
   "metadata": {
    "ExecuteTime": {
     "end_time": "2018-12-21T13:33:41.394849Z",
     "start_time": "2018-12-21T13:33:40.994097Z"
    }
   },
   "source": [
    "# 概要"
   ]
  },
  {
   "cell_type": "markdown",
   "metadata": {},
   "source": [
    "1.　トップページからカテゴリ別のURLを抽出=> **dic**\n",
    "\n",
    "2.　カテゴリのトップページからリンク(次のページ)のURLを抽出 => **dic**\n",
    "\n",
    "3.　カテゴリごとに全抽出済みのURLから記事を読む "
   ]
  },
  {
   "cell_type": "markdown",
   "metadata": {},
   "source": [
    "# ライブラリ import "
   ]
  },
  {
   "cell_type": "code",
   "execution_count": 1,
   "metadata": {
    "ExecuteTime": {
     "end_time": "2018-12-22T03:00:00.261812Z",
     "start_time": "2018-12-22T02:59:59.891968Z"
    }
   },
   "outputs": [],
   "source": [
    "import requests\n",
    "import urllib\n",
    "from bs4 import BeautifulSoup as BS\n",
    "import re\n",
    "import time"
   ]
  },
  {
   "cell_type": "markdown",
   "metadata": {},
   "source": [
    "# 関数定義"
   ]
  },
  {
   "cell_type": "code",
   "execution_count": 2,
   "metadata": {
    "ExecuteTime": {
     "end_time": "2018-12-22T03:00:00.283841Z",
     "start_time": "2018-12-22T03:00:00.265022Z"
    }
   },
   "outputs": [],
   "source": [
    "# トップページからカテゴリ別に分けられてるページのURLを抽出\n",
    "def main_url_func(main_url):\n",
    "    res = urllib.request.urlopen(main_url)\n",
    "    data = res.read()\n",
    "    text = data.decode(\"utf-8\")\n",
    "    soup = BS(text, 'html.parser')\n",
    "    ul = soup.html.body.nav.ul\n",
    "    li = ul.find_all('li', class_=re.compile(r'^(nav_color_).$'),)\n",
    "\n",
    "    for i in li:    \n",
    "        main_url_dic[i.a.string] = i.a.attrs['href']\n",
    "    return main_url_dic\n",
    "\n",
    "\n",
    "# カテゴリごとのページを訪れ、次のページへのリンクを抽出\n",
    "def same_category_other_page_url(main_dic):\n",
    "\n",
    "    for category, start_url  in main_dic.items():\n",
    "        other_pages_list = [start_url]\n",
    "        all_url_dic = {}\n",
    "        \n",
    "        url = start_url\n",
    "        res = urllib.request.urlopen(url)\n",
    "        time.sleep(1)\n",
    "        data = res.read()\n",
    "        text = data.decode(\"utf-8\")\n",
    "        soup = BS(text, \"html.parser\")\n",
    "    \n",
    "        body = soup.html.body\n",
    "        li = body.find_all(\"a\", href=re.compile(r'^/categories/1.'))\n",
    "    \n",
    "        for i in li:\n",
    "            other_pages_list.append(\"https://gunosy.com\" + i.attrs['href'])\n",
    "            \n",
    "        all_url_dic[category] = set(other_pages_list)\n",
    "        \n",
    "    return all_url_dic\n",
    "\n",
    "\n",
    "#　カテゴリ別のページにアクセスして記事のあるURLを抽出\n",
    "def categpry_url_func(main_dic):\n",
    "    sub_url_dic = {}\n",
    "    \n",
    "    for category, url in main_dic.items():\n",
    "        url_list = []  \n",
    "        res = urllib.request.urlopen(url)\n",
    "        time.sleep(1)\n",
    "        data = res.read()\n",
    "        text = data.decode(\"utf-8\")\n",
    "        soup = BS(text, \"html.parser\")\n",
    "        soup_html = soup.html.body\n",
    "        li = soup_html.find_all(\"a\", href=re.compile(r'^https://gunosy.com/articles/'))\n",
    "    \n",
    "        for i in li:\n",
    "            url_list.append(i.attrs['href'])\n",
    "        \n",
    "        sub_url_dic[category] = url_list\n",
    "    \n",
    "    return sub_url_dic\n",
    "\n",
    "# 記事のtextをスクレイピング\n",
    "def text_scraping(url_dic):\n",
    "    for category, li in url_dic.items():\n",
    "        for url in li:\n",
    "            res = urllib.request.urlopen(url)\n",
    "            time.sleep(1)\n",
    "            data = res.read()\n",
    "            text = data.decode(\"utf-8\")\n",
    "            soup = BS(text, \"html.parser\")\n",
    "            body = soup.html.body\n",
    "            articlie = body.find_all(\"p\")\n",
    "            for i in articlie:\n",
    "                print(i.string)"
   ]
  },
  {
   "cell_type": "markdown",
   "metadata": {},
   "source": [
    "# トップページからカテゴリ別のURLを抽出"
   ]
  },
  {
   "cell_type": "code",
   "execution_count": 3,
   "metadata": {
    "ExecuteTime": {
     "end_time": "2018-12-22T03:00:00.648533Z",
     "start_time": "2018-12-22T03:00:00.285811Z"
    }
   },
   "outputs": [
    {
     "ename": "NameError",
     "evalue": "name 'main_url_dic' is not defined",
     "output_type": "error",
     "traceback": [
      "\u001b[0;31m---------------------------------------------------------------------------\u001b[0m",
      "\u001b[0;31mNameError\u001b[0m                                 Traceback (most recent call last)",
      "\u001b[0;32m<ipython-input-3-dfcb2d88044b>\u001b[0m in \u001b[0;36m<module>\u001b[0;34m()\u001b[0m\n\u001b[1;32m      1\u001b[0m \u001b[0mtop_url\u001b[0m \u001b[0;34m=\u001b[0m \u001b[0;34m\"https://gunosy.com\"\u001b[0m\u001b[0;34m\u001b[0m\u001b[0m\n\u001b[0;32m----> 2\u001b[0;31m \u001b[0mmain_url_dic\u001b[0m \u001b[0;34m=\u001b[0m \u001b[0mmain_url_func\u001b[0m\u001b[0;34m(\u001b[0m\u001b[0mtop_url\u001b[0m\u001b[0;34m)\u001b[0m\u001b[0;34m\u001b[0m\u001b[0m\n\u001b[0m",
      "\u001b[0;32m<ipython-input-2-219f7f28221e>\u001b[0m in \u001b[0;36mmain_url_func\u001b[0;34m(main_url)\u001b[0m\n\u001b[1;32m      9\u001b[0m \u001b[0;34m\u001b[0m\u001b[0m\n\u001b[1;32m     10\u001b[0m     \u001b[0;32mfor\u001b[0m \u001b[0mi\u001b[0m \u001b[0;32min\u001b[0m \u001b[0mli\u001b[0m\u001b[0;34m:\u001b[0m\u001b[0;34m\u001b[0m\u001b[0m\n\u001b[0;32m---> 11\u001b[0;31m         \u001b[0mmain_url_dic\u001b[0m\u001b[0;34m[\u001b[0m\u001b[0mi\u001b[0m\u001b[0;34m.\u001b[0m\u001b[0ma\u001b[0m\u001b[0;34m.\u001b[0m\u001b[0mstring\u001b[0m\u001b[0;34m]\u001b[0m \u001b[0;34m=\u001b[0m \u001b[0mi\u001b[0m\u001b[0;34m.\u001b[0m\u001b[0ma\u001b[0m\u001b[0;34m.\u001b[0m\u001b[0mattrs\u001b[0m\u001b[0;34m[\u001b[0m\u001b[0;34m'href'\u001b[0m\u001b[0;34m]\u001b[0m\u001b[0;34m\u001b[0m\u001b[0m\n\u001b[0m\u001b[1;32m     12\u001b[0m     \u001b[0;32mreturn\u001b[0m \u001b[0mmain_url_dic\u001b[0m\u001b[0;34m\u001b[0m\u001b[0m\n\u001b[1;32m     13\u001b[0m \u001b[0;34m\u001b[0m\u001b[0m\n",
      "\u001b[0;31mNameError\u001b[0m: name 'main_url_dic' is not defined"
     ]
    }
   ],
   "source": [
    "top_url = \"https://gunosy.com\"\n",
    "main_url_dic = main_url_func(top_url)"
   ]
  },
  {
   "cell_type": "markdown",
   "metadata": {},
   "source": [
    "# カテゴリのトップページからリンク(次のページ)のURLを抽出"
   ]
  },
  {
   "cell_type": "code",
   "execution_count": null,
   "metadata": {
    "ExecuteTime": {
     "end_time": "2018-12-22T03:00:00.650855Z",
     "start_time": "2018-12-22T02:59:59.756Z"
    }
   },
   "outputs": [],
   "source": [
    "categpry_url_dic = categpry_url_func(main_url_dic)"
   ]
  },
  {
   "cell_type": "code",
   "execution_count": null,
   "metadata": {
    "ExecuteTime": {
     "end_time": "2018-12-22T03:00:00.652506Z",
     "start_time": "2018-12-22T02:59:59.759Z"
    }
   },
   "outputs": [],
   "source": [
    "categpry_url_dic.keys()"
   ]
  },
  {
   "cell_type": "code",
   "execution_count": null,
   "metadata": {
    "ExecuteTime": {
     "end_time": "2018-12-22T03:00:00.654763Z",
     "start_time": "2018-12-22T02:59:59.763Z"
    }
   },
   "outputs": [],
   "source": [
    "categpry_url_dic[\"エンタメ\"][40:]"
   ]
  },
  {
   "cell_type": "code",
   "execution_count": null,
   "metadata": {},
   "outputs": [],
   "source": []
  }
 ],
 "metadata": {
  "hide_input": false,
  "kernelspec": {
   "display_name": "Python 3",
   "language": "python",
   "name": "python3"
  },
  "language_info": {
   "codemirror_mode": {
    "name": "ipython",
    "version": 3
   },
   "file_extension": ".py",
   "mimetype": "text/x-python",
   "name": "python",
   "nbconvert_exporter": "python",
   "pygments_lexer": "ipython3",
   "version": "3.6.5"
  },
  "latex_envs": {
   "LaTeX_envs_menu_present": true,
   "autoclose": false,
   "autocomplete": true,
   "bibliofile": "biblio.bib",
   "cite_by": "apalike",
   "current_citInitial": 1,
   "eqLabelWithNumbers": true,
   "eqNumInitial": 1,
   "hotkeys": {
    "equation": "Ctrl-E",
    "itemize": "Ctrl-I"
   },
   "labels_anchors": false,
   "latex_user_defs": false,
   "report_style_numbering": false,
   "user_envs_cfg": false
  },
  "toc": {
   "base_numbering": 1,
   "nav_menu": {},
   "number_sections": true,
   "sideBar": true,
   "skip_h1_title": false,
   "title_cell": "Table of Contents",
   "title_sidebar": "Contents",
   "toc_cell": false,
   "toc_position": {},
   "toc_section_display": true,
   "toc_window_display": false
  }
 },
 "nbformat": 4,
 "nbformat_minor": 2
}
