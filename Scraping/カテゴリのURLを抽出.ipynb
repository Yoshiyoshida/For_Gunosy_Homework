{
 "cells": [
  {
   "cell_type": "markdown",
   "metadata": {
    "ExecuteTime": {
     "end_time": "2018-12-20T14:10:42.576138Z",
     "start_time": "2018-12-20T14:10:42.570653Z"
    }
   },
   "source": [
    "# カテゴリ別URLの抽出"
   ]
  },
  {
   "cell_type": "markdown",
   "metadata": {},
   "source": [
    "## 必要なライブラリのimport "
   ]
  },
  {
   "cell_type": "code",
   "execution_count": 1,
   "metadata": {
    "ExecuteTime": {
     "end_time": "2018-12-21T10:29:46.760929Z",
     "start_time": "2018-12-21T10:29:46.649976Z"
    }
   },
   "outputs": [],
   "source": [
    "import urllib.request\n",
    "import urllib.parse\n",
    "from bs4 import BeautifulSoup as BS"
   ]
  },
  {
   "cell_type": "markdown",
   "metadata": {},
   "source": [
    "## htmlを抽出"
   ]
  },
  {
   "cell_type": "code",
   "execution_count": 2,
   "metadata": {
    "ExecuteTime": {
     "end_time": "2018-12-21T10:29:47.101991Z",
     "start_time": "2018-12-21T10:29:46.763005Z"
    }
   },
   "outputs": [],
   "source": [
    "url = \" https://gunosy.com/\"\n",
    "res = urllib.request.urlopen(url)\n",
    "data = res.read()\n",
    "text = data.decode(\"utf-8\")"
   ]
  },
  {
   "cell_type": "markdown",
   "metadata": {},
   "source": [
    "## htmlを解析"
   ]
  },
  {
   "cell_type": "code",
   "execution_count": 3,
   "metadata": {
    "ExecuteTime": {
     "end_time": "2018-12-21T10:29:47.158627Z",
     "start_time": "2018-12-21T10:29:47.107933Z"
    }
   },
   "outputs": [],
   "source": [
    "soup = BS(text, 'html.parser')"
   ]
  },
  {
   "cell_type": "code",
   "execution_count": 4,
   "metadata": {
    "ExecuteTime": {
     "end_time": "2018-12-21T10:29:47.489653Z",
     "start_time": "2018-12-21T10:29:47.163266Z"
    }
   },
   "outputs": [
    {
     "data": {
      "text/plain": [
       "<!DOCTYPE html>\n",
       "<html><head>\n",
       "<script type=\"text/javascript\">window.NREUM||(NREUM={});NREUM.info={\"beacon\":\"bam.nr-data.net\",\"errorBeacon\":\"bam.nr-data.net\",\"licenseKey\":\"eaf049d9ba\",\"applicationID\":\"10640075\",\"transactionName\":\"cgpZQRNbWg1QQBxRVlwAGEYJW0E=\",\"queueTime\":0,\"applicationTime\":226,\"agent\":\"\"}</script>\n",
       "<script type=\"text/javascript\">window.NREUM||(NREUM={}),__nr_require=function(e,n,t){function r(t){if(!n[t]){var o=n[t]={exports:{}};e[t][0].call(o.exports,function(n){var o=e[t][1][n];return r(o||n)},o,o.exports)}return n[t].exports}if(\"function\"==typeof __nr_require)return __nr_require;for(var o=0;o<t.length;o++)r(t[o]);return r}({1:[function(e,n,t){function r(){}function o(e,n,t){return function(){return i(e,[c.now()].concat(u(arguments)),n?null:this,t),n?void 0:this}}var i=e(\"handle\"),a=e(3),u=e(4),f=e(\"ee\").get(\"tracer\"),c=e(\"loader\"),s=NREUM;\"undefined\"==typeof window.newrelic&&(newrelic=s);var p=[\"setPageViewName\",\"setCustomAttribute\",\"setErrorHandler\",\"finished\",\"addToTrace\",\"inlineHit\",\"addRelease\"],d=\"api-\",l=d+\"ixn-\";a(p,function(e,n){s[n]=o(d+n,!0,\"api\")}),s.addPageAction=o(d+\"addPageAction\",!0),s.setCurrentRouteName=o(d+\"routeName\",!0),n.exports=newrelic,s.interaction=function(){return(new r).get()};var m=r.prototype={createTracer:function(e,n){var t={},r=this,o=\"function\"==typeof n;return i(l+\"tracer\",[c.now(),e,t],r),function(){if(f.emit((o?\"\":\"no-\")+\"fn-start\",[c.now(),r,o],t),o)try{return n.apply(this,arguments)}catch(e){throw f.emit(\"fn-err\",[arguments,this,e],t),e}finally{f.emit(\"fn-end\",[c.now()],t)}}}};a(\"actionText,setName,setAttribute,save,ignore,onEnd,getContext,end,get\".split(\",\"),function(e,n){m[n]=o(l+n)}),newrelic.noticeError=function(e){\"string\"==typeof e&&(e=new Error(e)),i(\"err\",[e,c.now()])}},{}],2:[function(e,n,t){function r(e,n){if(!o)return!1;if(e!==o)return!1;if(!n)return!0;if(!i)return!1;for(var t=i.split(\".\"),r=n.split(\".\"),a=0;a<r.length;a++)if(r[a]!==t[a])return!1;return!0}var o=null,i=null,a=/Version\\/(\\S+)\\s+Safari/;if(navigator.userAgent){var u=navigator.userAgent,f=u.match(a);f&&u.indexOf(\"Chrome\")===-1&&u.indexOf(\"Chromium\")===-1&&(o=\"Safari\",i=f[1])}n.exports={agent:o,version:i,match:r}},{}],3:[function(e,n,t){function r(e,n){var t=[],r=\"\",i=0;for(r in e)o.call(e,r)&&(t[i]=n(r,e[r]),i+=1);return t}var o=Object.prototype.hasOwnProperty;n.exports=r},{}],4:[function(e,n,t){function r(e,n,t){n||(n=0),\"undefined\"==typeof t&&(t=e?e.length:0);for(var r=-1,o=t-n||0,i=Array(o<0?0:o);++r<o;)i[r]=e[n+r];return i}n.exports=r},{}],5:[function(e,n,t){n.exports={exists:\"undefined\"!=typeof window.performance&&window.performance.timing&&\"undefined\"!=typeof window.performance.timing.navigationStart}},{}],ee:[function(e,n,t){function r(){}function o(e){function n(e){return e&&e instanceof r?e:e?f(e,u,i):i()}function t(t,r,o,i){if(!d.aborted||i){e&&e(t,r,o);for(var a=n(o),u=v(t),f=u.length,c=0;c<f;c++)u[c].apply(a,r);var p=s[y[t]];return p&&p.push([b,t,r,a]),a}}function l(e,n){h[e]=v(e).concat(n)}function m(e,n){var t=h[e];if(t)for(var r=0;r<t.length;r++)t[r]===n&&t.splice(r,1)}function v(e){return h[e]||[]}function g(e){return p[e]=p[e]||o(t)}function w(e,n){c(e,function(e,t){n=n||\"feature\",y[t]=n,n in s||(s[n]=[])})}var h={},y={},b={on:l,addEventListener:l,removeEventListener:m,emit:t,get:g,listeners:v,context:n,buffer:w,abort:a,aborted:!1};return b}function i(){return new r}function a(){(s.api||s.feature)&&(d.aborted=!0,s=d.backlog={})}var u=\"nr@context\",f=e(\"gos\"),c=e(3),s={},p={},d=n.exports=o();d.backlog=s},{}],gos:[function(e,n,t){function r(e,n,t){if(o.call(e,n))return e[n];var r=t();if(Object.defineProperty&&Object.keys)try{return Object.defineProperty(e,n,{value:r,writable:!0,enumerable:!1}),r}catch(i){}return e[n]=r,r}var o=Object.prototype.hasOwnProperty;n.exports=r},{}],handle:[function(e,n,t){function r(e,n,t,r){o.buffer([e],r),o.emit(e,n,t)}var o=e(\"ee\").get(\"handle\");n.exports=r,r.ee=o},{}],id:[function(e,n,t){function r(e){var n=typeof e;return!e||\"object\"!==n&&\"function\"!==n?-1:e===window?0:a(e,i,function(){return o++})}var o=1,i=\"nr@id\",a=e(\"gos\");n.exports=r},{}],loader:[function(e,n,t){function r(){if(!E++){var e=x.info=NREUM.info,n=l.getElementsByTagName(\"script\")[0];if(setTimeout(s.abort,3e4),!(e&&e.licenseKey&&e.applicationID&&n))return s.abort();c(y,function(n,t){e[n]||(e[n]=t)}),f(\"mark\",[\"onload\",a()+x.offset],null,\"api\");var t=l.createElement(\"script\");t.src=\"https://\"+e.agent,n.parentNode.insertBefore(t,n)}}function o(){\"complete\"===l.readyState&&i()}function i(){f(\"mark\",[\"domContent\",a()+x.offset],null,\"api\")}function a(){return O.exists&&performance.now?Math.round(performance.now()):(u=Math.max((new Date).getTime(),u))-x.offset}var u=(new Date).getTime(),f=e(\"handle\"),c=e(3),s=e(\"ee\"),p=e(2),d=window,l=d.document,m=\"addEventListener\",v=\"attachEvent\",g=d.XMLHttpRequest,w=g&&g.prototype;NREUM.o={ST:setTimeout,SI:d.setImmediate,CT:clearTimeout,XHR:g,REQ:d.Request,EV:d.Event,PR:d.Promise,MO:d.MutationObserver};var h=\"\"+location,y={beacon:\"bam.nr-data.net\",errorBeacon:\"bam.nr-data.net\",agent:\"js-agent.newrelic.com/nr-1099.min.js\"},b=g&&w&&w[m]&&!/CriOS/.test(navigator.userAgent),x=n.exports={offset:u,now:a,origin:h,features:{},xhrWrappable:b,userAgent:p};e(1),l[m]?(l[m](\"DOMContentLoaded\",i,!1),d[m](\"load\",r,!1)):(l[v](\"onreadystatechange\",o),d[v](\"onload\",r)),f(\"mark\",[\"firstbyte\",u],null,\"api\");var E=0,O=e(5)},{}]},{},[\"loader\"]);</script><meta content=\"width=device-width,initial-scale=1.0,minimum-scale=1.0,user-scalable=0\" name=\"viewport\"/><meta content=\"apple-itunes-app\" name=\"apple-itunes-app\"/><meta content=\"282785358406948\" property=\"fb:app_id\"/><title>グノシー  無料で読めるニュースまとめ</title>\n",
       "<meta content=\"無料のニュースアプリ、グノシー（Gunosy）は、「エンタメ」「スポーツ」など、幅広い分野の旬のトピックがまとめて読むことができます。100以上のメディア様の情報をご用意しており、チャンネルとして追加していただけます。また、マンガも無料で続々配信中です。スマートフォンアプリでもダウンロードして、ぜひご利用ください。\" name=\"description\"/>\n",
       "<meta content=\"グノシー 雑談力がつくニュースアプリ\" property=\"og:site_name\"/>\n",
       "<meta content=\"website\" property=\"og:type\"/>\n",
       "<meta content=\"ja_JP\" property=\"og:locale\"/>\n",
       "<meta content=\"ニュースアプリ「グノシー」\" property=\"og:title\"/>\n",
       "<meta content=\"雑談力がつくニュースアプリ\" property=\"og:description\"/>\n",
       "<meta content=\"https://gunosy.com\" property=\"og:url\"/>\n",
       "<meta content=\"https://webassets.gunosy.com/assets/gunosy-share-466154a7e6741b0dbc8895ceff97e34818892a0e7dbc05d641d2606f8820dd35.jpg\" property=\"og:image\"/>\n",
       "<meta content=\"Gunosy（グノシー）\" property=\"al:ios:app_name\"/>\n",
       "<meta content=\"590384791\" property=\"al:ios:app_store_id\"/>\n",
       "<meta content=\"Gunosy（グノシー）\" property=\"al:android:app_name\"/>\n",
       "<meta content=\"com.gunosy.android\" property=\"al:android:package\"/>\n",
       "<meta content=\"525154259\" name=\"twitter:account_id\"/>\n",
       "<meta content=\"summary_large_image\" name=\"twitter:card\"/>\n",
       "<meta content=\"@gunosy_news\" name=\"twitter:site\"/>\n",
       "<meta content=\"ニュースアプリ「グノシー」\" name=\"twitter:title\"/>\n",
       "<meta content=\"雑談力がつくニュースアプリ\" name=\"twitter:description\"/>\n",
       "<meta content=\"https://gunosy.com\" name=\"twitter:url\"/>\n",
       "<meta content=\"https://webassets.gunosy.com/assets/gunosy-share-466154a7e6741b0dbc8895ceff97e34818892a0e7dbc05d641d2606f8820dd35.jpg\" name=\"twitter:image\"/>\n",
       "<meta content=\"JP\" name=\"twitter:app:country\"/>\n",
       "<meta content=\"Gunosy（グノシー）\" name=\"twitter:app:name:iphone\"/>\n",
       "<meta content=\"Gunosy（グノシー）\" name=\"twitter:app:name:ipad\"/>\n",
       "<meta content=\"Gunosy（グノシー）\" name=\"twitter:app:name:googleplay\"/>\n",
       "<meta content=\"590384791\" name=\"twitter:app:id:iphone\"/>\n",
       "<meta content=\"590384791\" name=\"twitter:app:id:ipad\"/>\n",
       "<meta content=\"com.gunosy.android\" name=\"twitter:app:id:googleplay\"/>\n",
       "<meta content=\"gunosy:\" name=\"twitter:app:url:iphone\"/>\n",
       "<meta content=\"gunosy:\" name=\"twitter:app:url:ipad\"/>\n",
       "<meta content=\"gunosy:\" name=\"twitter:app:url:googleplay\"/><link href=\"https://webassets.gunosy.com/assets/pc/application-3dc669ce6d540567d0882ac4ec902b25ca14d3b4481f8f16b877d9ff5f7094a4.css\" media=\"all\" rel=\"stylesheet\"/><script src=\"https://webassets.gunosy.com/assets/pc/application-1f9fb263e71bba1e2e8f343560f3e61928cadb8a52096aa7d6ca5429305b5d51.js\"></script><link href=\"/favicon.ico\" rel=\"icon\" type=\"image/x-icon\"/><link href=\"/favicon.ico\" rel=\"shortcut icon\" type=\"image/x-icon\"/><link href=\"/apple-touch-icon.png\" rel=\"apple-touch-icon\"/><meta content=\"authenticity_token\" name=\"csrf-param\"/>\n",
       "<meta content=\"AUuLHHe/JlmwfrimZcEDUH9RaoRlF+ERKbA+ioikZbOe814GpJddzdV8XTCTNjMYi4CHqIp3TsfuahRPkRZgQA==\" name=\"csrf-token\"/></head><body> <!-- Google Tag Manager -->\n",
       "<noscript>\n",
       "<iframe height=\"0\" src=\"//www.googletagmanager.com/ns.html?id=GTM-WWXHMD\" style=\"display:none;visibility:hidden\" width=\"0\"></iframe></noscript>\n",
       "<script>(function(w,d,s,l,i){w[l]=w[l]||[];w[l].push({'gtm.start':\n",
       "  new Date().getTime(),event:'gtm.js'});var f=d.getElementsByTagName(s)[0],\n",
       "  j=d.createElement(s),dl=l!='dataLayer'?'&l='+l:'';j.async=true;j.src=\n",
       "  '//www.googletagmanager.com/gtm.js?id='+i+dl;f.parentNode.insertBefore(j,f);\n",
       "  })(window,document,'script','dataLayer','GTM-WWXHMD');\n",
       "  </script>\n",
       "<!-- End Google Tag Manager -->\n",
       "<header class=\"header\"><div class=\"header_inner\"><div class=\"header_logo\"><a class=\"gunosy_app_icon\" href=\"https://gunosy.com/\"><img alt=\"グノシー\" src=\"https://webassets.gunosy.com/assets/logo-gunosy-airplane-4f7cdb6e13d52ea03234357f40793947fa1509d58e250bd64a4d6d6e15c19492.png\"/><h1 class=\"header_title\">グノシー</h1></a></div><div class=\"header_list\"><ul><li><a href=\"https://gunosy.com/users/sign_in\">ログイン</a></li><li><a href=\"https://gunosy.com/sitemap\">サイトマップ</a></li></ul></div><div class=\"search_box\"><form action=\"/search\" id=\"cse-search-box\"><input class=\"search_box_text\" name=\"q\" type=\"text\" value=\"\"/><button class=\"search_box_btn\"><img alt=\"Search\" src=\"https://webassets.gunosy.com/assets/search-8894a6f51f9125bccc2281ffdbba2cfba5bd4ff240922ebca1a68902fb43e7b0.png\"/></button></form></div><script src=\"//www.google.com/cse/brand?form=cse-search-box&amp;lang=ja\" type=\"text/javascript\"></script></div></header><nav class=\"nav\"><ul class=\"nav_list gtm-click\" data-gtm=\"global_nav\"><li class=\"current nav_color_top\"><a href=\"https://gunosy.com/\">トップ</a></li><li class=\"nav_color_1\" data-id=\"1\"><a href=\"https://gunosy.com/categories/1\">エンタメ</a><ul class=\"nav_sub_list nav_sub_list_1\"><li><a href=\"https://gunosy.com/categories/9\">芸能</a></li><li><a href=\"https://gunosy.com/categories/10\">映画</a></li><li><a href=\"https://gunosy.com/categories/11\">音楽</a></li><li><a href=\"https://gunosy.com/categories/12\">テレビ</a></li><li><a href=\"https://gunosy.com/categories/13\">アニメ</a></li><li><a href=\"https://gunosy.com/categories/14\">ゲーム</a></li><li><a href=\"https://gunosy.com/categories/15\">漫画</a></li><li><a href=\"https://gunosy.com/categories/17\">海外セレブ</a></li></ul></li><li class=\"nav_color_2\" data-id=\"2\"><a href=\"https://gunosy.com/categories/2\">スポーツ</a><ul class=\"nav_sub_list nav_sub_list_2\"><li><a href=\"https://gunosy.com/categories/18\">プロ野球</a></li><li><a href=\"https://gunosy.com/categories/51\">格闘技</a></li><li><a href=\"https://gunosy.com/categories/19\">MLB</a></li><li><a href=\"https://gunosy.com/categories/20\">サッカー日本代表</a></li><li><a href=\"https://gunosy.com/categories/21\">Jリーグ</a></li><li><a href=\"https://gunosy.com/categories/22\">海外サッカー</a></li><li><a href=\"https://gunosy.com/categories/43\">高校野球</a></li><li><a href=\"https://gunosy.com/categories/44\">ゴルフ</a></li><li><a href=\"https://gunosy.com/categories/47\">大相撲</a></li><li><a href=\"https://gunosy.com/categories/48\">テニス</a></li><li><a href=\"https://gunosy.com/categories/54\">フィギュアスケート</a></li></ul></li><li class=\"nav_color_3\" data-id=\"3\"><a href=\"https://gunosy.com/categories/3\">おもしろ</a><ul class=\"nav_sub_list nav_sub_list_3\"><li><a href=\"https://gunosy.com/categories/23\">猫</a></li><li><a href=\"https://gunosy.com/categories/24\">動物</a></li><li><a href=\"https://gunosy.com/categories/25\">ネタ</a></li></ul></li><li class=\"nav_color_4\" data-id=\"4\"><a href=\"https://gunosy.com/categories/4\">国内</a><ul class=\"nav_sub_list nav_sub_list_4\"><li><a href=\"https://gunosy.com/categories/26\">社会</a></li><li><a href=\"https://gunosy.com/categories/27\">経済</a></li><li><a href=\"https://gunosy.com/categories/28\">政治</a></li></ul></li><li class=\"nav_color_5\" data-id=\"5\"><a href=\"https://gunosy.com/categories/5\">海外</a><ul class=\"nav_sub_list nav_sub_list_5\"><li><a href=\"https://gunosy.com/categories/29\">中国・韓国・アジア</a></li><li><a href=\"https://gunosy.com/categories/30\">国外総合</a></li></ul></li><li class=\"nav_color_6\" data-id=\"6\"><a href=\"https://gunosy.com/categories/6\">コラム</a><ul class=\"nav_sub_list nav_sub_list_6\"><li><a href=\"https://gunosy.com/categories/31\">恋愛</a></li><li><a href=\"https://gunosy.com/categories/32\">ビューティー</a></li><li><a href=\"https://gunosy.com/categories/42\">ファッション</a></li><li><a href=\"https://gunosy.com/categories/33\">コラム総合</a></li></ul></li><li class=\"nav_color_7\" data-id=\"7\"><a href=\"https://gunosy.com/categories/7\">IT・科学</a><ul class=\"nav_sub_list nav_sub_list_7\"><li><a href=\"https://gunosy.com/categories/34\">Apple</a></li><li><a href=\"https://gunosy.com/categories/35\">Android</a></li><li><a href=\"https://gunosy.com/categories/36\">IT総合</a></li><li><a href=\"https://gunosy.com/categories/52\">アプリ</a></li><li><a href=\"https://gunosy.com/categories/37\">サイエンス</a></li></ul></li><li class=\"nav_color_8\" data-id=\"8\"><a href=\"https://gunosy.com/categories/8\">グルメ</a><ul class=\"nav_sub_list nav_sub_list_8\"><li><a href=\"https://gunosy.com/categories/38\">お店</a></li><li><a href=\"https://gunosy.com/categories/39\">レシピ</a></li><li><a href=\"https://gunosy.com/categories/40\">新製品</a></li><li><a href=\"https://gunosy.com/categories/41\">グルメ総合</a></li></ul></li><li class=\"nav_color_ranking \"><a href=\"https://gunosy.com/ranking/daily\">ランキング</a></li></ul></nav><div class=\"home_header\"><div class=\"home_header_inner\"><ul class=\"gtm-click\" data-gtm=\"home_haeder_articles\"><li><a class=\"list_home_content\" href=\"https://gunosy.com/articles/RWN7b\"><img class=\"list_home_content_thumb\" src=\"data:image/png;base64,iVBORw0KGgoAAAANSUhEUgAAAAIAAAABCAYAAAD0In+KAAAAGXRFWHRTb2Z0d2FyZQBBZG9iZSBJbWFnZVJlYWR5ccllPAAAAA5JREFUeNpiYIACgAADAAAJAAE0lmO3AAAAAElFTkSuQmCC\" style=\"background-image:url(//images.gunosy.com/12/22/609bcb608ab6eab646b0a33ca36725e7_large.jpg)\"/><div class=\"list_home_content_title\">生田絵梨花、美しすぎる“初ランジェリー”姿を解禁 『FRIDAY』で先行公開</div></a></li><li><a class=\"list_home_content\" href=\"https://gunosy.com/articles/Rp9Lj\"><img class=\"list_home_content_thumb\" src=\"data:image/png;base64,iVBORw0KGgoAAAANSUhEUgAAAAIAAAABCAYAAAD0In+KAAAAGXRFWHRTb2Z0d2FyZQBBZG9iZSBJbWFnZVJlYWR5ccllPAAAAA5JREFUeNpiYIACgAADAAAJAAE0lmO3AAAAAElFTkSuQmCC\" style=\"background-image:url(//images.gunosy.com/12/22/08ab43d30d5ed858b154b6751b6239bf_large.jpg)\"/><div class=\"list_home_content_title\">知らなかった！実は夫婦と聞いて驚く有名人ランキング</div></a></li><li><a class=\"list_home_content\" href=\"https://gunosy.com/articles/aW9E4\"><img class=\"list_home_content_thumb\" src=\"data:image/png;base64,iVBORw0KGgoAAAANSUhEUgAAAAIAAAABCAYAAAD0In+KAAAAGXRFWHRTb2Z0d2FyZQBBZG9iZSBJbWFnZVJlYWR5ccllPAAAAA5JREFUeNpiYIACgAADAAAJAAE0lmO3AAAAAElFTkSuQmCC\" style=\"background-image:url(//images.gunosy.com/12/22/954c12eb415e31541872a82222b015bf_large.jpg)\"/><div class=\"list_home_content_title\">カロリー爆弾だけど...ファミマの「飲むクリーム」が罪の味だった。「一生飲みたい」「これ、やばい」</div></a></li><li><div class=\"list_home_content_ranking\"><img class=\"list_home_content_ranking_thumb\" src=\"data:image/png;base64,iVBORw0KGgoAAAANSUhEUgAAAAIAAAABCAYAAAD0In+KAAAAGXRFWHRTb2Z0d2FyZQBBZG9iZSBJbWFnZVJlYWR5ccllPAAAAA5JREFUeNpiYIACgAADAAAJAAE0lmO3AAAAAElFTkSuQmCC\" style=\"background-image:url(//images.gunosy.com/12/22/d0dbef5222a5c30c2c36e3fe036fa67e_large.jpg)\"/><a class=\"list_home_content_ranking_link\" href=\"https://gunosy.com/ranking/daily\"><img alt=\"Crown\" class=\"icon_crown\" src=\"https://webassets.gunosy.com/assets/crown-6cb57842d0d14d36dbabfc7a6e58bc16a3c01bea590a6af56452cd4985b5f6f5.png\"/><br/>今日の総合<br/>ランキング<br/><img alt=\"Fast forward\" class=\"icon_fast_forward\" src=\"https://webassets.gunosy.com/assets/fast-forward-1ab1ae98f6a9cce33415377c156a0ce4bae378a5ffe393fcce288d3927fa9a36.png\"/></a></div></li></ul></div></div><div class=\"content content_bg\"><div class=\"content_inner\"><div class=\"main\"><div class=\"home_list_wrap gtm-click\" data-gtm=\"home_list\"><div class=\"list_headline\"><h2 class=\"list_headline_title\"><a href=\"https://gunosy.com/categories/1\">エンタメ</a><span class=\"list_headline_ranking\"><a href=\"https://gunosy.com/categories/1/ranking\">エンタメのランキング</a></span><span class=\"list_headline_border list_headline_border_color_1\"></span></h2></div><div class=\"home_list clearfix\"><ul><li><div class=\"home_list_content\"><div class=\"list_text\"><div class=\"list_title\"><a href=\"https://gunosy.com/articles/aRxyb\">生田絵梨花が写真集先行公開「ちょっぴりドキドキ」</a></div><div class=\"list_lead\">セカンド写真集で初のランジェリーショットに挑戦した生田絵梨花乃木坂46生田絵梨花（21）が、セカンド写真集（来年1月22日発売、講談社）で、初のランジェリー姿を披露する。今日21日発売の「FRIDAY」で先行公開されるのは、薄いピンク...</div></div><div class=\"list_thumb list_thumb_right\"><a href=\"https://gunosy.com/articles/aRxyb\"><img alt=\"生田絵梨花が写真集先行公開「ちょっぴりドキドキ」\" src=\"data:image/png;base64,iVBORw0KGgoAAAANSUhEUgAAAAMAAAACCAYAAACddGYaAAAAGXRFWHRTb2Z0d2FyZQBBZG9iZSBJbWFnZVJlYWR5ccllPAAAAA5JREFUeNpiYMAFAAIMAAAaAAHl3zLRAAAAAElFTkSuQmCC\" style=\"background-image:url(//images.gunosy.com/12/22/4437744ca7520e914cdb7ac6b910c62b_large.jpg)\"/></a></div></div></li><li><div class=\"home_list_content_s\"><div class=\"list_thumb\"><a href=\"https://gunosy.com/articles/aefAb\"><img alt=\"『第69回NHK紅白歌合戦』曲目決定\" class=\"lazyload\" height=\"85\" src=\"//images.gunosy.com/12/22/f0479874539b4e596be09c1c9355780d_large.jpg?resize=*:170&amp;crop=170:170;*,*\" width=\"85\"/></a></div><div class=\"list_text\"><div class=\"list_title\"><a href=\"https://gunosy.com/articles/aefAb\">『第69回NHK紅白歌合戦』曲目決定</a></div></div></div></li><li><div class=\"home_list_content_s\"><div class=\"list_thumb\"><a href=\"https://gunosy.com/articles/a9ogy\"><img alt=\"竹内涼真が「ビズリーチ」のCM美女と半同棲生活！\" class=\"lazyload\" height=\"85\" src=\"//images.gunosy.com/12/22/42b80260120da666f023cf070bb584d0_large.jpg?resize=*:170&amp;crop=170:170;*,*\" width=\"85\"/></a></div><div class=\"list_text\"><div class=\"list_title\"><a href=\"https://gunosy.com/articles/a9ogy\">竹内涼真が「ビズリーチ」のCM美女と半同棲生活！</a></div></div></div></li><li><div class=\"home_list_content_s\"><div class=\"list_thumb\"><a href=\"https://gunosy.com/articles/RB7Wy\"><img alt=\"水嶋ヒロと綾香のインスタ投稿にファン感涙 「ママの2文字」「同時に...」\" class=\"lazyload\" height=\"85\" src=\"//images.gunosy.com/12/22/570b45bfd4ce2b820bb22e84bd39336e_large.jpg?resize=*:170&amp;crop=170:170;*,*\" width=\"85\"/></a></div><div class=\"list_text\"><div class=\"list_title\"><a href=\"https://gunosy.com/articles/RB7Wy\">水嶋ヒロと綾香のインスタ投稿にファン感涙 「ママの2文字」「同時に...」</a></div></div></div></li><li><div class=\"home_list_content_s\"><div class=\"list_thumb\"><a href=\"https://gunosy.com/articles/RXQw7\"><img alt=\"オール巨人「M-1グランプリ」審査員について鶴瓶と語る\" class=\"lazyload\" height=\"85\" src=\"//images.gunosy.com/12/22/46e98b2169bcc7f5a071baca1de714fb_large.jpg?resize=*:170&amp;crop=170:170;*,*\" width=\"85\"/></a></div><div class=\"list_text\"><div class=\"list_title\"><a href=\"https://gunosy.com/articles/RXQw7\">オール巨人「M-1グランプリ」審査員について鶴瓶と語る</a></div></div></div></li></ul></div><div class=\"home_list_sub_category clearfix\"><div class=\"home_list_sub_category_title\"><span>絞り込む</span></div><ul><li><a href=\"https://gunosy.com/categories/9\">芸能</a></li><li><a href=\"https://gunosy.com/categories/10\">映画</a></li><li><a href=\"https://gunosy.com/categories/11\">音楽</a></li><li><a href=\"https://gunosy.com/categories/12\">テレビ</a></li><li><a href=\"https://gunosy.com/categories/13\">アニメ</a></li><li><a href=\"https://gunosy.com/categories/14\">ゲーム</a></li><li><a href=\"https://gunosy.com/categories/15\">漫画</a></li><li><a href=\"https://gunosy.com/categories/17\">海外セレブ</a></li></ul></div></div><div class=\"home_list_wrap gtm-click\" data-gtm=\"home_list\"><div class=\"list_headline\"><h2 class=\"list_headline_title\"><a href=\"https://gunosy.com/categories/2\">スポーツ</a><span class=\"list_headline_ranking\"><a href=\"https://gunosy.com/categories/2/ranking\">スポーツのランキング</a></span><span class=\"list_headline_border list_headline_border_color_2\"></span></h2></div><div class=\"home_list clearfix\"><ul><li><div class=\"home_list_content\"><div class=\"list_thumb list_thumb_left\"><a href=\"https://gunosy.com/articles/R0xdl\"><img alt=\"広島菊池ポスティングで米挑戦へ、球団に意思伝える\" src=\"data:image/png;base64,iVBORw0KGgoAAAANSUhEUgAAAAMAAAACCAYAAACddGYaAAAAGXRFWHRTb2Z0d2FyZQBBZG9iZSBJbWFnZVJlYWR5ccllPAAAAA5JREFUeNpiYMAFAAIMAAAaAAHl3zLRAAAAAElFTkSuQmCC\" style=\"background-image:url(//images.gunosy.com/12/22/70dae1ac4ceddb640bdd2a5e89119f2b_large.jpg)\"/></a></div><div class=\"list_text\"><div class=\"list_title\"><a href=\"https://gunosy.com/articles/R0xdl\">広島菊池ポスティングで米挑戦へ、球団に意思伝える</a></div><div class=\"list_lead\">広島菊池海外挑戦希望を明言！　広島菊池涼介内野手（28）が21日、マツダスタジアム内の球団事務所で契約交渉に臨んだ。その後の会見で近い将来の米大リーグ挑戦の意志を球団に伝えたことを明かした。海外...</div></div></div></li><li><div class=\"home_list_content_s\"><div class=\"list_thumb\"><a href=\"https://gunosy.com/articles/R32jz\"><img alt=\"西武移籍に伴い内海が失ってしまった将来の可能性とは\" class=\"lazyload\" height=\"85\" src=\"//images.gunosy.com/12/22/30dd7ffd244969593d0fe8821bebdadf_large.jpg?resize=*:170&amp;crop=170:170;*,*\" width=\"85\"/></a></div><div class=\"list_text\"><div class=\"list_title\"><a href=\"https://gunosy.com/articles/R32jz\">西武移籍に伴い内海が失ってしまった将来の可能性とは</a></div></div></div></li><li><div class=\"home_list_content_s\"><div class=\"list_thumb\"><a href=\"https://gunosy.com/articles/RnBjb\"><img alt=\"鷹・甲斐はアップ提示も保留「ワガママを言える立場ではない。1度整理したい」\" class=\"lazyload\" height=\"85\" src=\"//images.gunosy.com/12/22/453ba4f2751e5dd28dbf6faa6f4e49aa_large.jpg?resize=*:170&amp;crop=170:170;*,*\" width=\"85\"/></a></div><div class=\"list_text\"><div class=\"list_title\"><a href=\"https://gunosy.com/articles/RnBjb\">鷹・甲斐はアップ提示も保留「ワガママを言える立場ではない。1度整理したい」</a></div></div></div></li><li><div class=\"home_list_content_s\"><div class=\"list_thumb\"><a href=\"https://gunosy.com/articles/aFOT7\"><img alt=\"『第69回紅白歌合戦』曲目発表 嵐はスペシャルメドレー【全曲掲載】\" class=\"lazyload\" height=\"85\" src=\"//images.gunosy.com/12/22/266ecee7b68ee560de743b25ce8d66eb_large.jpg?resize=*:170&amp;crop=170:170;*,*\" width=\"85\"/></a></div><div class=\"list_text\"><div class=\"list_title\"><a href=\"https://gunosy.com/articles/aFOT7\">『第69回紅白歌合戦』曲目発表 嵐はスペシャルメドレー【全曲掲載】</a></div></div></div></li><li><div class=\"home_list_content_s\"><div class=\"list_thumb\"><a href=\"https://gunosy.com/articles/a0H4R\"><img alt=\"羽生結弦、宇野昌磨らの特大号外配布決定『全日本フィギュアスケート選手権』と『犬神家』が豪華コラボ！\" class=\"lazyload\" height=\"85\" src=\"//images.gunosy.com/12/22/8b5cbe2d65ac95d6bfe9c66a1bea968f_large.jpg?resize=*:170&amp;crop=170:170;*,*\" width=\"85\"/></a></div><div class=\"list_text\"><div class=\"list_title\"><a href=\"https://gunosy.com/articles/a0H4R\">羽生結弦、宇野昌磨らの特大号外配布決定『全日本フィギュアスケート選手権』と『犬神家』が豪華コラボ！</a></div></div></div></li></ul></div><div class=\"home_list_sub_category clearfix\"><div class=\"home_list_sub_category_title\"><span>絞り込む</span></div><ul><li><a href=\"https://gunosy.com/categories/18\">プロ野球</a></li><li><a href=\"https://gunosy.com/categories/51\">格闘技</a></li><li><a href=\"https://gunosy.com/categories/19\">MLB</a></li><li><a href=\"https://gunosy.com/categories/20\">サッカー日本代表</a></li><li><a href=\"https://gunosy.com/categories/21\">Jリーグ</a></li><li><a href=\"https://gunosy.com/categories/22\">海外サッカー</a></li><li><a href=\"https://gunosy.com/categories/43\">高校野球</a></li><li><a href=\"https://gunosy.com/categories/44\">ゴルフ</a></li><li><a href=\"https://gunosy.com/categories/47\">大相撲</a></li><li><a href=\"https://gunosy.com/categories/48\">テニス</a></li><li><a href=\"https://gunosy.com/categories/54\">フィギュアスケート</a></li></ul></div></div><div class=\"home_list_wrap gtm-click\" data-gtm=\"home_list\"><div class=\"list_headline\"><h2 class=\"list_headline_title\"><a href=\"https://gunosy.com/categories/3\">おもしろ</a><span class=\"list_headline_ranking\"><a href=\"https://gunosy.com/categories/3/ranking\">おもしろのランキング</a></span><span class=\"list_headline_border list_headline_border_color_3\"></span></h2></div><div class=\"home_list clearfix\"><ul><li><div class=\"home_list_content\"><div class=\"list_text\"><div class=\"list_title\"><a href=\"https://gunosy.com/articles/RBojR\">最後の晩餐に塩をファサ~！。塩ふり男と「最後の晩餐」のコラ画像が波紋を呼び関係者が逮捕(ヨルダン)</a></div><div class=\"list_lead\">image credit:Twitter　2017年に話題になった「ソルトベイ（塩ふり男）」ことトルコのジョニー・デップことヌスラト・ガネーシュさん(関連記事)を覚えているだろうか？\n",
       "　ステーキに塩をパラパラと振る姿があまりにも華麗す...</div></div><div class=\"list_thumb list_thumb_right\"><a href=\"https://gunosy.com/articles/RBojR\"><img alt=\"最後の晩餐に塩をファサ~！。塩ふり男と「最後の晩餐」のコラ画像が波紋を呼び関係者が逮捕(ヨルダン)\" src=\"data:image/png;base64,iVBORw0KGgoAAAANSUhEUgAAAAMAAAACCAYAAACddGYaAAAAGXRFWHRTb2Z0d2FyZQBBZG9iZSBJbWFnZVJlYWR5ccllPAAAAA5JREFUeNpiYMAFAAIMAAAaAAHl3zLRAAAAAElFTkSuQmCC\" style=\"background-image:url(//images.gunosy.com/12/22/c50975190688d0c3b2de2d82251003be_large.jpg)\"/></a></div></div></li><li><div class=\"home_list_content_s\"><div class=\"list_thumb\"><a href=\"https://gunosy.com/articles/RBv8A\"><img alt=\"かわいすぎる！早く散歩に行きたい犬の優しくパパを起こす様子に癒やされる♡\" class=\"lazyload\" height=\"85\" src=\"//images.gunosy.com/12/22/46bc6e00d5b7f90c0a5e95ce254c3cfe_large.jpg?resize=*:170&amp;crop=170:170;*,*\" width=\"85\"/></a></div><div class=\"list_text\"><div class=\"list_title\"><a href=\"https://gunosy.com/articles/RBv8A\">かわいすぎる！早く散歩に行きたい犬の優しくパパを起こす様子に癒やされる♡</a></div></div></div></li><li><div class=\"home_list_content_s\"><div class=\"list_thumb\"><a href=\"https://gunosy.com/articles/RJLGj\"><img alt=\"週刊大衆が「週ニャン大衆」に！グラビア満載、完全無修正の袋とじ企画も♡\" class=\"lazyload\" height=\"85\" src=\"//images.gunosy.com/12/22/f8ce2ee107459c631659c0e5b121732d_large.jpg?resize=*:170&amp;crop=170:170;*,*\" width=\"85\"/></a></div><div class=\"list_text\"><div class=\"list_title\"><a href=\"https://gunosy.com/articles/RJLGj\">週刊大衆が「週ニャン大衆」に！グラビア満載、完全無修正の袋とじ企画も♡</a></div></div></div></li><li><div class=\"home_list_content_s\"><div class=\"list_thumb\"><a href=\"https://gunosy.com/articles/aC6BR\"><img alt=\"救急車に乗せられ、病院に運ばれる男性。飼い主さんを心から心配する2匹の犬の行動に涙！\" class=\"lazyload\" height=\"85\" src=\"//images.gunosy.com/12/22/806ed076d265943038b7ed6b0daaf2f9_large.jpg?resize=*:170&amp;crop=170:170;*,*\" width=\"85\"/></a></div><div class=\"list_text\"><div class=\"list_title\"><a href=\"https://gunosy.com/articles/aC6BR\">救急車に乗せられ、病院に運ばれる男性。飼い主さんを心から心配する2匹の犬の行動に涙！</a></div></div></div></li><li><div class=\"home_list_content_s\"><div class=\"list_thumb\"><a href=\"https://gunosy.com/articles/atHFR\"><img alt=\"孤児になり保護されたカンガルー。大きくなっても飼育員さんに甘える姿が可愛すぎる！\" class=\"lazyload\" height=\"85\" src=\"//images.gunosy.com/12/22/1552a288b751215fa0ea3eba381b5ca9_large.jpg?resize=*:170&amp;crop=170:170;*,*\" width=\"85\"/></a></div><div class=\"list_text\"><div class=\"list_title\"><a href=\"https://gunosy.com/articles/atHFR\">孤児になり保護されたカンガルー。大きくなっても飼育員さんに甘える姿が可愛すぎる！</a></div></div></div></li></ul></div><div class=\"home_list_sub_category clearfix\"><div class=\"home_list_sub_category_title\"><span>絞り込む</span></div><ul><li><a href=\"https://gunosy.com/categories/23\">猫</a></li><li><a href=\"https://gunosy.com/categories/24\">動物</a></li><li><a href=\"https://gunosy.com/categories/25\">ネタ</a></li></ul></div></div><div class=\"home_list_wrap gtm-click\" data-gtm=\"home_list\"><div class=\"list_headline\"><h2 class=\"list_headline_title\"><a href=\"https://gunosy.com/categories/4\">国内</a><span class=\"list_headline_ranking\"><a href=\"https://gunosy.com/categories/4/ranking\">国内のランキング</a></span><span class=\"list_headline_border list_headline_border_color_4\"></span></h2></div><div class=\"home_list clearfix\"><ul><li><div class=\"home_list_content\"><div class=\"list_thumb list_thumb_left\"><a href=\"https://gunosy.com/articles/aFJt7\"><img alt=\"イヤフォン着用・片手で自転車運転...女性をひき逃げ、死亡させたギタリストの異常な行動に怒りの声殺到\" src=\"data:image/png;base64,iVBORw0KGgoAAAANSUhEUgAAAAMAAAACCAYAAACddGYaAAAAGXRFWHRTb2Z0d2FyZQBBZG9iZSBJbWFnZVJlYWR5ccllPAAAAA5JREFUeNpiYMAFAAIMAAAaAAHl3zLRAAAAAElFTkSuQmCC\" style=\"background-image:url(//images.gunosy.com/12/22/b676fbe601aeee25f97f3fd6d4be8b2b_large.jpg)\"/></a></div><div class=\"list_text\"><div class=\"list_title\"><a href=\"https://gunosy.com/articles/aFJt7\">イヤフォン着用・片手で自転車運転...女性をひき逃げ、死亡させたギタリストの異常な行動に怒りの声殺到</a></div><div class=\"list_lead\">画像はイメージです　24歳ギタリスト、両耳イヤフォン・右手にアタッシュケースを持ち自転車に乗り女性を死なせ救護せずトンズラ　最低の行為に怒り殺到　今年9月19日、耳にイヤフォンを付け、右手にアタ...</div></div></div></li><li><div class=\"home_list_content_s\"><div class=\"list_thumb\"><a href=\"https://gunosy.com/articles/RJB57\"><img alt=\"韓国が初輸出したUAE原発、建設現場は「大荒れ」？=韓国ネットからも懸念の声\" class=\"lazyload\" height=\"85\" src=\"//images.gunosy.com/12/22/4ab3824055de1d8c0e35747c845333ec_large.jpg?resize=*:170&amp;crop=170:170;*,*\" width=\"85\"/></a></div><div class=\"list_text\"><div class=\"list_title\"><a href=\"https://gunosy.com/articles/RJB57\">韓国が初輸出したUAE原発、建設現場は「大荒れ」？=韓国ネットからも懸念の声</a></div></div></div></li><li><div class=\"home_list_content_s\"><div class=\"list_thumb\"><a href=\"https://gunosy.com/articles/aGHuM\"><img alt=\"高輪ゲートウェイ「撤回」署名、賛同4万人超に JRに再検討するか聞くと...\" class=\"lazyload\" height=\"85\" src=\"//images.gunosy.com/12/22/4f6264891f4009c0dc5ebc4ce016d1e3_large.jpg?resize=*:170&amp;crop=170:170;*,*\" width=\"85\"/></a></div><div class=\"list_text\"><div class=\"list_title\"><a href=\"https://gunosy.com/articles/aGHuM\">高輪ゲートウェイ「撤回」署名、賛同4万人超に JRに再検討するか聞くと...</a></div></div></div></li><li><div class=\"home_list_content_s\"><div class=\"list_thumb\"><a href=\"https://gunosy.com/articles/RZRAR\"><img alt=\"「ゴーン被告」保釈から一転 けさ再逮捕！特別背任容疑―東京拘置所前の張り込み報道陣もビックリ\" class=\"lazyload\" height=\"85\" src=\"//images.gunosy.com/12/22/c7b6daeb7f567f958a37578fa3a35664_large.jpg?resize=*:170&amp;crop=170:170;*,*\" width=\"85\"/></a></div><div class=\"list_text\"><div class=\"list_title\"><a href=\"https://gunosy.com/articles/RZRAR\">「ゴーン被告」保釈から一転 けさ再逮捕！特別背任容疑―東京拘置所前の張り込み報道陣もビックリ</a></div></div></div></li><li><div class=\"home_list_content_s\"><div class=\"list_thumb\"><a href=\"https://gunosy.com/articles/Ru7NF\"><img alt=\"軽乗用車と大型トラックが衝突、女性2人が死亡 男性が重傷\" class=\"lazyload\" height=\"85\" src=\"//images.gunosy.com/assets/black/500x250.jpg?resize=480%3A250&amp;composite=%2A%2C%2A%7Chttps%3A%2F%2Fimages.gunosy.com%2F2018%2F12%2F21%2F29027200%2Fthumbnail%2Fc38044bd6ac7b1ef0764145749c62958.jpg?resize=*:170&amp;crop=170:170;*,*\" width=\"85\"/></a></div><div class=\"list_text\"><div class=\"list_title\"><a href=\"https://gunosy.com/articles/Ru7NF\">軽乗用車と大型トラックが衝突、女性2人が死亡 男性が重傷</a></div></div></div></li></ul></div><div class=\"home_list_sub_category clearfix\"><div class=\"home_list_sub_category_title\"><span>絞り込む</span></div><ul><li><a href=\"https://gunosy.com/categories/26\">社会</a></li><li><a href=\"https://gunosy.com/categories/27\">経済</a></li><li><a href=\"https://gunosy.com/categories/28\">政治</a></li></ul></div></div><div class=\"home_list_wrap gtm-click\" data-gtm=\"home_list\"><div class=\"list_headline\"><h2 class=\"list_headline_title\"><a href=\"https://gunosy.com/categories/5\">海外</a><span class=\"list_headline_ranking\"><a href=\"https://gunosy.com/categories/5/ranking\">海外のランキング</a></span><span class=\"list_headline_border list_headline_border_color_5\"></span></h2></div><div class=\"home_list clearfix\"><ul><li><div class=\"home_list_content\"><div class=\"list_text\"><div class=\"list_title\"><a href=\"https://gunosy.com/articles/RJn6y\">日本から戻った中国人、地下鉄で日本との差を感じる―中国ネット</a></div><div class=\"list_lead\">中国版ツイッター・微博で19日、映像自メディアとして活動するアカウント「長春西門大官人」が投稿した内容が話題になっている。\n",
       "中国版ツイッター・微博（ウェイボー）で19日、映像自メディア（新興メディア）として活動するアカウント「長春西門...</div></div><div class=\"list_thumb list_thumb_right\"><a href=\"https://gunosy.com/articles/RJn6y\"><img alt=\"日本から戻った中国人、地下鉄で日本との差を感じる―中国ネット\" src=\"data:image/png;base64,iVBORw0KGgoAAAANSUhEUgAAAAMAAAACCAYAAACddGYaAAAAGXRFWHRTb2Z0d2FyZQBBZG9iZSBJbWFnZVJlYWR5ccllPAAAAA5JREFUeNpiYMAFAAIMAAAaAAHl3zLRAAAAAElFTkSuQmCC\" style=\"background-image:url(//images.gunosy.com/12/22/0687718ba8b4aaa1d8cfa4c3ce072b43_large.jpg)\"/></a></div></div></li><li><div class=\"home_list_content_s\"><div class=\"list_thumb\"><a href=\"https://gunosy.com/articles/RIoYM\"><img alt=\"韓国ゲーム産業の屈辱？市場は世界4位も売り上げは圏外=韓国ネットからは「自業自得」の声\" class=\"lazyload\" height=\"85\" src=\"//images.gunosy.com/12/22/e01e9850d9e3072eab5cc4e018dd993f_large.jpg?resize=*:170&amp;crop=170:170;*,*\" width=\"85\"/></a></div><div class=\"list_text\"><div class=\"list_title\"><a href=\"https://gunosy.com/articles/RIoYM\">韓国ゲーム産業の屈辱？市場は世界4位も売り上げは圏外=韓国ネットからは「自業自得」の声</a></div></div></div></li><li><div class=\"home_list_content_s\"><div class=\"list_thumb\"><a href=\"https://gunosy.com/articles/aDOjR\"><img alt=\"日本人の激励手紙に感動=ファーウェイ孟氏の日記公開\" class=\"lazyload\" height=\"85\" src=\"//images.gunosy.com/12/22/56f6a1f7afb49b9581beb15fdafd5985_large.jpg?resize=*:170&amp;crop=170:170;*,*\" width=\"85\"/></a></div><div class=\"list_text\"><div class=\"list_title\"><a href=\"https://gunosy.com/articles/aDOjR\">日本人の激励手紙に感動=ファーウェイ孟氏の日記公開</a></div></div></div></li><li><div class=\"home_list_content_s\"><div class=\"list_thumb\"><a href=\"https://gunosy.com/articles/RMVJ0\"><img alt=\"モロッコの北欧女性2人殺害、容疑者4人がISに忠誠\" class=\"lazyload\" height=\"85\" src=\"//images.gunosy.com/12/22/b4b5f13cf38b44f39cbad5bdaf610302_large.jpg?resize=*:170&amp;crop=170:170;*,*\" width=\"85\"/></a></div><div class=\"list_text\"><div class=\"list_title\"><a href=\"https://gunosy.com/articles/RMVJ0\">モロッコの北欧女性2人殺害、容疑者4人がISに忠誠</a></div></div></div></li><li><div class=\"home_list_content_s\"><div class=\"list_thumb\"><a href=\"https://gunosy.com/articles/RCKAb\"><img alt=\"中国、ハッカー2人起訴で「事実を捏造」と米国を非難\" class=\"lazyload\" height=\"85\" src=\"//images.gunosy.com/12/22/175eaf374b6fe2efcabdeb3e3e2b6577_large.jpg?resize=*:170&amp;crop=170:170;*,*\" width=\"85\"/></a></div><div class=\"list_text\"><div class=\"list_title\"><a href=\"https://gunosy.com/articles/RCKAb\">中国、ハッカー2人起訴で「事実を捏造」と米国を非難</a></div></div></div></li></ul></div><div class=\"home_list_sub_category clearfix\"><div class=\"home_list_sub_category_title\"><span>絞り込む</span></div><ul><li><a href=\"https://gunosy.com/categories/29\">中国・韓国・アジア</a></li><li><a href=\"https://gunosy.com/categories/30\">国外総合</a></li></ul></div></div><div class=\"home_list_wrap gtm-click\" data-gtm=\"home_list\"><div class=\"list_headline\"><h2 class=\"list_headline_title\"><a href=\"https://gunosy.com/categories/6\">コラム</a><span class=\"list_headline_ranking\"><a href=\"https://gunosy.com/categories/6/ranking\">コラムのランキング</a></span><span class=\"list_headline_border list_headline_border_color_6\"></span></h2></div><div class=\"home_list clearfix\"><ul><li><div class=\"home_list_content\"><div class=\"list_thumb list_thumb_left\"><a href=\"https://gunosy.com/articles/apKMR\"><img alt=\"セックスレスのまま結婚はアリ？ レス解消した人にコツを聞いたら...\" src=\"data:image/png;base64,iVBORw0KGgoAAAANSUhEUgAAAAMAAAACCAYAAACddGYaAAAAGXRFWHRTb2Z0d2FyZQBBZG9iZSBJbWFnZVJlYWR5ccllPAAAAA5JREFUeNpiYMAFAAIMAAAaAAHl3zLRAAAAAElFTkSuQmCC\" style=\"background-image:url(//images.gunosy.com/12/22/dab56eec6bc5a26aa36bc2c7752fcbff_large.jpg)\"/></a></div><div class=\"list_text\"><div class=\"list_title\"><a href=\"https://gunosy.com/articles/apKMR\">セックスレスのまま結婚はアリ？ レス解消した人にコツを聞いたら...</a></div><div class=\"list_lead\">【おおしまりえの　目指せ！デキたら婚】\n",
       "\n",
       "　恋愛ジャーナリストのおおしまりえです。\n",
       "\n",
       "　結婚にはあまり興味はないけれど子どもは欲しい！ そんな希望から、パートナーの仏くんと、独身のうちから妊活と...</div></div></div></li><li><div class=\"home_list_content_s\"><div class=\"list_thumb\"><a href=\"https://gunosy.com/articles/Rp0EB\"><img alt=\"GUの「大型セール」がスタート 第1弾の注目アイテムはコレだ！\" class=\"lazyload\" height=\"85\" src=\"//images.gunosy.com/12/22/919fa3ecc1c5e3bc598288e646116b59_large.jpg?resize=*:170&amp;crop=170:170;*,*\" width=\"85\"/></a></div><div class=\"list_text\"><div class=\"list_title\"><a href=\"https://gunosy.com/articles/Rp0EB\">GUの「大型セール」がスタート 第1弾の注目アイテムはコレだ！</a></div></div></div></li><li><div class=\"home_list_content_s\"><div class=\"list_thumb\"><a href=\"https://gunosy.com/articles/RMFzz\"><img alt=\"言われた女性がビックリする「意外性のある褒め言葉」9パターン\" class=\"lazyload\" height=\"85\" src=\"//images.gunosy.com/12/22/cc4c204a4f14707c4784e826608fd126_large.jpg?resize=*:170&amp;crop=170:170;*,*\" width=\"85\"/></a></div><div class=\"list_text\"><div class=\"list_title\"><a href=\"https://gunosy.com/articles/RMFzz\">言われた女性がビックリする「意外性のある褒め言葉」9パターン</a></div></div></div></li><li><div class=\"home_list_content_s\"><div class=\"list_thumb\"><a href=\"https://gunosy.com/articles/R2HKB\"><img alt=\"空母化で話題「いずも」と「かが」、乗ったらどんな船？ 快適艦内と甲板塗料のヒミツ\" class=\"lazyload\" height=\"85\" src=\"//images.gunosy.com/12/22/43f6ebe2dc482c12c0a040feebc1db34_large.jpg?resize=*:170&amp;crop=170:170;*,*\" width=\"85\"/></a></div><div class=\"list_text\"><div class=\"list_title\"><a href=\"https://gunosy.com/articles/R2HKB\">空母化で話題「いずも」と「かが」、乗ったらどんな船？ 快適艦内と甲板塗料のヒミツ</a></div></div></div></li><li><div class=\"home_list_content_s\"><div class=\"list_thumb\"><a href=\"https://gunosy.com/articles/aGco4\"><img alt=\"遠近両用メガネをかけた時によくしてしまう「老眼しぐさ」あるある\" class=\"lazyload\" height=\"85\" src=\"//images.gunosy.com/12/22/74c1bb867362970544f5383f7a6b2d7a_large.jpg?resize=*:170&amp;crop=170:170;*,*\" width=\"85\"/></a></div><div class=\"list_text\"><div class=\"list_title\"><a href=\"https://gunosy.com/articles/aGco4\">遠近両用メガネをかけた時によくしてしまう「老眼しぐさ」あるある</a></div></div></div></li></ul></div><div class=\"home_list_sub_category clearfix\"><div class=\"home_list_sub_category_title\"><span>絞り込む</span></div><ul><li><a href=\"https://gunosy.com/categories/31\">恋愛</a></li><li><a href=\"https://gunosy.com/categories/32\">ビューティー</a></li><li><a href=\"https://gunosy.com/categories/42\">ファッション</a></li><li><a href=\"https://gunosy.com/categories/33\">コラム総合</a></li></ul></div></div><div class=\"home_list_wrap gtm-click\" data-gtm=\"home_list\"><div class=\"list_headline\"><h2 class=\"list_headline_title\"><a href=\"https://gunosy.com/categories/7\">IT・科学</a><span class=\"list_headline_ranking\"><a href=\"https://gunosy.com/categories/7/ranking\">IT・科学のランキング</a></span><span class=\"list_headline_border list_headline_border_color_7\"></span></h2></div><div class=\"home_list clearfix\"><ul><li><div class=\"home_list_content\"><div class=\"list_text\"><div class=\"list_title\"><a href=\"https://gunosy.com/articles/RZrPj\">足のつま先の冷え性対策に、サイワサプライがUSB接続の「あったか機能付きフットレスト」</a></div><div class=\"list_lead\">サンワサプライは12月20日、足のつま先が温まるクッションとフットレストが一体化した、USB接続の「あったか機能付きフットレスト 100-FR015」を発売した。税別価格は直販サイト「サンワダイレクト」で8315円。\n",
       "\n",
       "\n",
       "「あったか機...</div></div><div class=\"list_thumb list_thumb_right\"><a href=\"https://gunosy.com/articles/RZrPj\"><img alt=\"足のつま先の冷え性対策に、サイワサプライがUSB接続の「あったか機能付きフットレスト」\" src=\"data:image/png;base64,iVBORw0KGgoAAAANSUhEUgAAAAMAAAACCAYAAACddGYaAAAAGXRFWHRTb2Z0d2FyZQBBZG9iZSBJbWFnZVJlYWR5ccllPAAAAA5JREFUeNpiYMAFAAIMAAAaAAHl3zLRAAAAAElFTkSuQmCC\" style=\"background-image:url(//images.gunosy.com/12/22/bed5ecbd40ba570ab9ae1f852961228f_large.jpg)\"/></a></div></div></li><li><div class=\"home_list_content_s\"><div class=\"list_thumb\"><a href=\"https://gunosy.com/articles/auw6A\"><img alt=\"iPhoneのバッテリー寿命を延ばす方法\" class=\"lazyload\" height=\"85\" src=\"//images.gunosy.com/12/22/da9b0250fc83ff2ca226170bb72833f9_large.jpg?resize=*:170&amp;crop=170:170;*,*\" width=\"85\"/></a></div><div class=\"list_text\"><div class=\"list_title\"><a href=\"https://gunosy.com/articles/auw6A\">iPhoneのバッテリー寿命を延ばす方法</a></div></div></div></li><li><div class=\"home_list_content_s\"><div class=\"list_thumb\"><a href=\"https://gunosy.com/articles/aePzR\"><img alt=\"Apple、認める。iPad Proは曲がりやすい\" class=\"lazyload\" height=\"85\" src=\"//images.gunosy.com/12/22/58e74a7c4b22b9de113c1c643aacfc88_large.jpg?resize=*:170&amp;crop=170:170;*,*\" width=\"85\"/></a></div><div class=\"list_text\"><div class=\"list_title\"><a href=\"https://gunosy.com/articles/aePzR\">Apple、認める。iPad Proは曲がりやすい</a></div></div></div></li><li><div class=\"home_list_content_s\"><div class=\"list_thumb\"><a href=\"https://gunosy.com/articles/RmfVF\"><img alt=\"自営の内線電話やIoTのワイヤレス接続に 「アンドロイド」のスマホ\" class=\"lazyload\" height=\"85\" src=\"//images.gunosy.com/12/22/db2daf97523ec226622ce5ab177ddc28_large.jpg?resize=*:170&amp;crop=170:170;*,*\" width=\"85\"/></a></div><div class=\"list_text\"><div class=\"list_title\"><a href=\"https://gunosy.com/articles/RmfVF\">自営の内線電話やIoTのワイヤレス接続に 「アンドロイド」のスマホ</a></div></div></div></li><li><div class=\"home_list_content_s\"><div class=\"list_thumb\"><a href=\"https://gunosy.com/articles/RCXbh\"><img alt=\"新型iPad mini、2019年春に投入との情報が！ 絶滅回避ルートへ!?\" class=\"lazyload\" height=\"85\" src=\"//images.gunosy.com/12/22/78902e53f6f637dc11cd4690dc881146_large.jpg?resize=*:170&amp;crop=170:170;*,*\" width=\"85\"/></a></div><div class=\"list_text\"><div class=\"list_title\"><a href=\"https://gunosy.com/articles/RCXbh\">新型iPad mini、2019年春に投入との情報が！ 絶滅回避ルートへ!?</a></div></div></div></li></ul></div><div class=\"home_list_sub_category clearfix\"><div class=\"home_list_sub_category_title\"><span>絞り込む</span></div><ul><li><a href=\"https://gunosy.com/categories/34\">Apple</a></li><li><a href=\"https://gunosy.com/categories/35\">Android</a></li><li><a href=\"https://gunosy.com/categories/36\">IT総合</a></li><li><a href=\"https://gunosy.com/categories/52\">アプリ</a></li><li><a href=\"https://gunosy.com/categories/37\">サイエンス</a></li></ul></div></div><div class=\"home_list_wrap gtm-click\" data-gtm=\"home_list\"><div class=\"list_headline\"><h2 class=\"list_headline_title\"><a href=\"https://gunosy.com/categories/8\">グルメ</a><span class=\"list_headline_ranking\"><a href=\"https://gunosy.com/categories/8/ranking\">グルメのランキング</a></span><span class=\"list_headline_border list_headline_border_color_8\"></span></h2></div><div class=\"home_list clearfix\"><ul><li><div class=\"home_list_content\"><div class=\"list_thumb list_thumb_left\"><a href=\"https://gunosy.com/articles/at5G0\"><img alt=\"緩衝材なのに「食べられます」 捨てるだけの緩衝材をポップコーンにした「食べられる緩衝材」に反響\" src=\"data:image/png;base64,iVBORw0KGgoAAAANSUhEUgAAAAMAAAACCAYAAACddGYaAAAAGXRFWHRTb2Z0d2FyZQBBZG9iZSBJbWFnZVJlYWR5ccllPAAAAA5JREFUeNpiYMAFAAIMAAAaAAHl3zLRAAAAAElFTkSuQmCC\" style=\"background-image:url(//images.gunosy.com/12/22/d8e8e5ef6d560ff6355c079e4954dfc3_large.jpg)\"/></a></div><div class=\"list_text\"><div class=\"list_title\"><a href=\"https://gunosy.com/articles/at5G0\">緩衝材なのに「食べられます」 捨てるだけの緩衝材をポップコーンにした「食べられる緩衝材」に反響</a></div><div class=\"list_lead\">パッケージ表\n",
       "荷物と一緒に梱包して衝撃を吸収するポップコーン「食べられる緩衝材」がTwitterで反響を呼んでいる。荷物を取り出した後はゴミとして捨てることになる緩衝材。しかし、「食べられる緩衝...</div></div></div></li><li><div class=\"home_list_content_s\"><div class=\"list_thumb\"><a href=\"https://gunosy.com/articles/RognF\"><img alt=\"かつや特売！ カツ丼160円引き\" class=\"lazyload\" height=\"85\" src=\"//images.gunosy.com/12/22/926ca4f218096c33799cab2e32f0a02c_large.jpg?resize=*:170&amp;crop=170:170;*,*\" width=\"85\"/></a></div><div class=\"list_text\"><div class=\"list_title\"><a href=\"https://gunosy.com/articles/RognF\">かつや特売！ カツ丼160円引き</a></div></div></div></li><li><div class=\"home_list_content_s\"><div class=\"list_thumb\"><a href=\"https://gunosy.com/articles/auM8y\"><img alt=\"ケンタッキー「えびぷりぷりフライ」\" class=\"lazyload\" height=\"85\" src=\"//images.gunosy.com/12/22/5cd8308a2aab5051d6ef8ef1006303a4_large.jpg?resize=*:170&amp;crop=170:170;*,*\" width=\"85\"/></a></div><div class=\"list_text\"><div class=\"list_title\"><a href=\"https://gunosy.com/articles/auM8y\">ケンタッキー「えびぷりぷりフライ」</a></div></div></div></li><li><div class=\"home_list_content_s\"><div class=\"list_thumb\"><a href=\"https://gunosy.com/articles/awtij\"><img alt=\"限定「からあげクン」の2018年販売数トップ10\" class=\"lazyload\" height=\"85\" src=\"//images.gunosy.com/12/22/b36210456c5cdb7f7f06f1fc63614d96_large.jpg?resize=*:170&amp;crop=170:170;*,*\" width=\"85\"/></a></div><div class=\"list_text\"><div class=\"list_title\"><a href=\"https://gunosy.com/articles/awtij\">限定「からあげクン」の2018年販売数トップ10</a></div></div></div></li><li><div class=\"home_list_content_s\"><div class=\"list_thumb\"><a href=\"https://gunosy.com/articles/azgSl\"><img alt=\"「スタジオジブリのあの服」とコラボしたレッスンバッグ\" class=\"lazyload\" height=\"85\" src=\"//images.gunosy.com/12/22/2bbccd52cce5b192fd2c8f3d47135d7b_large.jpg?resize=*:170&amp;crop=170:170;*,*\" width=\"85\"/></a></div><div class=\"list_text\"><div class=\"list_title\"><a href=\"https://gunosy.com/articles/azgSl\">「スタジオジブリのあの服」とコラボしたレッスンバッグ</a></div></div></div></li></ul></div><div class=\"home_list_sub_category clearfix\"><div class=\"home_list_sub_category_title\"><span>絞り込む</span></div><ul><li><a href=\"https://gunosy.com/categories/38\">お店</a></li><li><a href=\"https://gunosy.com/categories/39\">レシピ</a></li><li><a href=\"https://gunosy.com/categories/40\">新製品</a></li><li><a href=\"https://gunosy.com/categories/41\">グルメ総合</a></li></ul></div></div><div class=\"home_list_wrap gtm-click\" data-gtm=\"home_game_headlines\"><div class=\"list_headline\"><h2 class=\"list_headline_title\"><a href=\"https://game8.jp\">ゲーム</a><span class=\"list_headline_ranking\"><a href=\"https://game8.jp/games\">ゲームのランキング</a></span><span class=\"list_headline_border list_headline_border_color_9\"></span></h2></div><div class=\"home_list clearfix\"><ul><li><div class=\"home_list_content\"><div class=\"list_thumb list_thumb_left\"><a href=\"https://game8.jp/articles/556754\"><img alt=\"キ/ズ/ナを繋げるスタイリッシュ妖怪RPG『東京コンセプション』のクリスマスイベントで新たなクエストや確定召喚を開催！\" src=\"data:image/png;base64,iVBORw0KGgoAAAANSUhEUgAAAAMAAAACCAYAAACddGYaAAAAGXRFWHRTb2Z0d2FyZQBBZG9iZSBJbWFnZVJlYWR5ccllPAAAAA5JREFUeNpiYMAFAAIMAAAaAAHl3zLRAAAAAElFTkSuQmCC\" style=\"background-image:url(https://img.game8.jp/2503467/eb49dcf1477f65312fa602a677eab661.jpeg/show)\"/></a></div><div class=\"list_text\"><div class=\"list_title\"><a href=\"https://game8.jp/articles/556754\">キ/ズ/ナを繋げるスタイリッシュ妖怪RPG『東京コンセプション』のクリスマスイベントで新たなクエストや確定召喚を開催！</a></div><div class=\"list_lead\">ユナイテッドは、スマートフォン向けゲーム『東京コンセプション』において、期間限定イベント「炎のメリークリスマス」で新たなクエストや確定召喚などを開催する。また、新妖怪ユニット「八百比丘尼 ツバキ」が登場する。</div></div></div></li><li><div class=\"home_list_content_s\"><div class=\"list_thumb\"><a href=\"https://game8.jp/articles/556753\"><img alt=\"『モンスターハンター エクスプロア』の生放送「モンスターハンター エクスプロア 生狩り会 年末スペシャル2018」が12月26日（水）19時より実施\" class=\"lazyload\" height=\"85\" src=\"https://img.game8.jp/2503453/73ee41e80dcda57c4db5746817c02192.jpeg/show\" width=\"85\"/></a></div><div class=\"list_text\"><div class=\"list_title\"><a href=\"https://game8.jp/articles/556753\">『モンスターハンター エクスプロア』の生放送「モンスターハンター エクスプロア 生狩り会 年末スペ...</a></div></div></div></li><li><div class=\"home_list_content_s\"><div class=\"list_thumb\"><a href=\"https://game8.jp/articles/556761\"><img alt=\"DMM GAMES主催「PJS Winter Invitational 2018」の結果発表＆PAI2019出場チームが確定\" class=\"lazyload\" height=\"85\" src=\"https://img.game8.jp/2503621/d3e1fd9536057183cd1938e5f1169d8f.jpeg/show\" width=\"85\"/></a></div><div class=\"list_text\"><div class=\"list_title\"><a href=\"https://game8.jp/articles/556761\">DMM GAMES主催「PJS Winter Invitational 2018」の結果発表＆PA...</a></div></div></div></li><li><div class=\"home_list_content_s\"><div class=\"list_thumb\"><a href=\"https://game8.jp/articles/556760\"><img alt=\"『パズル＆ドラゴンズ』で「ガンホー公式 パズドラ生配信～年末スペシャル～」を12月26日（水）に実施\" class=\"lazyload\" height=\"85\" src=\"https://img.game8.jp/2503600/e9b52cb79f34984611f208d1de702470.jpeg/show\" width=\"85\"/></a></div><div class=\"list_text\"><div class=\"list_title\"><a href=\"https://game8.jp/articles/556760\">『パズル＆ドラゴンズ』で「ガンホー公式 パズドラ生配信～年末スペシャル～」を12月26日（水）に実施</a></div></div></div></li><li><div class=\"home_list_content_s\"><div class=\"list_thumb\"><a href=\"https://game8.jp/articles/556759\"><img alt=\"『キャプテン翼ZERO ～決めろ！ミラクルシュート～』で“冬の陣”第三弾としてクリスマスキャンペーンを実施！\" class=\"lazyload\" height=\"85\" src=\"https://img.game8.jp/2503582/a5e319b35f76970ae33d2f1603cd4c73.jpeg/show\" width=\"85\"/></a></div><div class=\"list_text\"><div class=\"list_title\"><a href=\"https://game8.jp/articles/556759\">『キャプテン翼ZERO ～決めろ！ミラクルシュート～』で“冬の陣”第三弾としてクリスマスキャンペー...</a></div></div></div></li></ul></div></div></div><div class=\"side\"><div class=\"side-inner\"><div class=\"side_content gtm-click\" data-gtm=\"side_yesterday_ranking\"><div class=\"side_header\"><h3 class=\"side_header_title\">ランキング総合</h3><p class=\"side_header_lead\">最近人気のあったニュース</p></div><ul><li class=\"side_list_content\"><div class=\"list_thumb\"><a href=\"https://gunosy.com/articles/aPyYl\"><img alt=\"ベッキーに苦情殺到！“TV史上最悪の放送事故”と「あいのり」ファン大激怒\" src=\"data:image/png;base64,iVBORw0KGgoAAAANSUhEUgAAAAMAAAACCAYAAACddGYaAAAAGXRFWHRTb2Z0d2FyZQBBZG9iZSBJbWFnZVJlYWR5ccllPAAAAA5JREFUeNpiYMAFAAIMAAAaAAHl3zLRAAAAAElFTkSuQmCC\" style=\"background-image:url(//images.gunosy.com/12/20/4639396c53815c10a1cc26515f7f12eb_large.jpg)\"/></a></div><div class=\"list_text\"><p class=\"list_title\"><a href=\"https://gunosy.com/articles/aPyYl\">ベッキーに苦情殺到！“TV史上最悪の放送事故”と「あいのり」ファン大激怒</a></p></div><span class=\"list_rank list_rank_1\">1</span></li><li class=\"side_list_content\"><div class=\"list_thumb\"><a href=\"https://gunosy.com/articles/RQT7z\"><img alt=\"JOY、「絶縁宣言」の相手は「ZOZO・前澤氏のモノマネ芸人」!? “炎上商法”に周囲呆れ\" src=\"data:image/png;base64,iVBORw0KGgoAAAANSUhEUgAAAAMAAAACCAYAAACddGYaAAAAGXRFWHRTb2Z0d2FyZQBBZG9iZSBJbWFnZVJlYWR5ccllPAAAAA5JREFUeNpiYMAFAAIMAAAaAAHl3zLRAAAAAElFTkSuQmCC\" style=\"background-image:url(//images.gunosy.com/12/20/8cf5613dc101b4a811a2d22270ba53db_large.jpg)\"/></a></div><div class=\"list_text\"><p class=\"list_title\"><a href=\"https://gunosy.com/articles/RQT7z\">JOY、「絶縁宣言」の相手は「ZOZO・前澤氏のモノマネ芸人」!? “炎上商法”に周囲呆れ</a></p></div><span class=\"list_rank list_rank_2\">2</span></li><li class=\"side_list_content\"><div class=\"list_thumb\"><a href=\"https://gunosy.com/articles/algfQ\"><img alt=\"小嶋陽菜“一般人が撮った写真”にあぜん...芸能界固執が痛々しい\" src=\"data:image/png;base64,iVBORw0KGgoAAAANSUhEUgAAAAMAAAACCAYAAACddGYaAAAAGXRFWHRTb2Z0d2FyZQBBZG9iZSBJbWFnZVJlYWR5ccllPAAAAA5JREFUeNpiYMAFAAIMAAAaAAHl3zLRAAAAAElFTkSuQmCC\" style=\"background-image:url(//images.gunosy.com/12/20/ba92f4f2bee068617bf217c93017aca4_large.jpg)\"/></a></div><div class=\"list_text\"><p class=\"list_title\"><a href=\"https://gunosy.com/articles/algfQ\">小嶋陽菜“一般人が撮った写真”にあぜん...芸能界固執が痛々しい</a></p></div><span class=\"list_rank list_rank_3\">3</span></li><li class=\"side_list_content\"><div class=\"list_thumb\"><a href=\"https://gunosy.com/articles/RmggA\"><img alt=\"ユニクロより安い！ ワークマンの『2900円防寒パンツ』が暖かすぎる神の性能\" src=\"data:image/png;base64,iVBORw0KGgoAAAANSUhEUgAAAAMAAAACCAYAAACddGYaAAAAGXRFWHRTb2Z0d2FyZQBBZG9iZSBJbWFnZVJlYWR5ccllPAAAAA5JREFUeNpiYMAFAAIMAAAaAAHl3zLRAAAAAElFTkSuQmCC\" style=\"background-image:url(//images.gunosy.com/12/20/594427b9aa075036909b18ce227f3e42_large.jpg)\"/></a></div><div class=\"list_text\"><p class=\"list_title\"><a href=\"https://gunosy.com/articles/RmggA\">ユニクロより安い！ ワークマンの『2900円防寒パンツ』が暖かすぎる神の性能</a></p></div><span class=\"list_rank list_rank_4\">4</span></li><li class=\"side_list_content\"><div class=\"list_thumb\"><a href=\"https://gunosy.com/articles/aCSMz\"><img alt=\"「旦那さん、変じゃない？」友人の警告で、夫の異常性に気付いた女。妻に下された恐ろしい罰とは\" src=\"data:image/png;base64,iVBORw0KGgoAAAANSUhEUgAAAAMAAAACCAYAAACddGYaAAAAGXRFWHRTb2Z0d2FyZQBBZG9iZSBJbWFnZVJlYWR5ccllPAAAAA5JREFUeNpiYMAFAAIMAAAaAAHl3zLRAAAAAElFTkSuQmCC\" style=\"background-image:url(//images.gunosy.com/12/21/b53c8db7d3f32a6b3087d8de5b690d6b_large.jpg)\"/></a></div><div class=\"list_text\"><p class=\"list_title\"><a href=\"https://gunosy.com/articles/aCSMz\">「旦那さん、変じゃない？」友人の警告で、夫の異常性に気付いた女。妻に下された恐ろしい罰とは</a></p></div><span class=\"list_rank list_rank_5\">5</span></li><li class=\"side_list_content\"><div class=\"list_thumb\"><a href=\"https://gunosy.com/articles/a9FEB\"><img alt=\"鶯谷ラブホで全裸の意識不明女性 相手男性の行動が「ヤバすぎる」と騒然\" src=\"data:image/png;base64,iVBORw0KGgoAAAANSUhEUgAAAAMAAAACCAYAAACddGYaAAAAGXRFWHRTb2Z0d2FyZQBBZG9iZSBJbWFnZVJlYWR5ccllPAAAAA5JREFUeNpiYMAFAAIMAAAaAAHl3zLRAAAAAElFTkSuQmCC\" style=\"background-image:url(//images.gunosy.com/12/20/cd595f224d69e0c263ce3d5bac016c07_large.jpg)\"/></a></div><div class=\"list_text\"><p class=\"list_title\"><a href=\"https://gunosy.com/articles/a9FEB\">鶯谷ラブホで全裸の意識不明女性 相手男性の行動が「ヤバすぎる」と騒然</a></p></div><span class=\"list_rank list_rank_6\">6</span></li><li class=\"side_list_content\"><div class=\"list_thumb\"><a href=\"https://gunosy.com/articles/a0ZzR\"><img alt=\"「僕、韓国人だったんですよ」実は日本人じゃない意外な芸能人たち\" src=\"data:image/png;base64,iVBORw0KGgoAAAANSUhEUgAAAAMAAAACCAYAAACddGYaAAAAGXRFWHRTb2Z0d2FyZQBBZG9iZSBJbWFnZVJlYWR5ccllPAAAAA5JREFUeNpiYMAFAAIMAAAaAAHl3zLRAAAAAElFTkSuQmCC\" style=\"background-image:url(//images.gunosy.com/12/19/97a8775d8873a321f8c04047963aa34f_large.jpg)\"/></a></div><div class=\"list_text\"><p class=\"list_title\"><a href=\"https://gunosy.com/articles/a0ZzR\">「僕、韓国人だったんですよ」実は日本人じゃない意外な芸能人たち</a></p></div><span class=\"list_rank list_rank_7\">7</span></li><li class=\"side_list_content\"><div class=\"list_thumb\"><a href=\"https://gunosy.com/articles/RudBb\"><img alt=\"2億円整形サイボーグ・ヴァニラの現在に悲鳴 「怖すぎる」「命が危なそう」\" src=\"data:image/png;base64,iVBORw0KGgoAAAANSUhEUgAAAAMAAAACCAYAAACddGYaAAAAGXRFWHRTb2Z0d2FyZQBBZG9iZSBJbWFnZVJlYWR5ccllPAAAAA5JREFUeNpiYMAFAAIMAAAaAAHl3zLRAAAAAElFTkSuQmCC\" style=\"background-image:url(//images.gunosy.com/12/20/3f04796ddb0d94b8364607351201f1e7_large.jpg)\"/></a></div><div class=\"list_text\"><p class=\"list_title\"><a href=\"https://gunosy.com/articles/RudBb\">2億円整形サイボーグ・ヴァニラの現在に悲鳴 「怖すぎる」「命が危なそう」</a></p></div><span class=\"list_rank list_rank_8\">8</span></li><li class=\"side_list_content\"><div class=\"list_thumb\"><a href=\"https://gunosy.com/articles/RBD4b\"><img alt=\"【日本】煽ってきた車を思いもよらぬ方法で撃退する軽トラックが話題に！\" src=\"data:image/png;base64,iVBORw0KGgoAAAANSUhEUgAAAAMAAAACCAYAAACddGYaAAAAGXRFWHRTb2Z0d2FyZQBBZG9iZSBJbWFnZVJlYWR5ccllPAAAAA5JREFUeNpiYMAFAAIMAAAaAAHl3zLRAAAAAElFTkSuQmCC\" style=\"background-image:url(//images.gunosy.com/assets/black/500x250.jpg?resize=500%3A250&amp;composite=%2A%2C%2A%7Chttps%3A%2F%2Fimages.gunosy.com%2F2018%2F12%2F20%2F29011841%2Fthumbnail%2F5cde01691ba6e13409079dd95e98125c.jpg)\"/></a></div><div class=\"list_text\"><p class=\"list_title\"><a href=\"https://gunosy.com/articles/RBD4b\">【日本】煽ってきた車を思いもよらぬ方法で撃退する軽トラックが話題に！</a></p></div><span class=\"list_rank list_rank_9\">9</span></li><li class=\"side_list_content\"><div class=\"list_thumb\"><a href=\"https://gunosy.com/articles/RPvWA\"><img alt=\"松嶋尚美、南青山の児童相談所建設への発言に視聴者愕然 「虐待」「偏見であり差別」と炎上\" src=\"data:image/png;base64,iVBORw0KGgoAAAANSUhEUgAAAAMAAAACCAYAAACddGYaAAAAGXRFWHRTb2Z0d2FyZQBBZG9iZSBJbWFnZVJlYWR5ccllPAAAAA5JREFUeNpiYMAFAAIMAAAaAAHl3zLRAAAAAElFTkSuQmCC\" style=\"background-image:url(//images.gunosy.com/12/21/d15a19cc7f31b3d30a0c9b0306e6685a_large.jpg)\"/></a></div><div class=\"list_text\"><p class=\"list_title\"><a href=\"https://gunosy.com/articles/RPvWA\">松嶋尚美、南青山の児童相談所建設への発言に視聴者愕然 「虐待」「偏見であり差別」と炎上</a></p></div><span class=\"list_rank list_rank_10\">10</span></li></ul></div><div class=\"side_content gtm-click\" data-gtm=\"side_recommended_tags\"><div class=\"side_header\"><h3 class=\"side_header_title\">注目のキーワード</h3><p class=\"side_header_lead\">キーワードで気になるニュースを絞りこもう</p></div><div class=\"list_tags\"><ul><li><a class=\"tag\" href=\"https://gunosy.com/tags/702\">梨花</a></li><li><a class=\"tag\" href=\"https://gunosy.com/tags/736\">藤田ニコル</a></li><li><a class=\"tag\" href=\"https://gunosy.com/tags/539\">小嶋陽菜</a></li><li><a class=\"tag\" href=\"https://gunosy.com/tags/1098\">矢部浩之</a></li><li><a class=\"tag\" href=\"https://gunosy.com/tags/4\">結婚</a></li><li><a class=\"tag\" href=\"https://gunosy.com/tags/16\">ベッキー</a></li><li><a class=\"tag\" href=\"https://gunosy.com/tags/640\">グラビア</a></li><li><a class=\"tag\" href=\"https://gunosy.com/tags/740\">香取慎吾</a></li><li><a class=\"tag\" href=\"https://gunosy.com/tags/2029\">JOY</a></li><li><a class=\"tag\" href=\"https://gunosy.com/tags/14\">満島ひかり</a></li></ul></div></div></div></div></div></div><div class=\"footer-top\"><div class=\"footer-top-inner\"><div class=\"app-pr\"><div class=\"app-pr-text\"><p class=\"app-pr-title\">グノシー（Gunosy）とは</p><p class=\"app-pr-lead\">話題のニュースがサクサク読める、無料のニュースまとめアプリ グノシー（Gunosy）。「エンタメ」「スポーツ」から「経済」「国際」「政治」など、幅広い分野の旬のニュースをまとめ読みできます。スマートフォンアプリをダウンロードして今日のニュースをチェックしましょう。</p><ul class=\"app-pr-links\"><li><a href=\"https://itunes.apple.com/jp/app/xianinyusu-apurigunosy/id590384791?mt=8\" target=\"_blank\"><img alt=\"\" class=\"applestore\" src=\"https://webassets.gunosy.com/assets/appstore-ebfa12b4b3690fbcff784bc49cf1de2d31c4697a3a8fb80b1ae88e2394a77118.png\"/></a></li><li><a href=\"https://play.google.com/store/apps/details?id=com.gunosy.android\" target=\"_blank\"><img alt=\"\" class=\"googleplay\" src=\"https://webassets.gunosy.com/assets/googleplay-dd8f1fec8a286a1171eb75ef5e15dd0aa340eb9c84cc09e4a0104325ef8e6025.png\"/></a></li></ul></div><div class=\"app-pr-thumb\"><img alt=\"グノシー\" src=\"https://webassets.gunosy.com/assets/app-pr-6b6e3e04ce7dc072e786ef2879586b7d963c8e55bdf8be12d9785c7bf1dbcb66.png\"/></div></div></div></div><footer class=\"footer\"><div class=\"footer-inner\"><div class=\"footer-column footer-logo\"><a href=\"https://gunosy.com/\"><img alt=\"グノシー\" src=\"https://webassets.gunosy.com/assets/logo-gunosy-airplane-4f7cdb6e13d52ea03234357f40793947fa1509d58e250bd64a4d6d6e15c19492.png\"/></a></div><div class=\"footer-social\"><ul><li><div class=\"fb-like\" data-action=\"like\" data-href=\"https://www.facebook.com/gunosy\" data-layout=\"button_count\" data-share=\"false\" data-show-faces=\"false\"></div>\n",
       "</li><li><script>\n",
       "  window.twttr = (function(d, s, id) {\n",
       "    var js, fjs = d.getElementsByTagName(s)[0],\n",
       "      t = window.twttr || {};\n",
       "    if (d.getElementById(id)) return t;\n",
       "    js = d.createElement(s);\n",
       "    js.id = id;\n",
       "    js.async = true\n",
       "    js.src = \"https://platform.twitter.com/widgets.js\";\n",
       "    fjs.parentNode.insertBefore(js, fjs);\n",
       "\n",
       "    t._e = [];\n",
       "    t.ready = function(f) {\n",
       "      t._e.push(f);\n",
       "    };\n",
       "\n",
       "    return t;\n",
       "  }(document, \"script\", \"twitter-wjs\"));\n",
       "</script>\n",
       "<a class=\"twitter-follow-button\" data-lang=\"ja\" data-show-count=\"false\" data-show-screen-name=\"false\" href=\"https://twitter.com/gunosy_news\">@gunosy_newsさんをフォロー</a>\n",
       "<style>\n",
       "  iframe[id*=\"twitter-widget-\"] {\n",
       "    display: none;\n",
       "  }\n",
       "</style>\n",
       "<script>\n",
       "  twttr.ready(function(twttr) {\n",
       "    twttr.events.bind('rendered', function() {\n",
       "      var widgets = document.querySelectorAll('iframe[id*=\"twitter-widget-\"]');\n",
       "      for(i=0;i<widgets.length;i++) {\n",
       "        widgets[i].style.display = 'inline';\n",
       "      }\n",
       "    });\n",
       "  });\n",
       "</script>\n",
       "</li></ul><p class=\"footer-social-title\"><span>「いいね」</span>、フォローをしておすすめの記事をチェックしよう。</p></div><div class=\"footer-column\"><p class=\"footer-column-title\">グノシーについて</p><ul class=\"footer-column-list\"><li><a href=\"https://gunosy.com/ranking\">ランキング一覧</a></li><li><a href=\"https://gunosy.com/categories\">カテゴリ一覧</a></li><li><a href=\"https://gunosy.com/tags\">キーワード一覧</a></li></ul><ul class=\"footer-column-list\"><li><a href=\"https://gunosy.com/media\">メディア一覧</a></li><li><a href=\"https://gunosy.com/sitemap\">サイトマップ</a></li></ul><ul class=\"footer-column-list\"><li><a href=\"//gunosy.co.jp/\" target=\"_blank\">会社概要</a></li><li><a href=\"https://gunosy.com/about/terms\">利用規約</a></li><li><a href=\"https://gunosy.com/about/privacy\">プライバシーポリシー</a></li></ul></div><div class=\"footer-column\"><p class=\"footer-column-title\">公式SNS</p><ul class=\"footer-column-list\"><li><a href=\"https://www.facebook.com/gunosy\" target=\"_blank\">Facebook</a></li><li><a href=\"https://twitter.com/gunosy_news\" target=\"_blank\">Twitter</a></li></ul></div><div class=\"footer-column\"><p class=\"footer-column-title\">関連サイト</p><ul class=\"footer-column-list\"><li><a href=\"//game8.jp\" target=\"_blank\">Game8（ゲームエイト）</a></li><li><a href=\"//newspass.jp/\" target=\"_blank\">ニュースパス</a></li></ul></div></div></footer><div class=\"footer-bottom\"><div class=\"footer-bottom-inner\"><p class=\"site-info\">グノシー | 情報を世界中の人に最適に届ける</p><p class=\"copyright\">Copyright © Gunosy Inc. All rights reserved.</p></div></div><script>\n",
       "  window.twttr = (function(d, s, id) {\n",
       "    var js, fjs = d.getElementsByTagName(s)[0],\n",
       "      t = window.twttr || {};\n",
       "    if (d.getElementById(id)) return t;\n",
       "    js = d.createElement(s);\n",
       "    js.id = id;\n",
       "    js.async = true\n",
       "    js.src = \"https://platform.twitter.com/widgets.js\";\n",
       "    fjs.parentNode.insertBefore(js, fjs);\n",
       "\n",
       "    t._e = [];\n",
       "    t.ready = function(f) {\n",
       "      t._e.push(f);\n",
       "    };\n",
       "\n",
       "    return t;\n",
       "  }(document, \"script\", \"twitter-wjs\"));\n",
       "</script>\n",
       "<script async=\"\" defer=\"\" src=\"//platform.instagram.com/ja_JP/embeds.js\"></script>\n",
       "<div id=\"fb-root\"></div>\n",
       "<script>(function(d, s, id) {\n",
       "  var js, fjs = d.getElementsByTagName(s)[0];\n",
       "  if (d.getElementById(id)) return;\n",
       "  js = d.createElement(s); js.id = id; js.async = true;\n",
       "  js.src = \"//connect.facebook.net/ja_JP/sdk.js#xfbml=1&version=v2.5&appId=282785358406948\";\n",
       "  fjs.parentNode.insertBefore(js, fjs);\n",
       "}(document, 'script', 'facebook-jssdk'));</script>\n",
       "</body></html>"
      ]
     },
     "execution_count": 4,
     "metadata": {},
     "output_type": "execute_result"
    }
   ],
   "source": [
    "soup"
   ]
  },
  {
   "cell_type": "markdown",
   "metadata": {},
   "source": [
    "## htmlの必要な箇所の抽出"
   ]
  },
  {
   "cell_type": "code",
   "execution_count": 5,
   "metadata": {
    "ExecuteTime": {
     "end_time": "2018-12-21T10:29:47.516300Z",
     "start_time": "2018-12-21T10:29:47.502064Z"
    }
   },
   "outputs": [
    {
     "data": {
      "text/plain": [
       "<h1 class=\"header_title\">グノシー</h1>"
      ]
     },
     "execution_count": 5,
     "metadata": {},
     "output_type": "execute_result"
    }
   ],
   "source": [
    "h1 = soup.html.body.h1\n",
    "h1"
   ]
  },
  {
   "cell_type": "code",
   "execution_count": 6,
   "metadata": {
    "ExecuteTime": {
     "end_time": "2018-12-21T10:29:47.566073Z",
     "start_time": "2018-12-21T10:29:47.537755Z"
    }
   },
   "outputs": [],
   "source": [
    "p1 = soup.html.body.p1\n",
    "p1"
   ]
  },
  {
   "cell_type": "code",
   "execution_count": 7,
   "metadata": {
    "ExecuteTime": {
     "end_time": "2018-12-21T10:29:47.578972Z",
     "start_time": "2018-12-21T10:29:47.568549Z"
    }
   },
   "outputs": [
    {
     "data": {
      "text/plain": [
       "bs4.element.Tag"
      ]
     },
     "execution_count": 7,
     "metadata": {},
     "output_type": "execute_result"
    }
   ],
   "source": [
    "type(h1)"
   ]
  },
  {
   "cell_type": "code",
   "execution_count": 8,
   "metadata": {
    "ExecuteTime": {
     "end_time": "2018-12-21T10:29:47.586822Z",
     "start_time": "2018-12-21T10:29:47.582039Z"
    }
   },
   "outputs": [
    {
     "data": {
      "text/plain": [
       "bs4.element.NavigableString"
      ]
     },
     "execution_count": 8,
     "metadata": {},
     "output_type": "execute_result"
    }
   ],
   "source": [
    "type(h1.string)"
   ]
  },
  {
   "cell_type": "code",
   "execution_count": 9,
   "metadata": {
    "ExecuteTime": {
     "end_time": "2018-12-21T10:29:47.604553Z",
     "start_time": "2018-12-21T10:29:47.589370Z"
    }
   },
   "outputs": [
    {
     "data": {
      "text/plain": [
       "{<a href=\"https://gunosy.com/categories/1\">エンタメ</a>,\n",
       " <a href=\"https://gunosy.com/categories/2\">スポーツ</a>,\n",
       " <a href=\"https://gunosy.com/categories/3\">おもしろ</a>,\n",
       " <a href=\"https://gunosy.com/categories/4\">国内</a>,\n",
       " <a href=\"https://gunosy.com/categories/5\">海外</a>,\n",
       " <a href=\"https://gunosy.com/categories/6\">コラム</a>,\n",
       " <a href=\"https://gunosy.com/categories/7\">IT・科学</a>,\n",
       " <a href=\"https://gunosy.com/categories/8\">グルメ</a>,\n",
       " <a href=\"https://gunosy.com/categories/9\">芸能</a>}"
      ]
     },
     "execution_count": 9,
     "metadata": {},
     "output_type": "execute_result"
    }
   ],
   "source": [
    "import re\n",
    "links = soup.find_all(href=re.compile(r\"^https://gunosy.com/categories..$\"))\n",
    "set(links)"
   ]
  },
  {
   "cell_type": "code",
   "execution_count": 10,
   "metadata": {
    "ExecuteTime": {
     "end_time": "2018-12-21T10:29:47.611227Z",
     "start_time": "2018-12-21T10:29:47.606515Z"
    }
   },
   "outputs": [
    {
     "name": "stdout",
     "output_type": "stream",
     "text": [
      "海外\n",
      "おもしろ\n",
      "グルメ\n",
      "IT・科学\n",
      "コラム\n",
      "国内\n",
      "スポーツ\n",
      "芸能\n",
      "エンタメ\n"
     ]
    }
   ],
   "source": [
    "for a in set(links):\n",
    "    print(a.string)"
   ]
  },
  {
   "cell_type": "code",
   "execution_count": 11,
   "metadata": {
    "ExecuteTime": {
     "end_time": "2018-12-21T10:29:47.629520Z",
     "start_time": "2018-12-21T10:29:47.614831Z"
    },
    "scrolled": true
   },
   "outputs": [
    {
     "data": {
      "text/plain": [
       "[<li class=\"nav_color_1\" data-id=\"1\"><a href=\"https://gunosy.com/categories/1\">エンタメ</a><ul class=\"nav_sub_list nav_sub_list_1\"><li><a href=\"https://gunosy.com/categories/9\">芸能</a></li><li><a href=\"https://gunosy.com/categories/10\">映画</a></li><li><a href=\"https://gunosy.com/categories/11\">音楽</a></li><li><a href=\"https://gunosy.com/categories/12\">テレビ</a></li><li><a href=\"https://gunosy.com/categories/13\">アニメ</a></li><li><a href=\"https://gunosy.com/categories/14\">ゲーム</a></li><li><a href=\"https://gunosy.com/categories/15\">漫画</a></li><li><a href=\"https://gunosy.com/categories/17\">海外セレブ</a></li></ul></li>,\n",
       " <li class=\"nav_color_2\" data-id=\"2\"><a href=\"https://gunosy.com/categories/2\">スポーツ</a><ul class=\"nav_sub_list nav_sub_list_2\"><li><a href=\"https://gunosy.com/categories/18\">プロ野球</a></li><li><a href=\"https://gunosy.com/categories/51\">格闘技</a></li><li><a href=\"https://gunosy.com/categories/19\">MLB</a></li><li><a href=\"https://gunosy.com/categories/20\">サッカー日本代表</a></li><li><a href=\"https://gunosy.com/categories/21\">Jリーグ</a></li><li><a href=\"https://gunosy.com/categories/22\">海外サッカー</a></li><li><a href=\"https://gunosy.com/categories/43\">高校野球</a></li><li><a href=\"https://gunosy.com/categories/44\">ゴルフ</a></li><li><a href=\"https://gunosy.com/categories/47\">大相撲</a></li><li><a href=\"https://gunosy.com/categories/48\">テニス</a></li><li><a href=\"https://gunosy.com/categories/54\">フィギュアスケート</a></li></ul></li>,\n",
       " <li class=\"nav_color_3\" data-id=\"3\"><a href=\"https://gunosy.com/categories/3\">おもしろ</a><ul class=\"nav_sub_list nav_sub_list_3\"><li><a href=\"https://gunosy.com/categories/23\">猫</a></li><li><a href=\"https://gunosy.com/categories/24\">動物</a></li><li><a href=\"https://gunosy.com/categories/25\">ネタ</a></li></ul></li>,\n",
       " <li class=\"nav_color_4\" data-id=\"4\"><a href=\"https://gunosy.com/categories/4\">国内</a><ul class=\"nav_sub_list nav_sub_list_4\"><li><a href=\"https://gunosy.com/categories/26\">社会</a></li><li><a href=\"https://gunosy.com/categories/27\">経済</a></li><li><a href=\"https://gunosy.com/categories/28\">政治</a></li></ul></li>,\n",
       " <li class=\"nav_color_5\" data-id=\"5\"><a href=\"https://gunosy.com/categories/5\">海外</a><ul class=\"nav_sub_list nav_sub_list_5\"><li><a href=\"https://gunosy.com/categories/29\">中国・韓国・アジア</a></li><li><a href=\"https://gunosy.com/categories/30\">国外総合</a></li></ul></li>,\n",
       " <li class=\"nav_color_6\" data-id=\"6\"><a href=\"https://gunosy.com/categories/6\">コラム</a><ul class=\"nav_sub_list nav_sub_list_6\"><li><a href=\"https://gunosy.com/categories/31\">恋愛</a></li><li><a href=\"https://gunosy.com/categories/32\">ビューティー</a></li><li><a href=\"https://gunosy.com/categories/42\">ファッション</a></li><li><a href=\"https://gunosy.com/categories/33\">コラム総合</a></li></ul></li>,\n",
       " <li class=\"nav_color_7\" data-id=\"7\"><a href=\"https://gunosy.com/categories/7\">IT・科学</a><ul class=\"nav_sub_list nav_sub_list_7\"><li><a href=\"https://gunosy.com/categories/34\">Apple</a></li><li><a href=\"https://gunosy.com/categories/35\">Android</a></li><li><a href=\"https://gunosy.com/categories/36\">IT総合</a></li><li><a href=\"https://gunosy.com/categories/52\">アプリ</a></li><li><a href=\"https://gunosy.com/categories/37\">サイエンス</a></li></ul></li>,\n",
       " <li class=\"nav_color_8\" data-id=\"8\"><a href=\"https://gunosy.com/categories/8\">グルメ</a><ul class=\"nav_sub_list nav_sub_list_8\"><li><a href=\"https://gunosy.com/categories/38\">お店</a></li><li><a href=\"https://gunosy.com/categories/39\">レシピ</a></li><li><a href=\"https://gunosy.com/categories/40\">新製品</a></li><li><a href=\"https://gunosy.com/categories/41\">グルメ総合</a></li></ul></li>]"
      ]
     },
     "execution_count": 11,
     "metadata": {},
     "output_type": "execute_result"
    }
   ],
   "source": [
    "ul = soup.html.body.nav.ul\n",
    "li = ul.find_all('li', class_=re.compile(r'^(nav_color_).$'),)\n",
    "li"
   ]
  },
  {
   "cell_type": "markdown",
   "metadata": {},
   "source": [
    "## 完成"
   ]
  },
  {
   "cell_type": "code",
   "execution_count": 12,
   "metadata": {
    "ExecuteTime": {
     "end_time": "2018-12-21T10:29:47.648025Z",
     "start_time": "2018-12-21T10:29:47.633719Z"
    }
   },
   "outputs": [
    {
     "name": "stdout",
     "output_type": "stream",
     "text": [
      "<a href=\"https://gunosy.com/categories/1\">エンタメ</a>\n",
      "エンタメ\n",
      "https://gunosy.com/categories/1\n",
      "<a href=\"https://gunosy.com/categories/2\">スポーツ</a>\n",
      "スポーツ\n",
      "https://gunosy.com/categories/2\n",
      "<a href=\"https://gunosy.com/categories/3\">おもしろ</a>\n",
      "おもしろ\n",
      "https://gunosy.com/categories/3\n",
      "<a href=\"https://gunosy.com/categories/4\">国内</a>\n",
      "国内\n",
      "https://gunosy.com/categories/4\n",
      "<a href=\"https://gunosy.com/categories/5\">海外</a>\n",
      "海外\n",
      "https://gunosy.com/categories/5\n",
      "<a href=\"https://gunosy.com/categories/6\">コラム</a>\n",
      "コラム\n",
      "https://gunosy.com/categories/6\n",
      "<a href=\"https://gunosy.com/categories/7\">IT・科学</a>\n",
      "IT・科学\n",
      "https://gunosy.com/categories/7\n",
      "<a href=\"https://gunosy.com/categories/8\">グルメ</a>\n",
      "グルメ\n",
      "https://gunosy.com/categories/8\n"
     ]
    }
   ],
   "source": [
    "main_pick_url_dic = {}\n",
    "for i in li:\n",
    "    print(i.a)\n",
    "    \n",
    "    print(i.a.string)\n",
    "    \n",
    "    print(i.a.attrs['href'])\n",
    "    \n",
    "    main_pick_url_dic[i.a.string] = i.a.attrs['href']"
   ]
  },
  {
   "cell_type": "code",
   "execution_count": 13,
   "metadata": {
    "ExecuteTime": {
     "end_time": "2018-12-21T10:29:47.656835Z",
     "start_time": "2018-12-21T10:29:47.652303Z"
    }
   },
   "outputs": [
    {
     "data": {
      "text/plain": [
       "{'エンタメ': 'https://gunosy.com/categories/1',\n",
       " 'スポーツ': 'https://gunosy.com/categories/2',\n",
       " 'おもしろ': 'https://gunosy.com/categories/3',\n",
       " '国内': 'https://gunosy.com/categories/4',\n",
       " '海外': 'https://gunosy.com/categories/5',\n",
       " 'コラム': 'https://gunosy.com/categories/6',\n",
       " 'IT・科学': 'https://gunosy.com/categories/7',\n",
       " 'グルメ': 'https://gunosy.com/categories/8'}"
      ]
     },
     "execution_count": 13,
     "metadata": {},
     "output_type": "execute_result"
    }
   ],
   "source": [
    "main_pick_url_dic"
   ]
  },
  {
   "cell_type": "markdown",
   "metadata": {},
   "source": [
    "# URLスクレイピング"
   ]
  },
  {
   "cell_type": "markdown",
   "metadata": {},
   "source": [
    "- URLを周り、ページ内の記事が書かれたURLを抽出\n",
    "    - ページ内に別のページがあるのでそこも回る "
   ]
  },
  {
   "cell_type": "markdown",
   "metadata": {},
   "source": [
    "## メインのURLを出力"
   ]
  },
  {
   "cell_type": "code",
   "execution_count": 14,
   "metadata": {
    "ExecuteTime": {
     "end_time": "2018-12-21T10:29:47.665459Z",
     "start_time": "2018-12-21T10:29:47.659789Z"
    },
    "scrolled": true
   },
   "outputs": [
    {
     "name": "stdout",
     "output_type": "stream",
     "text": [
      "https://gunosy.com/categories/1\n",
      "https://gunosy.com/categories/2\n",
      "https://gunosy.com/categories/3\n",
      "https://gunosy.com/categories/4\n",
      "https://gunosy.com/categories/5\n",
      "https://gunosy.com/categories/6\n",
      "https://gunosy.com/categories/7\n",
      "https://gunosy.com/categories/8\n"
     ]
    }
   ],
   "source": [
    "for url in main_pick_url_dic.values():\n",
    "        print(url)"
   ]
  },
  {
   "cell_type": "markdown",
   "metadata": {},
   "source": [
    "## トップページのカテギリ一覧のページにアクセスして記事のURLを抽出\n",
    "- ただし、ボタンは押していない"
   ]
  },
  {
   "cell_type": "code",
   "execution_count": 15,
   "metadata": {
    "ExecuteTime": {
     "end_time": "2018-12-21T10:29:53.306576Z",
     "start_time": "2018-12-21T10:29:47.667217Z"
    }
   },
   "outputs": [],
   "source": [
    "#トップページのカテギリ一覧のページにアクセスして記事のURLを抽出\n",
    "\n",
    "sub_pick_url_dic = {}\n",
    "for category, url in main_pick_url_dic.items():\n",
    "    #カテゴリ別のURLを入れるリスト\n",
    "    url_list = []  \n",
    "    res = urllib.request.urlopen(url)\n",
    "    data = res.read()\n",
    "    text = data.decode(\"utf-8\")\n",
    "    soup = BS(text, \"html.parser\")\n",
    "    soup_html = soup.html.body\n",
    "    li = soup_html.find_all(\"a\", href=re.compile(r'^https://gunosy.com/articles/'))\n",
    "    \n",
    "    for i in li:\n",
    "        url_list.append(i.attrs['href'])\n",
    "    sub_pick_url_dic[category] = url_list"
   ]
  },
  {
   "cell_type": "markdown",
   "metadata": {},
   "source": [
    "## カテゴリ別の記事URLを入れた辞書"
   ]
  },
  {
   "cell_type": "code",
   "execution_count": 16,
   "metadata": {
    "ExecuteTime": {
     "end_time": "2018-12-21T10:29:53.556953Z",
     "start_time": "2018-12-21T10:29:53.542352Z"
    }
   },
   "outputs": [
    {
     "data": {
      "text/plain": [
       "{'エンタメ': ['https://gunosy.com/articles/Rp4x4',\n",
       "  'https://gunosy.com/articles/Rp4x4',\n",
       "  'https://gunosy.com/articles/RqrMR',\n",
       "  'https://gunosy.com/articles/RqrMR',\n",
       "  'https://gunosy.com/articles/az6fQ',\n",
       "  'https://gunosy.com/articles/az6fQ',\n",
       "  'https://gunosy.com/articles/a7MIA',\n",
       "  'https://gunosy.com/articles/a7MIA',\n",
       "  'https://gunosy.com/articles/RPnJ0',\n",
       "  'https://gunosy.com/articles/RPnJ0',\n",
       "  'https://gunosy.com/articles/aXCFR',\n",
       "  'https://gunosy.com/articles/aXCFR',\n",
       "  'https://gunosy.com/articles/aesfB',\n",
       "  'https://gunosy.com/articles/aesfB',\n",
       "  'https://gunosy.com/articles/RFl4h',\n",
       "  'https://gunosy.com/articles/RFl4h',\n",
       "  'https://gunosy.com/articles/aqEQz',\n",
       "  'https://gunosy.com/articles/aqEQz',\n",
       "  'https://gunosy.com/articles/Rh0p4',\n",
       "  'https://gunosy.com/articles/Rh0p4',\n",
       "  'https://gunosy.com/articles/aH237',\n",
       "  'https://gunosy.com/articles/aH237',\n",
       "  'https://gunosy.com/articles/RATZl',\n",
       "  'https://gunosy.com/articles/RATZl',\n",
       "  'https://gunosy.com/articles/auAHy',\n",
       "  'https://gunosy.com/articles/auAHy',\n",
       "  'https://gunosy.com/articles/RKiSM',\n",
       "  'https://gunosy.com/articles/RKiSM',\n",
       "  'https://gunosy.com/articles/RVteQ',\n",
       "  'https://gunosy.com/articles/RVteQ',\n",
       "  'https://gunosy.com/articles/RNn4z',\n",
       "  'https://gunosy.com/articles/RNn4z',\n",
       "  'https://gunosy.com/articles/aE9G0',\n",
       "  'https://gunosy.com/articles/aE9G0',\n",
       "  'https://gunosy.com/articles/RwLt7',\n",
       "  'https://gunosy.com/articles/RwLt7',\n",
       "  'https://gunosy.com/articles/RJt3y',\n",
       "  'https://gunosy.com/articles/RJt3y',\n",
       "  'https://gunosy.com/articles/RTiFb',\n",
       "  'https://gunosy.com/articles/RTiFb',\n",
       "  'https://gunosy.com/articles/aPyYl',\n",
       "  'https://gunosy.com/articles/aPyYl',\n",
       "  'https://gunosy.com/articles/RQT7z',\n",
       "  'https://gunosy.com/articles/RQT7z',\n",
       "  'https://gunosy.com/articles/algfQ',\n",
       "  'https://gunosy.com/articles/algfQ',\n",
       "  'https://gunosy.com/articles/a0ZzR',\n",
       "  'https://gunosy.com/articles/a0ZzR',\n",
       "  'https://gunosy.com/articles/RudBb',\n",
       "  'https://gunosy.com/articles/RudBb',\n",
       "  'https://gunosy.com/articles/RPvWA',\n",
       "  'https://gunosy.com/articles/RPvWA',\n",
       "  'https://gunosy.com/articles/RBomF',\n",
       "  'https://gunosy.com/articles/RBomF',\n",
       "  'https://gunosy.com/articles/Rj1vM',\n",
       "  'https://gunosy.com/articles/Rj1vM',\n",
       "  'https://gunosy.com/articles/aHmQz',\n",
       "  'https://gunosy.com/articles/aHmQz',\n",
       "  'https://gunosy.com/articles/RjVvj',\n",
       "  'https://gunosy.com/articles/RjVvj'],\n",
       " 'スポーツ': ['https://gunosy.com/articles/azPpB',\n",
       "  'https://gunosy.com/articles/azPpB',\n",
       "  'https://gunosy.com/articles/aRndl',\n",
       "  'https://gunosy.com/articles/aPIE4',\n",
       "  'https://gunosy.com/articles/aPIE4',\n",
       "  'https://gunosy.com/articles/RpyKQ',\n",
       "  'https://gunosy.com/articles/RdhEB',\n",
       "  'https://gunosy.com/articles/RdhEB',\n",
       "  'https://gunosy.com/articles/aGGzR',\n",
       "  'https://gunosy.com/articles/aGGzR',\n",
       "  'https://gunosy.com/articles/RhBsQ',\n",
       "  'https://gunosy.com/articles/RhBsQ',\n",
       "  'https://gunosy.com/articles/RwSqy',\n",
       "  'https://gunosy.com/articles/RwSqy',\n",
       "  'https://gunosy.com/articles/a0pEF',\n",
       "  'https://gunosy.com/articles/RJQRz',\n",
       "  'https://gunosy.com/articles/RXxT7',\n",
       "  'https://gunosy.com/articles/RXxT7',\n",
       "  'https://gunosy.com/articles/aZLmQ',\n",
       "  'https://gunosy.com/articles/a6Ks4',\n",
       "  'https://gunosy.com/articles/a6Ks4',\n",
       "  'https://gunosy.com/articles/RBGvl',\n",
       "  'https://gunosy.com/articles/RBGvl',\n",
       "  'https://gunosy.com/articles/a6eYM',\n",
       "  'https://gunosy.com/articles/R8iHA',\n",
       "  'https://gunosy.com/articles/Ri9Y0',\n",
       "  'https://gunosy.com/articles/Ri9Y0',\n",
       "  'https://gunosy.com/articles/alYd0',\n",
       "  'https://gunosy.com/articles/aAnxQ',\n",
       "  'https://gunosy.com/articles/aAnxQ',\n",
       "  'https://gunosy.com/articles/RpwgA',\n",
       "  'https://gunosy.com/articles/RpwgA',\n",
       "  'https://gunosy.com/articles/RuuxB',\n",
       "  'https://gunosy.com/articles/RuuxB',\n",
       "  'https://gunosy.com/articles/RbemF',\n",
       "  'https://gunosy.com/articles/RbemF',\n",
       "  'https://gunosy.com/articles/R1wBR',\n",
       "  'https://gunosy.com/articles/R1wBR',\n",
       "  'https://gunosy.com/articles/RvfW7',\n",
       "  'https://gunosy.com/articles/RvfW7',\n",
       "  'https://gunosy.com/articles/RvdXF',\n",
       "  'https://gunosy.com/articles/RvdXF',\n",
       "  'https://gunosy.com/articles/RCBbz',\n",
       "  'https://gunosy.com/articles/RCBbz',\n",
       "  'https://gunosy.com/articles/atZCA',\n",
       "  'https://gunosy.com/articles/atZCA',\n",
       "  'https://gunosy.com/articles/RPZRz',\n",
       "  'https://gunosy.com/articles/RPZRz',\n",
       "  'https://gunosy.com/articles/RmC20',\n",
       "  'https://gunosy.com/articles/RmC20',\n",
       "  'https://gunosy.com/articles/R5u0z',\n",
       "  'https://gunosy.com/articles/R5u0z'],\n",
       " 'おもしろ': ['https://gunosy.com/articles/RViEQ',\n",
       "  'https://gunosy.com/articles/RViEQ',\n",
       "  'https://gunosy.com/articles/RMnqA',\n",
       "  'https://gunosy.com/articles/RMnqA',\n",
       "  'https://gunosy.com/articles/RKXaj',\n",
       "  'https://gunosy.com/articles/RKXaj',\n",
       "  'https://gunosy.com/articles/Rfxzh',\n",
       "  'https://gunosy.com/articles/Rfxzh',\n",
       "  'https://gunosy.com/articles/RJuvl',\n",
       "  'https://gunosy.com/articles/RJuvl',\n",
       "  'https://gunosy.com/articles/augOB',\n",
       "  'https://gunosy.com/articles/augOB',\n",
       "  'https://gunosy.com/articles/aCPI7',\n",
       "  'https://gunosy.com/articles/aCPI7',\n",
       "  'https://gunosy.com/articles/RbNX4',\n",
       "  'https://gunosy.com/articles/RBojR',\n",
       "  'https://gunosy.com/articles/RBojR',\n",
       "  'https://gunosy.com/articles/R5iN4',\n",
       "  'https://gunosy.com/articles/R5iN4',\n",
       "  'https://gunosy.com/articles/afXEF',\n",
       "  'https://gunosy.com/articles/afXEF',\n",
       "  'https://gunosy.com/articles/RJLGj',\n",
       "  'https://gunosy.com/articles/RJLGj',\n",
       "  'https://gunosy.com/articles/R5HOB',\n",
       "  'https://gunosy.com/articles/R5HOB',\n",
       "  'https://gunosy.com/articles/RBv8A',\n",
       "  'https://gunosy.com/articles/RBv8A',\n",
       "  'https://gunosy.com/articles/RdPSM',\n",
       "  'https://gunosy.com/articles/RdPSM',\n",
       "  'https://gunosy.com/articles/atHFR',\n",
       "  'https://gunosy.com/articles/atHFR',\n",
       "  'https://gunosy.com/articles/aLVLl',\n",
       "  'https://gunosy.com/articles/aLVLl',\n",
       "  'https://gunosy.com/articles/aGAiM',\n",
       "  'https://gunosy.com/articles/aGAiM',\n",
       "  'https://gunosy.com/articles/RBYEQ',\n",
       "  'https://gunosy.com/articles/RBYEQ',\n",
       "  'https://gunosy.com/articles/abuf4',\n",
       "  'https://gunosy.com/articles/abuf4',\n",
       "  'https://gunosy.com/articles/RBD4b',\n",
       "  'https://gunosy.com/articles/RBD4b',\n",
       "  'https://gunosy.com/articles/agjJj',\n",
       "  'https://gunosy.com/articles/agjJj',\n",
       "  'https://gunosy.com/articles/az2Mz',\n",
       "  'https://gunosy.com/articles/az2Mz',\n",
       "  'https://gunosy.com/articles/RmEjR',\n",
       "  'https://gunosy.com/articles/RmEjR',\n",
       "  'https://gunosy.com/articles/aLxFz',\n",
       "  'https://gunosy.com/articles/aLxFz',\n",
       "  'https://gunosy.com/articles/RdG0z',\n",
       "  'https://gunosy.com/articles/RdG0z',\n",
       "  'https://gunosy.com/articles/RVRiM',\n",
       "  'https://gunosy.com/articles/RVRiM',\n",
       "  'https://gunosy.com/articles/RdJ7h',\n",
       "  'https://gunosy.com/articles/RdJ7h',\n",
       "  'https://gunosy.com/articles/RWRoF',\n",
       "  'https://gunosy.com/articles/RWRoF',\n",
       "  'https://gunosy.com/articles/RJcZM',\n",
       "  'https://gunosy.com/articles/RJcZM'],\n",
       " '国内': ['https://gunosy.com/articles/aPx2M',\n",
       "  'https://gunosy.com/articles/aPx2M',\n",
       "  'https://gunosy.com/articles/RXICy',\n",
       "  'https://gunosy.com/articles/RXICy',\n",
       "  'https://gunosy.com/articles/aZSI7',\n",
       "  'https://gunosy.com/articles/aZSI7',\n",
       "  'https://gunosy.com/articles/R5HJl',\n",
       "  'https://gunosy.com/articles/R5HJl',\n",
       "  'https://gunosy.com/articles/R2sjR',\n",
       "  'https://gunosy.com/articles/R2sjR',\n",
       "  'https://gunosy.com/articles/aDCSl',\n",
       "  'https://gunosy.com/articles/aDCSl',\n",
       "  'https://gunosy.com/articles/RmYnB',\n",
       "  'https://gunosy.com/articles/RM7CA',\n",
       "  'https://gunosy.com/articles/RCgG0',\n",
       "  'https://gunosy.com/articles/RCgG0',\n",
       "  'https://gunosy.com/articles/RZtfQ',\n",
       "  'https://gunosy.com/articles/RZtfQ',\n",
       "  'https://gunosy.com/articles/aAcN4',\n",
       "  'https://gunosy.com/articles/aAcN4',\n",
       "  'https://gunosy.com/articles/afquM',\n",
       "  'https://gunosy.com/articles/aFGEQ',\n",
       "  'https://gunosy.com/articles/RZSTA',\n",
       "  'https://gunosy.com/articles/RZSTA',\n",
       "  'https://gunosy.com/articles/aL5bb',\n",
       "  'https://gunosy.com/articles/aL5bb',\n",
       "  'https://gunosy.com/articles/aHG1y',\n",
       "  'https://gunosy.com/articles/aHG1y',\n",
       "  'https://gunosy.com/articles/RF2OF',\n",
       "  'https://gunosy.com/articles/afcD0',\n",
       "  'https://gunosy.com/articles/afcD0',\n",
       "  'https://gunosy.com/articles/apuzR',\n",
       "  'https://gunosy.com/articles/RIqDj',\n",
       "  'https://gunosy.com/articles/aCvL0',\n",
       "  'https://gunosy.com/articles/aCvL0',\n",
       "  'https://gunosy.com/articles/am9KB',\n",
       "  'https://gunosy.com/articles/am9KB',\n",
       "  'https://gunosy.com/articles/RdE7b',\n",
       "  'https://gunosy.com/articles/RdE7b',\n",
       "  'https://gunosy.com/articles/aqGXF',\n",
       "  'https://gunosy.com/articles/aqGXF',\n",
       "  'https://gunosy.com/articles/R8EfB',\n",
       "  'https://gunosy.com/articles/R8EfB',\n",
       "  'https://gunosy.com/articles/RWQMb',\n",
       "  'https://gunosy.com/articles/RWQMb',\n",
       "  'https://gunosy.com/articles/RhHzb',\n",
       "  'https://gunosy.com/articles/RhHzb',\n",
       "  'https://gunosy.com/articles/RpZ37',\n",
       "  'https://gunosy.com/articles/RpZ37',\n",
       "  'https://gunosy.com/articles/RFm9A',\n",
       "  'https://gunosy.com/articles/RFm9A',\n",
       "  'https://gunosy.com/articles/RK5PM',\n",
       "  'https://gunosy.com/articles/RK5PM'],\n",
       " '海外': ['https://gunosy.com/articles/RbPjz',\n",
       "  'https://gunosy.com/articles/RbPjz',\n",
       "  'https://gunosy.com/articles/RbeRh',\n",
       "  'https://gunosy.com/articles/RbeRh',\n",
       "  'https://gunosy.com/articles/RKIMh',\n",
       "  'https://gunosy.com/articles/RKIMh',\n",
       "  'https://gunosy.com/articles/awnRh',\n",
       "  'https://gunosy.com/articles/awnRh',\n",
       "  'https://gunosy.com/articles/aeKW7',\n",
       "  'https://gunosy.com/articles/aeKW7',\n",
       "  'https://gunosy.com/articles/aaZo4',\n",
       "  'https://gunosy.com/articles/aaZo4',\n",
       "  'https://gunosy.com/articles/aEGYj',\n",
       "  'https://gunosy.com/articles/aEGYj',\n",
       "  'https://gunosy.com/articles/RSBGl',\n",
       "  'https://gunosy.com/articles/RSBGl',\n",
       "  'https://gunosy.com/articles/R5d2j',\n",
       "  'https://gunosy.com/articles/R5d2j',\n",
       "  'https://gunosy.com/articles/RwtZl',\n",
       "  'https://gunosy.com/articles/RwtZl',\n",
       "  'https://gunosy.com/articles/aDOjR',\n",
       "  'https://gunosy.com/articles/aDOjR',\n",
       "  'https://gunosy.com/articles/aeWaM',\n",
       "  'https://gunosy.com/articles/aeWaM',\n",
       "  'https://gunosy.com/articles/RX0eF',\n",
       "  'https://gunosy.com/articles/RX0eF',\n",
       "  'https://gunosy.com/articles/RfNJ0',\n",
       "  'https://gunosy.com/articles/RfNJ0',\n",
       "  'https://gunosy.com/articles/RqKil',\n",
       "  'https://gunosy.com/articles/RqKil',\n",
       "  'https://gunosy.com/articles/RCKAb',\n",
       "  'https://gunosy.com/articles/RCKAb',\n",
       "  'https://gunosy.com/articles/RKfeB',\n",
       "  'https://gunosy.com/articles/R2z2l',\n",
       "  'https://gunosy.com/articles/R2z2l',\n",
       "  'https://gunosy.com/articles/aPGt7',\n",
       "  'https://gunosy.com/articles/aPGt7',\n",
       "  'https://gunosy.com/articles/RvwMh',\n",
       "  'https://gunosy.com/articles/RvwMh',\n",
       "  'https://gunosy.com/articles/R5Kvj',\n",
       "  'https://gunosy.com/articles/R5Kvj',\n",
       "  'https://gunosy.com/articles/aPzeF',\n",
       "  'https://gunosy.com/articles/aPzeF',\n",
       "  'https://gunosy.com/articles/RdPvl',\n",
       "  'https://gunosy.com/articles/RdPvl',\n",
       "  'https://gunosy.com/articles/RXGKF',\n",
       "  'https://gunosy.com/articles/RXGKF',\n",
       "  'https://gunosy.com/articles/aeSal',\n",
       "  'https://gunosy.com/articles/aeSal',\n",
       "  'https://gunosy.com/articles/aa8BR',\n",
       "  'https://gunosy.com/articles/aa8BR',\n",
       "  'https://gunosy.com/articles/azILj',\n",
       "  'https://gunosy.com/articles/azILj',\n",
       "  'https://gunosy.com/articles/aWHeQ',\n",
       "  'https://gunosy.com/articles/aWHeQ',\n",
       "  'https://gunosy.com/articles/aHbKQ',\n",
       "  'https://gunosy.com/articles/aHbKQ',\n",
       "  'https://gunosy.com/articles/RXiqy',\n",
       "  'https://gunosy.com/articles/RXiqy'],\n",
       " 'コラム': ['https://gunosy.com/articles/RoldM',\n",
       "  'https://gunosy.com/articles/RoldM',\n",
       "  'https://gunosy.com/articles/RVLxB',\n",
       "  'https://gunosy.com/articles/RVLxB',\n",
       "  'https://gunosy.com/articles/RCwlh',\n",
       "  'https://gunosy.com/articles/RCwlh',\n",
       "  'https://gunosy.com/articles/aYspQ',\n",
       "  'https://gunosy.com/articles/aYspQ',\n",
       "  'https://gunosy.com/articles/RuDmQ',\n",
       "  'https://gunosy.com/articles/RuDmQ',\n",
       "  'https://gunosy.com/articles/RoWDj',\n",
       "  'https://gunosy.com/articles/RoWDj',\n",
       "  'https://gunosy.com/articles/axhNF',\n",
       "  'https://gunosy.com/articles/axhNF',\n",
       "  'https://gunosy.com/articles/amSal',\n",
       "  'https://gunosy.com/articles/amSal',\n",
       "  'https://gunosy.com/articles/RYsoB',\n",
       "  'https://gunosy.com/articles/RYsoB',\n",
       "  'https://gunosy.com/articles/RC3ij',\n",
       "  'https://gunosy.com/articles/RC3ij',\n",
       "  'https://gunosy.com/articles/RNxzh',\n",
       "  'https://gunosy.com/articles/RAb8y',\n",
       "  'https://gunosy.com/articles/RAb8y',\n",
       "  'https://gunosy.com/articles/a4gxF',\n",
       "  'https://gunosy.com/articles/a4gxF',\n",
       "  'https://gunosy.com/articles/aPnil',\n",
       "  'https://gunosy.com/articles/aPnil',\n",
       "  'https://gunosy.com/articles/acp6y',\n",
       "  'https://gunosy.com/articles/acp6y',\n",
       "  'https://gunosy.com/articles/R0SPl',\n",
       "  'https://gunosy.com/articles/R0SPl',\n",
       "  'https://gunosy.com/articles/apiyh',\n",
       "  'https://gunosy.com/articles/apiyh',\n",
       "  'https://gunosy.com/articles/RfZD0',\n",
       "  'https://gunosy.com/articles/RfZD0',\n",
       "  'https://gunosy.com/articles/azVbh',\n",
       "  'https://gunosy.com/articles/azVbh',\n",
       "  'https://gunosy.com/articles/af5nF',\n",
       "  'https://gunosy.com/articles/af5nF',\n",
       "  'https://gunosy.com/articles/RmggA',\n",
       "  'https://gunosy.com/articles/RmggA',\n",
       "  'https://gunosy.com/articles/aCSMz',\n",
       "  'https://gunosy.com/articles/aCSMz',\n",
       "  'https://gunosy.com/articles/a9FEB',\n",
       "  'https://gunosy.com/articles/a9FEB',\n",
       "  'https://gunosy.com/articles/a4slR',\n",
       "  'https://gunosy.com/articles/a4slR',\n",
       "  'https://gunosy.com/articles/RSEzh',\n",
       "  'https://gunosy.com/articles/RSEzh',\n",
       "  'https://gunosy.com/articles/aw617',\n",
       "  'https://gunosy.com/articles/aw617',\n",
       "  'https://gunosy.com/articles/aGSo4',\n",
       "  'https://gunosy.com/articles/aGSo4',\n",
       "  'https://gunosy.com/articles/RyRDM',\n",
       "  'https://gunosy.com/articles/RyRDM',\n",
       "  'https://gunosy.com/articles/aHqfQ',\n",
       "  'https://gunosy.com/articles/aHqfQ',\n",
       "  'https://gunosy.com/articles/abBiM',\n",
       "  'https://gunosy.com/articles/abBiM'],\n",
       " 'IT・科学': ['https://gunosy.com/articles/RWNYM',\n",
       "  'https://gunosy.com/articles/RWNYM',\n",
       "  'https://gunosy.com/articles/RSvWA',\n",
       "  'https://gunosy.com/articles/RSvWA',\n",
       "  'https://gunosy.com/articles/aOCOB',\n",
       "  'https://gunosy.com/articles/aOCOB',\n",
       "  'https://gunosy.com/articles/RVyRz',\n",
       "  'https://gunosy.com/articles/RVyRz',\n",
       "  'https://gunosy.com/articles/RF4Jj',\n",
       "  'https://gunosy.com/articles/RF4Jj',\n",
       "  'https://gunosy.com/articles/aW2jz',\n",
       "  'https://gunosy.com/articles/aW2jz',\n",
       "  'https://gunosy.com/articles/aDPMz',\n",
       "  'https://gunosy.com/articles/aDPMz',\n",
       "  'https://gunosy.com/articles/R58bb',\n",
       "  'https://gunosy.com/articles/R58bb',\n",
       "  'https://gunosy.com/articles/a6oLl',\n",
       "  'https://gunosy.com/articles/a6oLl',\n",
       "  'https://gunosy.com/articles/RWoPj',\n",
       "  'https://gunosy.com/articles/RWoPj',\n",
       "  'https://gunosy.com/articles/R3O0R',\n",
       "  'https://gunosy.com/articles/R3O0R',\n",
       "  'https://gunosy.com/articles/Rp6ty',\n",
       "  'https://gunosy.com/articles/Rp6ty',\n",
       "  'https://gunosy.com/articles/RKy57',\n",
       "  'https://gunosy.com/articles/RKy57',\n",
       "  'https://gunosy.com/articles/RMA67',\n",
       "  'https://gunosy.com/articles/RMA67',\n",
       "  'https://gunosy.com/articles/RsV1A',\n",
       "  'https://gunosy.com/articles/RsV1A',\n",
       "  'https://gunosy.com/articles/RytLj',\n",
       "  'https://gunosy.com/articles/RytLj',\n",
       "  'https://gunosy.com/articles/aRmFz',\n",
       "  'https://gunosy.com/articles/aRmFz',\n",
       "  'https://gunosy.com/articles/RQ96A',\n",
       "  'https://gunosy.com/articles/RQ96A',\n",
       "  'https://gunosy.com/articles/awcMz',\n",
       "  'https://gunosy.com/articles/RbsLl',\n",
       "  'https://gunosy.com/articles/RbczR',\n",
       "  'https://gunosy.com/articles/RbczR',\n",
       "  'https://gunosy.com/articles/RF3uM',\n",
       "  'https://gunosy.com/articles/RF3uM',\n",
       "  'https://gunosy.com/articles/R3T97',\n",
       "  'https://gunosy.com/articles/R3T97',\n",
       "  'https://gunosy.com/articles/a0JVQ',\n",
       "  'https://gunosy.com/articles/a0JVQ',\n",
       "  'https://gunosy.com/articles/RFEil',\n",
       "  'https://gunosy.com/articles/RFEil',\n",
       "  'https://gunosy.com/articles/aZrLl',\n",
       "  'https://gunosy.com/articles/aZrLl',\n",
       "  'https://gunosy.com/articles/a0W7z',\n",
       "  'https://gunosy.com/articles/a0W7z',\n",
       "  'https://gunosy.com/articles/auK87',\n",
       "  'https://gunosy.com/articles/auK87',\n",
       "  'https://gunosy.com/articles/R1T6A',\n",
       "  'https://gunosy.com/articles/R1T6A',\n",
       "  'https://gunosy.com/articles/a9AyR',\n",
       "  'https://gunosy.com/articles/a9AyR'],\n",
       " 'グルメ': ['https://gunosy.com/articles/R3VQz',\n",
       "  'https://gunosy.com/articles/R3VQz',\n",
       "  'https://gunosy.com/articles/RLFIA',\n",
       "  'https://gunosy.com/articles/RLFIA',\n",
       "  'https://gunosy.com/articles/aXDyh',\n",
       "  'https://gunosy.com/articles/aXDyh',\n",
       "  'https://gunosy.com/articles/R16oQ',\n",
       "  'https://gunosy.com/articles/R16oQ',\n",
       "  'https://gunosy.com/articles/a61q7',\n",
       "  'https://gunosy.com/articles/a61q7',\n",
       "  'https://gunosy.com/articles/aAAeF',\n",
       "  'https://gunosy.com/articles/aAAeF',\n",
       "  'https://gunosy.com/articles/afsMR',\n",
       "  'https://gunosy.com/articles/afsMR',\n",
       "  'https://gunosy.com/articles/RQlZj',\n",
       "  'https://gunosy.com/articles/RQlZj',\n",
       "  'https://gunosy.com/articles/a0HZl',\n",
       "  'https://gunosy.com/articles/a0HZl',\n",
       "  'https://gunosy.com/articles/aXyZj',\n",
       "  'https://gunosy.com/articles/aXyZj',\n",
       "  'https://gunosy.com/articles/RoYTA',\n",
       "  'https://gunosy.com/articles/RoYTA',\n",
       "  'https://gunosy.com/articles/Ryhjb',\n",
       "  'https://gunosy.com/articles/Ryhjb',\n",
       "  'https://gunosy.com/articles/aHjFh',\n",
       "  'https://gunosy.com/articles/aHjFh',\n",
       "  'https://gunosy.com/articles/RjIuM',\n",
       "  'https://gunosy.com/articles/RjIuM',\n",
       "  'https://gunosy.com/articles/RwMVB',\n",
       "  'https://gunosy.com/articles/RwMVB',\n",
       "  'https://gunosy.com/articles/a0cJM',\n",
       "  'https://gunosy.com/articles/a0cJM',\n",
       "  'https://gunosy.com/articles/aRyMb',\n",
       "  'https://gunosy.com/articles/aRyMb',\n",
       "  'https://gunosy.com/articles/RLsmF',\n",
       "  'https://gunosy.com/articles/RLsmF',\n",
       "  'https://gunosy.com/articles/a6fZ0',\n",
       "  'https://gunosy.com/articles/a6fZ0',\n",
       "  'https://gunosy.com/articles/RWZqy',\n",
       "  'https://gunosy.com/articles/RWZqy',\n",
       "  'https://gunosy.com/articles/axLWA',\n",
       "  'https://gunosy.com/articles/axLWA',\n",
       "  'https://gunosy.com/articles/RMfmF',\n",
       "  'https://gunosy.com/articles/RMfmF',\n",
       "  'https://gunosy.com/articles/R8iPl',\n",
       "  'https://gunosy.com/articles/R8iPl',\n",
       "  'https://gunosy.com/articles/aWCNQ',\n",
       "  'https://gunosy.com/articles/aWCNQ',\n",
       "  'https://gunosy.com/articles/RI0Hy',\n",
       "  'https://gunosy.com/articles/RI0Hy',\n",
       "  'https://gunosy.com/articles/aCXs4',\n",
       "  'https://gunosy.com/articles/aCXs4',\n",
       "  'https://gunosy.com/articles/Ry8Zl',\n",
       "  'https://gunosy.com/articles/Ry8Zl',\n",
       "  'https://gunosy.com/articles/aCunB',\n",
       "  'https://gunosy.com/articles/aCunB',\n",
       "  'https://gunosy.com/articles/a6liM',\n",
       "  'https://gunosy.com/articles/a6liM',\n",
       "  'https://gunosy.com/articles/aa70b',\n",
       "  'https://gunosy.com/articles/aa70b']}"
      ]
     },
     "execution_count": 16,
     "metadata": {},
     "output_type": "execute_result"
    }
   ],
   "source": [
    "sub_pick_url_dic"
   ]
  },
  {
   "cell_type": "markdown",
   "metadata": {},
   "source": [
    "## ページを移るボタンの中のページへ移る\n",
    "* サンプル "
   ]
  },
  {
   "cell_type": "code",
   "execution_count": 29,
   "metadata": {
    "ExecuteTime": {
     "end_time": "2018-12-21T10:49:16.403365Z",
     "start_time": "2018-12-21T10:49:16.400672Z"
    }
   },
   "outputs": [],
   "source": [
    "url = \"https://gunosy.com/categories/1\""
   ]
  },
  {
   "cell_type": "code",
   "execution_count": 30,
   "metadata": {
    "ExecuteTime": {
     "end_time": "2018-12-21T10:49:20.726893Z",
     "start_time": "2018-12-21T10:49:18.440176Z"
    }
   },
   "outputs": [],
   "source": [
    "res = urllib.request.urlopen(url)\n",
    "data = res.read()\n",
    "text = data.decode(\"utf-8\")\n",
    "soup = BS(text, \"html.parser\")"
   ]
  },
  {
   "cell_type": "code",
   "execution_count": null,
   "metadata": {},
   "outputs": [],
   "source": []
  },
  {
   "cell_type": "code",
   "execution_count": null,
   "metadata": {},
   "outputs": [],
   "source": []
  },
  {
   "cell_type": "markdown",
   "metadata": {},
   "source": [
    "# 記事の内容のスクレイピング"
   ]
  },
  {
   "cell_type": "code",
   "execution_count": 19,
   "metadata": {
    "ExecuteTime": {
     "end_time": "2018-12-21T10:38:25.823239Z",
     "start_time": "2018-12-21T10:38:25.818758Z"
    }
   },
   "outputs": [],
   "source": [
    "url = 'https://gunosy.com/articles/Rp4x4'"
   ]
  },
  {
   "cell_type": "code",
   "execution_count": 27,
   "metadata": {
    "ExecuteTime": {
     "end_time": "2018-12-21T10:47:01.124782Z",
     "start_time": "2018-12-21T10:47:00.654697Z"
    }
   },
   "outputs": [],
   "source": [
    "res = urllib.request.urlopen(url)\n",
    "data = res.read()\n",
    "text = data.decode(\"utf-8\")\n",
    "soup = BS(text, \"html.parser\")"
   ]
  },
  {
   "cell_type": "code",
   "execution_count": 23,
   "metadata": {
    "ExecuteTime": {
     "end_time": "2018-12-21T10:41:54.043840Z",
     "start_time": "2018-12-21T10:41:54.036495Z"
    }
   },
   "outputs": [],
   "source": [
    "body = soup.html.body\n",
    "articlie = body.find_all(\"p\")"
   ]
  },
  {
   "cell_type": "code",
   "execution_count": 25,
   "metadata": {
    "ExecuteTime": {
     "end_time": "2018-12-21T10:42:17.443541Z",
     "start_time": "2018-12-21T10:42:17.436951Z"
    }
   },
   "outputs": [
    {
     "name": "stdout",
     "output_type": "stream",
     "text": [
      "グノシー\n",
      "我が道を行く新感覚グルメドラマ『忘却のサチコ』（テレビ東京系）。第10話では、あの有名店のオムライスに幸子がほだされます。\n",
      "None\n",
      "■「いつも通り＝精一杯努める」の幸子\n",
      "編集者によるネット討論番組に出演することになった我らが佐々木幸子（高畑充希）。その名も「今必要な恋愛小説」。\n",
      "編集長（吹越満）から「いつも通りでいいからな」と言われるも「はい、精一杯努めてまいります！」と高らかに返事する幸子。確かに、いつでも愚直に手抜きなしが幸子の「いつも通り」。編集長はおそらくリラックスさせる意図で言ったのだろうが、そう受け取れない不器用な幸子がかっこいい。\n",
      "■まずは「おやき」で忘却\n",
      "しかし本番前、ネット番組→全世界の人が見ている→結婚式当日に失踪した元・新郎の俊吾さん（早乙女太一）が生放送中に現れるかも！　と妄想し、パニックになりかけた幸子は、いつものように美味しいものを食べてつらい気持ちを「忘却」することに。\n",
      "幸子の目に留まったのは、主催者が長野出身とのことでケータリングに置かれていた「おやき」。\n",
      "言わずと知れた、きんぴらやかぼちゃなどの具を小麦の皮で包んで焼いたお惣菜饅頭。\n",
      "幸子が選んだのは、定番中の定番の具材、野沢菜。\n",
      "奇をてらってない飽きの来ない味は、いつ食べても落ち着く。\n",
      "蒸した肉まんよりやや皮が硬めなのも、武骨でいい。素朴を絵に描いたような郷土の味ながら、現代でも通じる惣菜パン的おやつ。\n",
      "■幸子のライバル\n",
      "実はこの討論番組のキャスティングは、「月刊スピカ」の尾野真由美（佐藤めぐみ）が裏で手を回し仕組んだもの。\n",
      "8話で初登場し、接待の場で幸子に大敗を喫した尾野は、幸子を陥れるために復讐の炎を燃やす、わかりやすい女狐タイプのライバルだ。\n",
      "今回も本番前に主催者で司会の社会学者（六角慎司）の手をハプニングを装って握り、色仕掛けに走るなど余念がないが、幸子にストッキングが伝線してることを教えられパニクるなどやはり天敵・幸子にペースを乱される。\n",
      "本番中も、社会問題に恋愛を絡めたような作品、読者の知識レベルや倫理観を高められるような小説が必要、毒にも薬にもならない小説は必要ないと強弁し、存在感を示そうと躍起になる尾野。\n",
      "それに対し、社会的弱者であろうとなかろうと悩みはさまざまなので、自分の物語だと思える作品を見つけることができるのが「小説」であるから、よって「今必要な恋愛小説」の答えは「全ての恋愛小説」だとある種の正解を出してしまう幸子。\n",
      "さらにネット住民が喜びそうな作家と編集者との色恋話をあえて繰り出す尾野に対し、幸子は、小説家とは身体一つで真っ暗な宇宙（未知の世界）へ飛び込んで人類（読者）を新しい世界へと誘うパイオニア「はやぶさ2号」（小惑星探査機）であると、壮大な例えを繰り出す。\n",
      "当初そんな存在と恋愛はできないとしていた幸子だが、悩んだ挙句、作家の先生を尊敬しているから、「もし愛する人が作家になったら愛と尊敬を両立させ新しい感情の扉を開くことができるかもしれません」と気持ちを吐き出す。\n",
      "尾野が常に視聴者や世論など他者のウケを優先し、ある種、媚びて発言するのに対し、幸子の発言は無茶苦茶ながらも自分の想いが貫かれており、そこに嘘がない。\n",
      "■幸子は嘘をつかない\n",
      "そう、この討論に限らず幸子は嘘をつかないのだ。\n",
      "いや、つけないと言ってもいいのかもしれない。\n",
      "式の最中に新郎がいなくなった時も、逃げられた悲劇の新婦である以上に、責任を伴う立場の当事者として、自ら状況を正直に淡々と説明、最悪の状況を「以上です」で締めくくり参列者を驚かせた。\n",
      "常に嘘がない故に、空気を読むことに長けまくっている現代の世では奇特に見えてしまうことも多いが、そのひたむきさにどこか胸を打たれることも多い。\n",
      "他人どころか自らを騙すなど自分に嘘がつけないから、毎度逃げた俊吾さんを思い出しては苦しんでしまうのだろう。\n",
      "当初は幸子、というか高畑のコスプレが必ずあったのだが、最近は俊吾さんこと早乙女太一のコスプレに移行してきている。\n",
      "今回も、宇宙から来た正義のヒーローや和装の文豪に早乙女が扮しているが、借り物的なコスプレではなくかなりの熱演で、早乙女の新たな魅力を見せてくれている。\n",
      "■三代目登場！\n",
      "番組終了後、幸子が立ち寄った店はあの「たいめいけん」。\n",
      "オムライスと真っ黒な3代目店長でお馴染みのあの老舗洋食店。\n",
      "絶品のカニクリームコロッケやコンソメスープを味わったあと、いよいよ名物タンポポオムライスが到着。\n",
      "伊丹十三の映画『たんぽぽ』（1985）でもお馴染みの、切り開くととろとろの卵が溢れるあのオムライス。\n",
      "デミグラスソースを纏った卵とチキンライスを口にいれ、思わず目を細める幸子。\n",
      "ケチャップもいいが洋食店ならではのデミグラスもいい。\n",
      "店長と見分けがつかないくらいの漆黒が卵に映える。\n",
      "食べてる最中、第2話のように3代目と踊り出すのでは？　とソワソワしたが、無事そういうハプニングもなく終了。3代目の不自然な固い笑顔がよかった。\n",
      "ちなみに映画『たんぽぽ』で、このオムライスが登場した時は、デミグラスではなく真っ赤なケチャップをかけている。\n",
      "トマトが好物な高畑にはそちらも食べさせてみたかった。\n",
      "■脇役の宝庫\n",
      "結局この日も幸子にいいところを持っていかれ、またしてもグギギとなった尾野真由美だが、だんだんその純粋な負けん気が可愛く見えてくるから不思議だ。\n",
      "そして、ニコニコ動画らしきサイトで「佐々木さん頑張れ」と必死にコメントを連打する後輩・小林（葉山奨之）も、どんどん存在感を増している。\n",
      "そして、堂々としてるがゆえに見落としがちだが、小林より先に「佐々木頑張れ」とコメントを打とうと言い出し、実践していた編集長。\n",
      "原作でもそうだが、時折佐々木を想う場面が見られる（恋愛感情かどうかは定かでないが）ので、もっと編集長を活躍させてあげてほしい。\n",
      "残りあとわずか。\n",
      "None\n",
      "元記事を読む\n",
      "None\n",
      "『忘却のサチコ』に“ジーニアス黒田”再び！　踊る高畑充希に食う高畑充希……\n",
      "『忘却のサチコ』サワークリームのような甘酸っぱい葉山奨之に母性を刺激される……今回はロシア料理！\n",
      "『忘却のサチコ』グルメドラマなのに展開が気になるなんて……ついに本物の“俊吾さん”が登場！\n",
      "最近人気のあったニュース\n",
      "JOY、「絶縁宣言」の相手は「ZOZO・前澤氏のモノマネ芸人」!? “炎上商法”に周囲呆れ\n",
      "小嶋陽菜“一般人が撮った写真”にあぜん...芸能界固執が痛々しい\n",
      "「僕、韓国人だったんですよ」実は日本人じゃない意外な芸能人たち\n",
      "2億円整形サイボーグ・ヴァニラの現在に悲鳴 「怖すぎる」「命が危なそう」\n",
      "松嶋尚美、南青山の児童相談所建設への発言に視聴者愕然 「虐待」「偏見であり差別」と炎上\n",
      "人気声優・平野綾(31)の現在に衝撃 「マジかよ...」「あり得ない」と視聴者驚愕\n",
      "元TOKIO・山口達也氏を見舞う唯一のメンバーとは... 「想像して涙出た」と感動拡がる\n",
      "「胸とお尻の二刀流」...鈴木ふみ奈、むっちりセクシーなグラビア公開！\n",
      "どんぎつね・吉岡里穂の1st写真集「ぼくのそばにきみがいる」が公開！\n",
      "浜崎あゆみ(40)コスプレ姿が披露される 「これは問題」「顔面偏差値が...」\n",
      "キーワードで気になるニュースを絞りこもう\n"
     ]
    }
   ],
   "source": [
    "for i in articlie:\n",
    "    print(i.string)"
   ]
  },
  {
   "cell_type": "markdown",
   "metadata": {},
   "source": [
    "# 全過程をまとめる\n",
    "## このnoteでは。。。\n",
    "1.  トップページのカテゴリごとのメインURLを取得\n",
    "2.  カテゴリーごとのURLに移り、そこの記事のURLを取得\n",
    "    - なお、次のページの中身の記事のURLも読む\n",
    "\n",
    "**  ここまでで、カテゴリ別の全てのURLを格納 **\n",
    " \n",
    "3.  URlを辿って中身の記事を抜き取る\n",
    "-------------------------------\n",
    "-------------------------------"
   ]
  },
  {
   "cell_type": "code",
   "execution_count": null,
   "metadata": {},
   "outputs": [],
   "source": []
  }
 ],
 "metadata": {
  "hide_input": false,
  "kernelspec": {
   "display_name": "Python 3",
   "language": "python",
   "name": "python3"
  },
  "language_info": {
   "codemirror_mode": {
    "name": "ipython",
    "version": 3
   },
   "file_extension": ".py",
   "mimetype": "text/x-python",
   "name": "python",
   "nbconvert_exporter": "python",
   "pygments_lexer": "ipython3",
   "version": "3.6.5"
  },
  "latex_envs": {
   "LaTeX_envs_menu_present": true,
   "autoclose": false,
   "autocomplete": true,
   "bibliofile": "biblio.bib",
   "cite_by": "apalike",
   "current_citInitial": 1,
   "eqLabelWithNumbers": true,
   "eqNumInitial": 1,
   "hotkeys": {
    "equation": "Ctrl-E",
    "itemize": "Ctrl-I"
   },
   "labels_anchors": false,
   "latex_user_defs": false,
   "report_style_numbering": false,
   "user_envs_cfg": false
  },
  "toc": {
   "base_numbering": 1,
   "nav_menu": {},
   "number_sections": true,
   "sideBar": true,
   "skip_h1_title": false,
   "title_cell": "Table of Contents",
   "title_sidebar": "Contents",
   "toc_cell": false,
   "toc_position": {
    "height": "calc(100% - 180px)",
    "left": "10px",
    "top": "150px",
    "width": "173px"
   },
   "toc_section_display": true,
   "toc_window_display": true
  }
 },
 "nbformat": 4,
 "nbformat_minor": 2
}
