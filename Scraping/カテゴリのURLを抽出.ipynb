{
 "cells": [
  {
   "cell_type": "markdown",
   "metadata": {
    "ExecuteTime": {
     "end_time": "2018-12-20T14:10:42.576138Z",
     "start_time": "2018-12-20T14:10:42.570653Z"
    }
   },
   "source": [
    "# カテゴリ別URLの抽出"
   ]
  },
  {
   "cell_type": "markdown",
   "metadata": {},
   "source": [
    "## 必要なライブラリのimport "
   ]
  },
  {
   "cell_type": "code",
   "execution_count": 1,
   "metadata": {
    "ExecuteTime": {
     "end_time": "2018-12-20T15:27:53.281993Z",
     "start_time": "2018-12-20T15:27:53.114411Z"
    }
   },
   "outputs": [],
   "source": [
    "import urllib.request\n",
    "import urllib.parse\n",
    "from bs4 import BeautifulSoup as BS"
   ]
  },
  {
   "cell_type": "markdown",
   "metadata": {},
   "source": [
    "## htmlを抽出"
   ]
  },
  {
   "cell_type": "code",
   "execution_count": 2,
   "metadata": {
    "ExecuteTime": {
     "end_time": "2018-12-20T15:27:53.835987Z",
     "start_time": "2018-12-20T15:27:53.284395Z"
    }
   },
   "outputs": [],
   "source": [
    "url = \" https://gunosy.com/\"\n",
    "res = urllib.request.urlopen(url)\n",
    "data = res.read()\n",
    "text = data.decode(\"utf-8\")"
   ]
  },
  {
   "cell_type": "markdown",
   "metadata": {},
   "source": [
    "## htmlを解析"
   ]
  },
  {
   "cell_type": "code",
   "execution_count": 3,
   "metadata": {
    "ExecuteTime": {
     "end_time": "2018-12-20T15:27:53.878854Z",
     "start_time": "2018-12-20T15:27:53.838709Z"
    }
   },
   "outputs": [],
   "source": [
    "soup = BS(text, 'html.parser')"
   ]
  },
  {
   "cell_type": "code",
   "execution_count": 4,
   "metadata": {
    "ExecuteTime": {
     "end_time": "2018-12-20T15:27:54.060529Z",
     "start_time": "2018-12-20T15:27:53.880549Z"
    }
   },
   "outputs": [
    {
     "data": {
      "text/plain": [
       "<!DOCTYPE html>\n",
       "<html><head>\n",
       "<script type=\"text/javascript\">window.NREUM||(NREUM={});NREUM.info={\"beacon\":\"bam.nr-data.net\",\"errorBeacon\":\"bam.nr-data.net\",\"licenseKey\":\"eaf049d9ba\",\"applicationID\":\"10640075\",\"transactionName\":\"cgpZQRNbWg1QQBxRVlwAGEYJW0E=\",\"queueTime\":0,\"applicationTime\":265,\"agent\":\"\"}</script>\n",
       "<script type=\"text/javascript\">window.NREUM||(NREUM={}),__nr_require=function(e,n,t){function r(t){if(!n[t]){var o=n[t]={exports:{}};e[t][0].call(o.exports,function(n){var o=e[t][1][n];return r(o||n)},o,o.exports)}return n[t].exports}if(\"function\"==typeof __nr_require)return __nr_require;for(var o=0;o<t.length;o++)r(t[o]);return r}({1:[function(e,n,t){function r(){}function o(e,n,t){return function(){return i(e,[c.now()].concat(u(arguments)),n?null:this,t),n?void 0:this}}var i=e(\"handle\"),a=e(3),u=e(4),f=e(\"ee\").get(\"tracer\"),c=e(\"loader\"),s=NREUM;\"undefined\"==typeof window.newrelic&&(newrelic=s);var p=[\"setPageViewName\",\"setCustomAttribute\",\"setErrorHandler\",\"finished\",\"addToTrace\",\"inlineHit\",\"addRelease\"],d=\"api-\",l=d+\"ixn-\";a(p,function(e,n){s[n]=o(d+n,!0,\"api\")}),s.addPageAction=o(d+\"addPageAction\",!0),s.setCurrentRouteName=o(d+\"routeName\",!0),n.exports=newrelic,s.interaction=function(){return(new r).get()};var m=r.prototype={createTracer:function(e,n){var t={},r=this,o=\"function\"==typeof n;return i(l+\"tracer\",[c.now(),e,t],r),function(){if(f.emit((o?\"\":\"no-\")+\"fn-start\",[c.now(),r,o],t),o)try{return n.apply(this,arguments)}catch(e){throw f.emit(\"fn-err\",[arguments,this,e],t),e}finally{f.emit(\"fn-end\",[c.now()],t)}}}};a(\"actionText,setName,setAttribute,save,ignore,onEnd,getContext,end,get\".split(\",\"),function(e,n){m[n]=o(l+n)}),newrelic.noticeError=function(e){\"string\"==typeof e&&(e=new Error(e)),i(\"err\",[e,c.now()])}},{}],2:[function(e,n,t){function r(e,n){if(!o)return!1;if(e!==o)return!1;if(!n)return!0;if(!i)return!1;for(var t=i.split(\".\"),r=n.split(\".\"),a=0;a<r.length;a++)if(r[a]!==t[a])return!1;return!0}var o=null,i=null,a=/Version\\/(\\S+)\\s+Safari/;if(navigator.userAgent){var u=navigator.userAgent,f=u.match(a);f&&u.indexOf(\"Chrome\")===-1&&u.indexOf(\"Chromium\")===-1&&(o=\"Safari\",i=f[1])}n.exports={agent:o,version:i,match:r}},{}],3:[function(e,n,t){function r(e,n){var t=[],r=\"\",i=0;for(r in e)o.call(e,r)&&(t[i]=n(r,e[r]),i+=1);return t}var o=Object.prototype.hasOwnProperty;n.exports=r},{}],4:[function(e,n,t){function r(e,n,t){n||(n=0),\"undefined\"==typeof t&&(t=e?e.length:0);for(var r=-1,o=t-n||0,i=Array(o<0?0:o);++r<o;)i[r]=e[n+r];return i}n.exports=r},{}],5:[function(e,n,t){n.exports={exists:\"undefined\"!=typeof window.performance&&window.performance.timing&&\"undefined\"!=typeof window.performance.timing.navigationStart}},{}],ee:[function(e,n,t){function r(){}function o(e){function n(e){return e&&e instanceof r?e:e?f(e,u,i):i()}function t(t,r,o,i){if(!d.aborted||i){e&&e(t,r,o);for(var a=n(o),u=v(t),f=u.length,c=0;c<f;c++)u[c].apply(a,r);var p=s[y[t]];return p&&p.push([b,t,r,a]),a}}function l(e,n){h[e]=v(e).concat(n)}function m(e,n){var t=h[e];if(t)for(var r=0;r<t.length;r++)t[r]===n&&t.splice(r,1)}function v(e){return h[e]||[]}function g(e){return p[e]=p[e]||o(t)}function w(e,n){c(e,function(e,t){n=n||\"feature\",y[t]=n,n in s||(s[n]=[])})}var h={},y={},b={on:l,addEventListener:l,removeEventListener:m,emit:t,get:g,listeners:v,context:n,buffer:w,abort:a,aborted:!1};return b}function i(){return new r}function a(){(s.api||s.feature)&&(d.aborted=!0,s=d.backlog={})}var u=\"nr@context\",f=e(\"gos\"),c=e(3),s={},p={},d=n.exports=o();d.backlog=s},{}],gos:[function(e,n,t){function r(e,n,t){if(o.call(e,n))return e[n];var r=t();if(Object.defineProperty&&Object.keys)try{return Object.defineProperty(e,n,{value:r,writable:!0,enumerable:!1}),r}catch(i){}return e[n]=r,r}var o=Object.prototype.hasOwnProperty;n.exports=r},{}],handle:[function(e,n,t){function r(e,n,t,r){o.buffer([e],r),o.emit(e,n,t)}var o=e(\"ee\").get(\"handle\");n.exports=r,r.ee=o},{}],id:[function(e,n,t){function r(e){var n=typeof e;return!e||\"object\"!==n&&\"function\"!==n?-1:e===window?0:a(e,i,function(){return o++})}var o=1,i=\"nr@id\",a=e(\"gos\");n.exports=r},{}],loader:[function(e,n,t){function r(){if(!E++){var e=x.info=NREUM.info,n=l.getElementsByTagName(\"script\")[0];if(setTimeout(s.abort,3e4),!(e&&e.licenseKey&&e.applicationID&&n))return s.abort();c(y,function(n,t){e[n]||(e[n]=t)}),f(\"mark\",[\"onload\",a()+x.offset],null,\"api\");var t=l.createElement(\"script\");t.src=\"https://\"+e.agent,n.parentNode.insertBefore(t,n)}}function o(){\"complete\"===l.readyState&&i()}function i(){f(\"mark\",[\"domContent\",a()+x.offset],null,\"api\")}function a(){return O.exists&&performance.now?Math.round(performance.now()):(u=Math.max((new Date).getTime(),u))-x.offset}var u=(new Date).getTime(),f=e(\"handle\"),c=e(3),s=e(\"ee\"),p=e(2),d=window,l=d.document,m=\"addEventListener\",v=\"attachEvent\",g=d.XMLHttpRequest,w=g&&g.prototype;NREUM.o={ST:setTimeout,SI:d.setImmediate,CT:clearTimeout,XHR:g,REQ:d.Request,EV:d.Event,PR:d.Promise,MO:d.MutationObserver};var h=\"\"+location,y={beacon:\"bam.nr-data.net\",errorBeacon:\"bam.nr-data.net\",agent:\"js-agent.newrelic.com/nr-1099.min.js\"},b=g&&w&&w[m]&&!/CriOS/.test(navigator.userAgent),x=n.exports={offset:u,now:a,origin:h,features:{},xhrWrappable:b,userAgent:p};e(1),l[m]?(l[m](\"DOMContentLoaded\",i,!1),d[m](\"load\",r,!1)):(l[v](\"onreadystatechange\",o),d[v](\"onload\",r)),f(\"mark\",[\"firstbyte\",u],null,\"api\");var E=0,O=e(5)},{}]},{},[\"loader\"]);</script><meta content=\"width=device-width,initial-scale=1.0,minimum-scale=1.0,user-scalable=0\" name=\"viewport\"/><meta content=\"apple-itunes-app\" name=\"apple-itunes-app\"/><meta content=\"282785358406948\" property=\"fb:app_id\"/><title>グノシー  無料で読めるニュースまとめ</title>\n",
       "<meta content=\"無料のニュースアプリ、グノシー（Gunosy）は、「エンタメ」「スポーツ」など、幅広い分野の旬のトピックがまとめて読むことができます。100以上のメディア様の情報をご用意しており、チャンネルとして追加していただけます。また、マンガも無料で続々配信中です。スマートフォンアプリでもダウンロードして、ぜひご利用ください。\" name=\"description\"/>\n",
       "<meta content=\"グノシー 雑談力がつくニュースアプリ\" property=\"og:site_name\"/>\n",
       "<meta content=\"website\" property=\"og:type\"/>\n",
       "<meta content=\"ja_JP\" property=\"og:locale\"/>\n",
       "<meta content=\"ニュースアプリ「グノシー」\" property=\"og:title\"/>\n",
       "<meta content=\"雑談力がつくニュースアプリ\" property=\"og:description\"/>\n",
       "<meta content=\"https://gunosy.com\" property=\"og:url\"/>\n",
       "<meta content=\"https://webassets.gunosy.com/assets/gunosy-share-466154a7e6741b0dbc8895ceff97e34818892a0e7dbc05d641d2606f8820dd35.jpg\" property=\"og:image\"/>\n",
       "<meta content=\"Gunosy（グノシー）\" property=\"al:ios:app_name\"/>\n",
       "<meta content=\"590384791\" property=\"al:ios:app_store_id\"/>\n",
       "<meta content=\"Gunosy（グノシー）\" property=\"al:android:app_name\"/>\n",
       "<meta content=\"com.gunosy.android\" property=\"al:android:package\"/>\n",
       "<meta content=\"525154259\" name=\"twitter:account_id\"/>\n",
       "<meta content=\"summary_large_image\" name=\"twitter:card\"/>\n",
       "<meta content=\"@gunosy_news\" name=\"twitter:site\"/>\n",
       "<meta content=\"ニュースアプリ「グノシー」\" name=\"twitter:title\"/>\n",
       "<meta content=\"雑談力がつくニュースアプリ\" name=\"twitter:description\"/>\n",
       "<meta content=\"https://gunosy.com\" name=\"twitter:url\"/>\n",
       "<meta content=\"https://webassets.gunosy.com/assets/gunosy-share-466154a7e6741b0dbc8895ceff97e34818892a0e7dbc05d641d2606f8820dd35.jpg\" name=\"twitter:image\"/>\n",
       "<meta content=\"JP\" name=\"twitter:app:country\"/>\n",
       "<meta content=\"Gunosy（グノシー）\" name=\"twitter:app:name:iphone\"/>\n",
       "<meta content=\"Gunosy（グノシー）\" name=\"twitter:app:name:ipad\"/>\n",
       "<meta content=\"Gunosy（グノシー）\" name=\"twitter:app:name:googleplay\"/>\n",
       "<meta content=\"590384791\" name=\"twitter:app:id:iphone\"/>\n",
       "<meta content=\"590384791\" name=\"twitter:app:id:ipad\"/>\n",
       "<meta content=\"com.gunosy.android\" name=\"twitter:app:id:googleplay\"/>\n",
       "<meta content=\"gunosy:\" name=\"twitter:app:url:iphone\"/>\n",
       "<meta content=\"gunosy:\" name=\"twitter:app:url:ipad\"/>\n",
       "<meta content=\"gunosy:\" name=\"twitter:app:url:googleplay\"/><link href=\"https://webassets.gunosy.com/assets/pc/application-3dc669ce6d540567d0882ac4ec902b25ca14d3b4481f8f16b877d9ff5f7094a4.css\" media=\"all\" rel=\"stylesheet\"/><script src=\"https://webassets.gunosy.com/assets/pc/application-1f9fb263e71bba1e2e8f343560f3e61928cadb8a52096aa7d6ca5429305b5d51.js\"></script><link href=\"/favicon.ico\" rel=\"icon\" type=\"image/x-icon\"/><link href=\"/favicon.ico\" rel=\"shortcut icon\" type=\"image/x-icon\"/><link href=\"/apple-touch-icon.png\" rel=\"apple-touch-icon\"/><meta content=\"authenticity_token\" name=\"csrf-param\"/>\n",
       "<meta content=\"fpk1Akuilos4rE5NCryH6kk+eR20j/ZAVkK0cHxRKf3RHoOSVQIA54raDDakEmXXSk0bTr6dYhSyfiuVGtIeBw==\" name=\"csrf-token\"/></head><body> <!-- Google Tag Manager -->\n",
       "<noscript>\n",
       "<iframe height=\"0\" src=\"//www.googletagmanager.com/ns.html?id=GTM-WWXHMD\" style=\"display:none;visibility:hidden\" width=\"0\"></iframe></noscript>\n",
       "<script>(function(w,d,s,l,i){w[l]=w[l]||[];w[l].push({'gtm.start':\n",
       "  new Date().getTime(),event:'gtm.js'});var f=d.getElementsByTagName(s)[0],\n",
       "  j=d.createElement(s),dl=l!='dataLayer'?'&l='+l:'';j.async=true;j.src=\n",
       "  '//www.googletagmanager.com/gtm.js?id='+i+dl;f.parentNode.insertBefore(j,f);\n",
       "  })(window,document,'script','dataLayer','GTM-WWXHMD');\n",
       "  </script>\n",
       "<!-- End Google Tag Manager -->\n",
       "<header class=\"header\"><div class=\"header_inner\"><div class=\"header_logo\"><a class=\"gunosy_app_icon\" href=\"https://gunosy.com/\"><img alt=\"グノシー\" src=\"https://webassets.gunosy.com/assets/logo-gunosy-airplane-4f7cdb6e13d52ea03234357f40793947fa1509d58e250bd64a4d6d6e15c19492.png\"/><h1 class=\"header_title\">グノシー</h1></a></div><div class=\"header_list\"><ul><li><a href=\"https://gunosy.com/users/sign_in\">ログイン</a></li><li><a href=\"https://gunosy.com/sitemap\">サイトマップ</a></li></ul></div><div class=\"search_box\"><form action=\"/search\" id=\"cse-search-box\"><input class=\"search_box_text\" name=\"q\" type=\"text\" value=\"\"/><button class=\"search_box_btn\"><img alt=\"Search\" src=\"https://webassets.gunosy.com/assets/search-8894a6f51f9125bccc2281ffdbba2cfba5bd4ff240922ebca1a68902fb43e7b0.png\"/></button></form></div><script src=\"//www.google.com/cse/brand?form=cse-search-box&amp;lang=ja\" type=\"text/javascript\"></script></div></header><nav class=\"nav\"><ul class=\"nav_list gtm-click\" data-gtm=\"global_nav\"><li class=\"current nav_color_top\"><a href=\"https://gunosy.com/\">トップ</a></li><li class=\"nav_color_1\" data-id=\"1\"><a href=\"https://gunosy.com/categories/1\">エンタメ</a><ul class=\"nav_sub_list nav_sub_list_1\"><li><a href=\"https://gunosy.com/categories/9\">芸能</a></li><li><a href=\"https://gunosy.com/categories/10\">映画</a></li><li><a href=\"https://gunosy.com/categories/11\">音楽</a></li><li><a href=\"https://gunosy.com/categories/12\">テレビ</a></li><li><a href=\"https://gunosy.com/categories/13\">アニメ</a></li><li><a href=\"https://gunosy.com/categories/14\">ゲーム</a></li><li><a href=\"https://gunosy.com/categories/15\">漫画</a></li><li><a href=\"https://gunosy.com/categories/17\">海外セレブ</a></li></ul></li><li class=\"nav_color_2\" data-id=\"2\"><a href=\"https://gunosy.com/categories/2\">スポーツ</a><ul class=\"nav_sub_list nav_sub_list_2\"><li><a href=\"https://gunosy.com/categories/18\">プロ野球</a></li><li><a href=\"https://gunosy.com/categories/51\">格闘技</a></li><li><a href=\"https://gunosy.com/categories/19\">MLB</a></li><li><a href=\"https://gunosy.com/categories/20\">サッカー日本代表</a></li><li><a href=\"https://gunosy.com/categories/21\">Jリーグ</a></li><li><a href=\"https://gunosy.com/categories/22\">海外サッカー</a></li><li><a href=\"https://gunosy.com/categories/43\">高校野球</a></li><li><a href=\"https://gunosy.com/categories/44\">ゴルフ</a></li><li><a href=\"https://gunosy.com/categories/47\">大相撲</a></li><li><a href=\"https://gunosy.com/categories/48\">テニス</a></li><li><a href=\"https://gunosy.com/categories/54\">フィギュアスケート</a></li></ul></li><li class=\"nav_color_3\" data-id=\"3\"><a href=\"https://gunosy.com/categories/3\">おもしろ</a><ul class=\"nav_sub_list nav_sub_list_3\"><li><a href=\"https://gunosy.com/categories/23\">猫</a></li><li><a href=\"https://gunosy.com/categories/24\">動物</a></li><li><a href=\"https://gunosy.com/categories/25\">ネタ</a></li></ul></li><li class=\"nav_color_4\" data-id=\"4\"><a href=\"https://gunosy.com/categories/4\">国内</a><ul class=\"nav_sub_list nav_sub_list_4\"><li><a href=\"https://gunosy.com/categories/26\">社会</a></li><li><a href=\"https://gunosy.com/categories/27\">経済</a></li><li><a href=\"https://gunosy.com/categories/28\">政治</a></li></ul></li><li class=\"nav_color_5\" data-id=\"5\"><a href=\"https://gunosy.com/categories/5\">海外</a><ul class=\"nav_sub_list nav_sub_list_5\"><li><a href=\"https://gunosy.com/categories/29\">中国・韓国・アジア</a></li><li><a href=\"https://gunosy.com/categories/30\">国外総合</a></li></ul></li><li class=\"nav_color_6\" data-id=\"6\"><a href=\"https://gunosy.com/categories/6\">コラム</a><ul class=\"nav_sub_list nav_sub_list_6\"><li><a href=\"https://gunosy.com/categories/31\">恋愛</a></li><li><a href=\"https://gunosy.com/categories/32\">ビューティー</a></li><li><a href=\"https://gunosy.com/categories/42\">ファッション</a></li><li><a href=\"https://gunosy.com/categories/33\">コラム総合</a></li></ul></li><li class=\"nav_color_7\" data-id=\"7\"><a href=\"https://gunosy.com/categories/7\">IT・科学</a><ul class=\"nav_sub_list nav_sub_list_7\"><li><a href=\"https://gunosy.com/categories/34\">Apple</a></li><li><a href=\"https://gunosy.com/categories/35\">Android</a></li><li><a href=\"https://gunosy.com/categories/36\">IT総合</a></li><li><a href=\"https://gunosy.com/categories/52\">アプリ</a></li><li><a href=\"https://gunosy.com/categories/37\">サイエンス</a></li></ul></li><li class=\"nav_color_8\" data-id=\"8\"><a href=\"https://gunosy.com/categories/8\">グルメ</a><ul class=\"nav_sub_list nav_sub_list_8\"><li><a href=\"https://gunosy.com/categories/38\">お店</a></li><li><a href=\"https://gunosy.com/categories/39\">レシピ</a></li><li><a href=\"https://gunosy.com/categories/40\">新製品</a></li><li><a href=\"https://gunosy.com/categories/41\">グルメ総合</a></li></ul></li><li class=\"nav_color_ranking \"><a href=\"https://gunosy.com/ranking/daily\">ランキング</a></li></ul></nav><div class=\"home_header\"><div class=\"home_header_inner\"><ul class=\"gtm-click\" data-gtm=\"home_haeder_articles\"><li><a class=\"list_home_content\" href=\"https://gunosy.com/articles/RBD4b\"><img class=\"list_home_content_thumb\" src=\"data:image/png;base64,iVBORw0KGgoAAAANSUhEUgAAAAIAAAABCAYAAAD0In+KAAAAGXRFWHRTb2Z0d2FyZQBBZG9iZSBJbWFnZVJlYWR5ccllPAAAAA5JREFUeNpiYIACgAADAAAJAAE0lmO3AAAAAElFTkSuQmCC\" style=\"background-image:url(//images.gunosy.com/assets/black/500x250.jpg?resize=500%3A250&amp;composite=%2A%2C%2A%7Chttps%3A%2F%2Fimages.gunosy.com%2F2018%2F12%2F20%2F29011841%2Fthumbnail%2F5cde01691ba6e13409079dd95e98125c.jpg)\"/><div class=\"list_home_content_title\">【日本】煽ってきた車を思いもよらぬ方法で撃退する軽トラックが話題に！</div></a></li><li><a class=\"list_home_content\" href=\"https://gunosy.com/articles/R035A\"><img class=\"list_home_content_thumb\" src=\"data:image/png;base64,iVBORw0KGgoAAAANSUhEUgAAAAIAAAABCAYAAAD0In+KAAAAGXRFWHRTb2Z0d2FyZQBBZG9iZSBJbWFnZVJlYWR5ccllPAAAAA5JREFUeNpiYIACgAADAAAJAAE0lmO3AAAAAElFTkSuQmCC\" style=\"background-image:url(//images.gunosy.com/12/21/1df80590792e50d526e37c62fd1ea099_large.jpg)\"/><div class=\"list_home_content_title\">藤田ニコル、ランジェリー姿のセクシーカット公開！</div></a></li><li><a class=\"list_home_content\" href=\"https://gunosy.com/articles/RVRiM\"><img class=\"list_home_content_thumb\" src=\"data:image/png;base64,iVBORw0KGgoAAAANSUhEUgAAAAIAAAABCAYAAAD0In+KAAAAGXRFWHRTb2Z0d2FyZQBBZG9iZSBJbWFnZVJlYWR5ccllPAAAAA5JREFUeNpiYIACgAADAAAJAAE0lmO3AAAAAElFTkSuQmCC\" style=\"background-image:url(//images.gunosy.com/12/21/a524770f00aafe50b8f04a0ae8ae6acd_large.jpg)\"/><div class=\"list_home_content_title\">逆から読んだら絶対ダメ...！ とある肉屋の看板が「ヤバい」</div></a></li><li><div class=\"list_home_content_ranking\"><img class=\"list_home_content_ranking_thumb\" src=\"data:image/png;base64,iVBORw0KGgoAAAANSUhEUgAAAAIAAAABCAYAAAD0In+KAAAAGXRFWHRTb2Z0d2FyZQBBZG9iZSBJbWFnZVJlYWR5ccllPAAAAA5JREFUeNpiYIACgAADAAAJAAE0lmO3AAAAAElFTkSuQmCC\" style=\"background-image:url(//images.gunosy.com/12/21/b0c6862d15ed4d88237ef2baf5fa9a2b_large.jpg)\"/><a class=\"list_home_content_ranking_link\" href=\"https://gunosy.com/ranking/daily\"><img alt=\"Crown\" class=\"icon_crown\" src=\"https://webassets.gunosy.com/assets/crown-6cb57842d0d14d36dbabfc7a6e58bc16a3c01bea590a6af56452cd4985b5f6f5.png\"/><br/>今日の総合<br/>ランキング<br/><img alt=\"Fast forward\" class=\"icon_fast_forward\" src=\"https://webassets.gunosy.com/assets/fast-forward-1ab1ae98f6a9cce33415377c156a0ce4bae378a5ffe393fcce288d3927fa9a36.png\"/></a></div></li></ul></div></div><div class=\"content content_bg\"><div class=\"content_inner\"><div class=\"main\"><div class=\"home_list_wrap gtm-click\" data-gtm=\"home_list\"><div class=\"list_headline\"><h2 class=\"list_headline_title\"><a href=\"https://gunosy.com/categories/1\">エンタメ</a><span class=\"list_headline_ranking\"><a href=\"https://gunosy.com/categories/1/ranking\">エンタメのランキング</a></span><span class=\"list_headline_border list_headline_border_color_1\"></span></h2></div><div class=\"home_list clearfix\"><ul><li><div class=\"home_list_content\"><div class=\"list_text\"><div class=\"list_title\"><a href=\"https://gunosy.com/articles/aFsZ0\">矢部浩之 念願の「ゴチ」復帰ならず...「子供2人いますねん」との訴え実らず</a></div><div class=\"list_lead\">ナインティナインの矢部浩之\n",
       "\n",
       "　ナインティナイン矢部浩之が２０日、日本テレビ系「ぐるぐるナインティナイン」に出演した。人気コーナー「ゴチになります」への復帰を目指したが誤差が大きく、２年連続で復帰を逃した。　人気コーナー「ゴチになりま...</div></div><div class=\"list_thumb list_thumb_right\"><a href=\"https://gunosy.com/articles/aFsZ0\"><img alt=\"矢部浩之 念願の「ゴチ」復帰ならず...「子供2人いますねん」との訴え実らず\" src=\"data:image/png;base64,iVBORw0KGgoAAAANSUhEUgAAAAMAAAACCAYAAACddGYaAAAAGXRFWHRTb2Z0d2FyZQBBZG9iZSBJbWFnZVJlYWR5ccllPAAAAA5JREFUeNpiYMAFAAIMAAAaAAHl3zLRAAAAAElFTkSuQmCC\" style=\"background-image:url(//images.gunosy.com/12/21/c19fdb950c5a37fa1e87405271dc877d_large.jpg)\"/></a></div></div></li><li><div class=\"home_list_content_s\"><div class=\"list_thumb\"><a href=\"https://gunosy.com/articles/RdPxB\"><img alt=\"はんにゃ川島、初対面女性の胸触りキスするも... 「いい夫」「最高じゃないか」\" class=\"lazyload\" height=\"85\" src=\"//images.gunosy.com/12/21/34b2ebae1b3f124477e4f3a476a04325_large.jpg?resize=*:170&amp;crop=170:170;*,*\" width=\"85\"/></a></div><div class=\"list_text\"><div class=\"list_title\"><a href=\"https://gunosy.com/articles/RdPxB\">はんにゃ川島、初対面女性の胸触りキスするも... 「いい夫」「最高じゃないか」</a></div></div></div></li><li><div class=\"home_list_content_s\"><div class=\"list_thumb\"><a href=\"https://gunosy.com/articles/RN0Sj\"><img alt=\"“バイク×ビキニ”の斬新なショットがセクシー！元AKB48・平嶋夏海が魅せるグラビア撮影オフショットに反響続々\" class=\"lazyload\" height=\"85\" src=\"//images.gunosy.com/12/21/37f45c4cc2480515e5f305aa1c881273_large.jpg?resize=*:170&amp;crop=170:170;*,*\" width=\"85\"/></a></div><div class=\"list_text\"><div class=\"list_title\"><a href=\"https://gunosy.com/articles/RN0Sj\">“バイク×ビキニ”の斬新なショットがセクシー！元AKB48・平嶋夏海が魅せるグラビア撮影オフショッ...</a></div></div></div></li><li><div class=\"home_list_content_s\"><div class=\"list_thumb\"><a href=\"https://gunosy.com/articles/RIN4z\"><img alt=\"RIRI×清水翔太、クリスマスの恋人たちを「#手つなぎポスター」で応援\" class=\"lazyload\" height=\"85\" src=\"//images.gunosy.com/12/21/306fc71e5dce1b90c8f843d52fd4d145_large.jpg?resize=*:170&amp;crop=170:170;*,*\" width=\"85\"/></a></div><div class=\"list_text\"><div class=\"list_title\"><a href=\"https://gunosy.com/articles/RIN4z\">RIRI×清水翔太、クリスマスの恋人たちを「#手つなぎポスター」で応援</a><span class=\"list_new_mark\">NEW</span></div></div></div></li><li><div class=\"home_list_content_s\"><div class=\"list_thumb\"><a href=\"https://gunosy.com/articles/aHfPj\"><img alt=\"橋本環奈&amp;渡辺直美が「ゴチ19」でクビ決定！新メンバーは1.17発表\" class=\"lazyload\" height=\"85\" src=\"//images.gunosy.com/12/21/780daf13d126d40a41e68f7f165015bc_large.jpg?resize=*:170&amp;crop=170:170;*,*\" width=\"85\"/></a></div><div class=\"list_text\"><div class=\"list_title\"><a href=\"https://gunosy.com/articles/aHfPj\">橋本環奈&amp;渡辺直美が「ゴチ19」でクビ決定！新メンバーは1.17発表</a></div></div></div></li></ul></div><div class=\"home_list_sub_category clearfix\"><div class=\"home_list_sub_category_title\"><span>絞り込む</span></div><ul><li><a href=\"https://gunosy.com/categories/9\">芸能</a></li><li><a href=\"https://gunosy.com/categories/10\">映画</a></li><li><a href=\"https://gunosy.com/categories/11\">音楽</a></li><li><a href=\"https://gunosy.com/categories/12\">テレビ</a></li><li><a href=\"https://gunosy.com/categories/13\">アニメ</a></li><li><a href=\"https://gunosy.com/categories/14\">ゲーム</a></li><li><a href=\"https://gunosy.com/categories/15\">漫画</a></li><li><a href=\"https://gunosy.com/categories/17\">海外セレブ</a></li></ul></div></div><div class=\"home_list_wrap gtm-click\" data-gtm=\"home_list\"><div class=\"list_headline\"><h2 class=\"list_headline_title\"><a href=\"https://gunosy.com/categories/2\">スポーツ</a><span class=\"list_headline_ranking\"><a href=\"https://gunosy.com/categories/2/ranking\">スポーツのランキング</a></span><span class=\"list_headline_border list_headline_border_color_2\"></span></h2></div><div class=\"home_list clearfix\"><ul><li><div class=\"home_list_content\"><div class=\"list_thumb list_thumb_left\"><a href=\"https://gunosy.com/articles/a7FiM\"><img alt=\"元巨人・笠原将生、西武の内海獲得に怒る 「他球団の血を入れたら絶対ダメな人を持ってかれた」\" src=\"data:image/png;base64,iVBORw0KGgoAAAANSUhEUgAAAAMAAAACCAYAAACddGYaAAAAGXRFWHRTb2Z0d2FyZQBBZG9iZSBJbWFnZVJlYWR5ccllPAAAAA5JREFUeNpiYMAFAAIMAAAaAAHl3zLRAAAAAElFTkSuQmCC\" style=\"background-image:url(//images.gunosy.com/12/21/cada9207dce9692e08af4506f86d25ea_large.jpg)\"/></a></div><div class=\"list_text\"><div class=\"list_title\"><a href=\"https://gunosy.com/articles/a7FiM\">元巨人・笠原将生、西武の内海獲得に怒る 「他球団の血を入れたら絶対ダメな人を持ってかれた」</a></div><div class=\"list_lead\">元巨人の笠原将生（しょうき）氏（27）が2018年12月20日、同日に西武への移籍が決まった巨人の内海哲也選手（36）について、ツイッター上で怒りをつづった。\n",
       "内海選手は西武の炭谷銀仁朗選手（3...</div></div></div></li><li><div class=\"home_list_content_s\"><div class=\"list_thumb\"><a href=\"https://gunosy.com/articles/R8Xil\"><img alt=\"内海は“レンタル移籍”...？達観した西武ファンの覚悟\" class=\"lazyload\" height=\"85\" src=\"//images.gunosy.com/12/21/38938fce8e401bd966d8e4dd560f45a0_large.jpg?resize=*:170&amp;crop=170:170;*,*\" width=\"85\"/></a></div><div class=\"list_text\"><div class=\"list_title\"><a href=\"https://gunosy.com/articles/R8Xil\">内海は“レンタル移籍”...？達観した西武ファンの覚悟</a></div></div></div></li><li><div class=\"home_list_content_s\"><div class=\"list_thumb\"><a href=\"https://gunosy.com/articles/aOZD0\"><img alt=\"【ウイイレ】引けたら勝ち組！今週のマイクラブFP、当たり選手はこいつらだ！\" class=\"lazyload\" height=\"85\" src=\"//images.gunosy.com/12/21/9c3ee5c8bfd776f6e063849e4f766ba9_large.jpg?resize=*:170&amp;crop=170:170;*,*\" width=\"85\"/></a></div><div class=\"list_text\"><div class=\"list_title\"><a href=\"https://gunosy.com/articles/aOZD0\">【ウイイレ】引けたら勝ち組！今週のマイクラブFP、当たり選手はこいつらだ！</a></div></div></div></li><li><div class=\"home_list_content_s\"><div class=\"list_thumb\"><a href=\"https://gunosy.com/articles/RvfW7\"><img alt=\"巨人 内海移籍にナインも衝撃 阿部「厳しい世界」山口俊「何て言うか...」\" class=\"lazyload\" height=\"85\" src=\"//images.gunosy.com/12/21/6c99540abf3ed110b2985f5126bed713_large.jpg?resize=*:170&amp;crop=170:170;*,*\" width=\"85\"/></a></div><div class=\"list_text\"><div class=\"list_title\"><a href=\"https://gunosy.com/articles/RvfW7\">巨人 内海移籍にナインも衝撃 阿部「厳しい世界」山口俊「何て言うか...」</a></div></div></div></li><li><div class=\"home_list_content_s\"><div class=\"list_thumb\"><a href=\"https://gunosy.com/articles/RpibR\"><img alt=\"塩谷やカイオも続け！アル・アインに所属した10名のスーパースター\" class=\"lazyload\" height=\"85\" src=\"//images.gunosy.com/12/22/a6b44661d6d87320615bf85e908fa257_large.jpg?resize=*:170&amp;crop=170:170;*,*\" width=\"85\"/></a></div><div class=\"list_text\"><div class=\"list_title\"><a href=\"https://gunosy.com/articles/RpibR\">塩谷やカイオも続け！アル・アインに所属した10名のスーパースター</a><span class=\"list_new_mark\">NEW</span></div></div></div></li></ul></div><div class=\"home_list_sub_category clearfix\"><div class=\"home_list_sub_category_title\"><span>絞り込む</span></div><ul><li><a href=\"https://gunosy.com/categories/18\">プロ野球</a></li><li><a href=\"https://gunosy.com/categories/51\">格闘技</a></li><li><a href=\"https://gunosy.com/categories/19\">MLB</a></li><li><a href=\"https://gunosy.com/categories/20\">サッカー日本代表</a></li><li><a href=\"https://gunosy.com/categories/21\">Jリーグ</a></li><li><a href=\"https://gunosy.com/categories/22\">海外サッカー</a></li><li><a href=\"https://gunosy.com/categories/43\">高校野球</a></li><li><a href=\"https://gunosy.com/categories/44\">ゴルフ</a></li><li><a href=\"https://gunosy.com/categories/47\">大相撲</a></li><li><a href=\"https://gunosy.com/categories/48\">テニス</a></li><li><a href=\"https://gunosy.com/categories/54\">フィギュアスケート</a></li></ul></div></div><div class=\"home_list_wrap gtm-click\" data-gtm=\"home_list\"><div class=\"list_headline\"><h2 class=\"list_headline_title\"><a href=\"https://gunosy.com/categories/3\">おもしろ</a><span class=\"list_headline_ranking\"><a href=\"https://gunosy.com/categories/3/ranking\">おもしろのランキング</a></span><span class=\"list_headline_border list_headline_border_color_3\"></span></h2></div><div class=\"home_list clearfix\"><ul><li><div class=\"home_list_content\"><div class=\"list_text\"><div class=\"list_title\"><a href=\"https://gunosy.com/articles/agjJj\">【爆笑】ムカつきすぎる壊れ方をしたボールペンが話題に！→面白すぎる壊れ方をした被害者が続々と集まる笑</a></div><div class=\"list_lead\">こないだ落とした拍子に仕事で使ってるボールペンが壊れたんだけど、壊れ方が何かムカつく pic.twitter.com/O53dJGJljQ— 寿限無 (@1995_OORer) 2018年12月18日寿限無さんがTwitterに投稿し...</div></div><div class=\"list_thumb list_thumb_right\"><a href=\"https://gunosy.com/articles/agjJj\"><img alt=\"【爆笑】ムカつきすぎる壊れ方をしたボールペンが話題に！→面白すぎる壊れ方をした被害者が続々と集まる笑\" src=\"data:image/png;base64,iVBORw0KGgoAAAANSUhEUgAAAAMAAAACCAYAAACddGYaAAAAGXRFWHRTb2Z0d2FyZQBBZG9iZSBJbWFnZVJlYWR5ccllPAAAAA5JREFUeNpiYMAFAAIMAAAaAAHl3zLRAAAAAElFTkSuQmCC\" style=\"background-image:url(//images.gunosy.com/12/21/62682aea95c9bf64526bf4c269ad3322_large.jpg)\"/></a></div></div></li><li><div class=\"home_list_content_s\"><div class=\"list_thumb\"><a href=\"https://gunosy.com/articles/aLxFz\"><img alt=\"「おやつはどっち？」で間違った方を選んでしまった柴犬の反応が可愛すぎると話題に！\" class=\"lazyload\" height=\"85\" src=\"//images.gunosy.com/12/21/0152e8e3475c939611d08734f8a162a3_large.jpg?resize=*:170&amp;crop=170:170;*,*\" width=\"85\"/></a></div><div class=\"list_text\"><div class=\"list_title\"><a href=\"https://gunosy.com/articles/aLxFz\">「おやつはどっち？」で間違った方を選んでしまった柴犬の反応が可愛すぎると話題に！</a></div></div></div></li><li><div class=\"home_list_content_s\"><div class=\"list_thumb\"><a href=\"https://gunosy.com/articles/RW4Qh\"><img alt=\"ベンチに座った途端、遠くから猛ダッシュで走ってきて、膝の上で甘える野良猫が可愛すぎる！\" class=\"lazyload\" height=\"85\" src=\"//images.gunosy.com/12/21/c8fb582b4d8fc3254ce68b9f1cec4078_large.jpg?resize=*:170&amp;crop=170:170;*,*\" width=\"85\"/></a></div><div class=\"list_text\"><div class=\"list_title\"><a href=\"https://gunosy.com/articles/RW4Qh\">ベンチに座った途端、遠くから猛ダッシュで走ってきて、膝の上で甘える野良猫が可愛すぎる！</a></div></div></div></li><li><div class=\"home_list_content_s\"><div class=\"list_thumb\"><a href=\"https://gunosy.com/articles/aLK1A\"><img alt=\"いつまでもこうしていたい...？雪に埋もれ完全同化しても家に入りたがらないサモエド犬\" class=\"lazyload\" height=\"85\" src=\"//images.gunosy.com/assets/black/500x250.jpg?resize=500%3A250&amp;composite=%2A%2C%2A%7Chttps%3A%2F%2Fimages.gunosy.com%2F2018%2F12%2F20%2F29019243%2Fthumbnail%2F2cd07890d54a142cfbb51c60f41591a7.jpg?resize=*:170&amp;crop=170:170;*,*\" width=\"85\"/></a></div><div class=\"list_text\"><div class=\"list_title\"><a href=\"https://gunosy.com/articles/aLK1A\">いつまでもこうしていたい...？雪に埋もれ完全同化しても家に入りたがらないサモエド犬</a></div></div></div></li><li><div class=\"home_list_content_s\"><div class=\"list_thumb\"><a href=\"https://gunosy.com/articles/RuVlR\"><img alt=\"【衝撃】決定的瞬間！ネコとは思えない珍行動に爆笑すること間違いなし(30秒)\" class=\"lazyload\" height=\"85\" src=\"//images.gunosy.com/12/21/d91f8fd566191baf60d5849f92007355_large.jpg?resize=*:170&amp;crop=170:170;*,*\" width=\"85\"/></a></div><div class=\"list_text\"><div class=\"list_title\"><a href=\"https://gunosy.com/articles/RuVlR\">【衝撃】決定的瞬間！ネコとは思えない珍行動に爆笑すること間違いなし(30秒)</a></div></div></div></li></ul></div><div class=\"home_list_sub_category clearfix\"><div class=\"home_list_sub_category_title\"><span>絞り込む</span></div><ul><li><a href=\"https://gunosy.com/categories/23\">猫</a></li><li><a href=\"https://gunosy.com/categories/24\">動物</a></li><li><a href=\"https://gunosy.com/categories/25\">ネタ</a></li></ul></div></div><div class=\"home_list_wrap gtm-click\" data-gtm=\"home_list\"><div class=\"list_headline\"><h2 class=\"list_headline_title\"><a href=\"https://gunosy.com/categories/4\">国内</a><span class=\"list_headline_ranking\"><a href=\"https://gunosy.com/categories/4/ranking\">国内のランキング</a></span><span class=\"list_headline_border list_headline_border_color_4\"></span></h2></div><div class=\"home_list clearfix\"><ul><li><div class=\"home_list_content\"><div class=\"list_thumb list_thumb_left\"><a href=\"https://gunosy.com/articles/RLYJM\"><img alt=\"【報ステ】ホンダジェット国内初の納入 購入者は...\" src=\"data:image/png;base64,iVBORw0KGgoAAAANSUhEUgAAAAMAAAACCAYAAACddGYaAAAAGXRFWHRTb2Z0d2FyZQBBZG9iZSBJbWFnZVJlYWR5ccllPAAAAA5JREFUeNpiYMAFAAIMAAAaAAHl3zLRAAAAAElFTkSuQmCC\" style=\"background-image:url(//images.gunosy.com/12/21/36c102543a36998e076a1a78ed41e74d_large.jpg)\"/></a></div><div class=\"list_text\"><div class=\"list_title\"><a href=\"https://gunosy.com/articles/RLYJM\">【報ステ】ホンダジェット国内初の納入 購入者は...</a><span class=\"list_new_mark\">NEW</span></div><div class=\"list_lead\">動画を見る（元記事へ）　ドローンへの投資を手掛ける千葉功太郎さん（44）とロケット事業などを手掛ける堀江貴文さん（46）が、共同でホンダの小型ジェット機『ホンダジェットエリート』を購入した。すで...</div></div></div></li><li><div class=\"home_list_content_s\"><div class=\"list_thumb\"><a href=\"https://gunosy.com/articles/RvnH7\"><img alt=\"「CM見て」 5億8000万円ホンダジェット購入者は？\" class=\"lazyload\" height=\"85\" src=\"//images.gunosy.com/12/21/211696528c21f4f6b648c17b29fdbc1c_large.jpg?resize=*:170&amp;crop=170:170;*,*\" width=\"85\"/></a></div><div class=\"list_text\"><div class=\"list_title\"><a href=\"https://gunosy.com/articles/RvnH7\">「CM見て」 5億8000万円ホンダジェット購入者は？</a></div></div></div></li><li><div class=\"home_list_content_s\"><div class=\"list_thumb\"><a href=\"https://gunosy.com/articles/RNTwA\"><img alt=\"ラグビーW杯・五輪のテロ対策、会場周辺でドローン飛行禁止へ\" class=\"lazyload\" height=\"85\" src=\"//images.gunosy.com/assets/black/500x250.jpg?resize=480%3A250&amp;composite=%2A%2C%2A%7Chttps%3A%2F%2Fimages.gunosy.com%2F2018%2F12%2F20%2F29019918%2Fthumbnail%2Fa0e50ec6f42c1b2e399c850143b01af9.jpg?resize=*:170&amp;crop=170:170;*,*\" width=\"85\"/></a></div><div class=\"list_text\"><div class=\"list_title\"><a href=\"https://gunosy.com/articles/RNTwA\">ラグビーW杯・五輪のテロ対策、会場周辺でドローン飛行禁止へ</a></div></div></div></li><li><div class=\"home_list_content_s\"><div class=\"list_thumb\"><a href=\"https://gunosy.com/articles/RpZ37\"><img alt=\"少女の顔に「性的な落書き」動画拡散 教育委員会「いじめでなく、行き過ぎた行為」\" class=\"lazyload\" height=\"85\" src=\"//images.gunosy.com/12/21/25dff8b837c70f9c88cb6564ba800320_large.jpg?resize=*:170&amp;crop=170:170;*,*\" width=\"85\"/></a></div><div class=\"list_text\"><div class=\"list_title\"><a href=\"https://gunosy.com/articles/RpZ37\">少女の顔に「性的な落書き」動画拡散 教育委員会「いじめでなく、行き過ぎた行為」</a></div></div></div></li><li><div class=\"home_list_content_s\"><div class=\"list_thumb\"><a href=\"https://gunosy.com/articles/amnK4\"><img alt=\"トヨタ、ロボティクス企業に投資...ベンチャー企業支援のグローバルプログラム第一弾\" class=\"lazyload\" height=\"85\" src=\"//images.gunosy.com/12/21/0bc77fe1939b91d3cb83579b431f8733_large.jpg?resize=*:170&amp;crop=170:170;*,*\" width=\"85\"/></a></div><div class=\"list_text\"><div class=\"list_title\"><a href=\"https://gunosy.com/articles/amnK4\">トヨタ、ロボティクス企業に投資...ベンチャー企業支援のグローバルプログラム第一弾</a></div></div></div></li></ul></div><div class=\"home_list_sub_category clearfix\"><div class=\"home_list_sub_category_title\"><span>絞り込む</span></div><ul><li><a href=\"https://gunosy.com/categories/26\">社会</a></li><li><a href=\"https://gunosy.com/categories/27\">経済</a></li><li><a href=\"https://gunosy.com/categories/28\">政治</a></li></ul></div></div><div class=\"home_list_wrap gtm-click\" data-gtm=\"home_list\"><div class=\"list_headline\"><h2 class=\"list_headline_title\"><a href=\"https://gunosy.com/categories/5\">海外</a><span class=\"list_headline_ranking\"><a href=\"https://gunosy.com/categories/5/ranking\">海外のランキング</a></span><span class=\"list_headline_border list_headline_border_color_5\"></span></h2></div><div class=\"home_list clearfix\"><ul><li><div class=\"home_list_content\"><div class=\"list_text\"><div class=\"list_title\"><a href=\"https://gunosy.com/articles/RPdhR\">日本の女子大生が恋愛について質問、中国外交部報道官の答えに会場爆笑―中国メディア</a></div><div class=\"list_lead\">中国メディアの環球網によると、19日に大阪大学で行われた交流会に出席した中国外交部の陸慷報道局長に、日本の女子学生から恋愛に関する質問が投げかけられた。写真は記事より。\n",
       "中国メディアの環球網によると、19日に大阪大学で行われた交流会に...</div></div><div class=\"list_thumb list_thumb_right\"><a href=\"https://gunosy.com/articles/RPdhR\"><img alt=\"日本の女子大生が恋愛について質問、中国外交部報道官の答えに会場爆笑―中国メディア\" src=\"data:image/png;base64,iVBORw0KGgoAAAANSUhEUgAAAAMAAAACCAYAAACddGYaAAAAGXRFWHRTb2Z0d2FyZQBBZG9iZSBJbWFnZVJlYWR5ccllPAAAAA5JREFUeNpiYMAFAAIMAAAaAAHl3zLRAAAAAElFTkSuQmCC\" style=\"background-image:url(//images.gunosy.com/12/21/d7542e6d660a343922b517626e8a5746_large.jpg)\"/></a></div></div></li><li><div class=\"home_list_content_s\"><div class=\"list_thumb\"><a href=\"https://gunosy.com/articles/RXGKF\"><img alt=\"韓国政府に「日韓請求権資金の返還」求める訴訟相次ぐ=ネットは賛否両論\" class=\"lazyload\" height=\"85\" src=\"//images.gunosy.com/12/21/2a6a6612ce5765cc74d85de3bf93db76_large.jpg?resize=*:170&amp;crop=170:170;*,*\" width=\"85\"/></a></div><div class=\"list_text\"><div class=\"list_title\"><a href=\"https://gunosy.com/articles/RXGKF\">韓国政府に「日韓請求権資金の返還」求める訴訟相次ぐ=ネットは賛否両論</a></div></div></div></li><li><div class=\"home_list_content_s\"><div class=\"list_thumb\"><a href=\"https://gunosy.com/articles/Rmjv0\"><img alt=\"バスの途中乗車を拒否された中国の女性、さらに無茶苦茶な行動に\" class=\"lazyload\" height=\"85\" src=\"//images.gunosy.com/12/21/92271a62f1b7a5167897286702ec8362_large.jpg?resize=*:170&amp;crop=170:170;*,*\" width=\"85\"/></a></div><div class=\"list_text\"><div class=\"list_title\"><a href=\"https://gunosy.com/articles/Rmjv0\">バスの途中乗車を拒否された中国の女性、さらに無茶苦茶な行動に</a></div></div></div></li><li><div class=\"home_list_content_s\"><div class=\"list_thumb\"><a href=\"https://gunosy.com/articles/a7Yyh\"><img alt=\"【報ステ】炎上車に男性が...警察官が決死の救出\" class=\"lazyload\" height=\"85\" src=\"//images.gunosy.com/12/21/b93bd78e43b51846e87268b1949a433d_large.jpg?resize=*:170&amp;crop=170:170;*,*\" width=\"85\"/></a></div><div class=\"list_text\"><div class=\"list_title\"><a href=\"https://gunosy.com/articles/a7Yyh\">【報ステ】炎上車に男性が...警察官が決死の救出</a><span class=\"list_new_mark\">NEW</span></div></div></div></li><li><div class=\"home_list_content_s\"><div class=\"list_thumb\"><a href=\"https://gunosy.com/articles/RL03A\"><img alt=\"韓国では日本車が大人気、なのに日本で売れた韓国車は「たった5台」=韓国ネットは...\" class=\"lazyload\" height=\"85\" src=\"//images.gunosy.com/12/21/2f0b6b9282349c9b98380eaa3fe0ed99_large.jpg?resize=*:170&amp;crop=170:170;*,*\" width=\"85\"/></a></div><div class=\"list_text\"><div class=\"list_title\"><a href=\"https://gunosy.com/articles/RL03A\">韓国では日本車が大人気、なのに日本で売れた韓国車は「たった5台」=韓国ネットは...</a></div></div></div></li></ul></div><div class=\"home_list_sub_category clearfix\"><div class=\"home_list_sub_category_title\"><span>絞り込む</span></div><ul><li><a href=\"https://gunosy.com/categories/29\">中国・韓国・アジア</a></li><li><a href=\"https://gunosy.com/categories/30\">国外総合</a></li></ul></div></div><div class=\"home_list_wrap gtm-click\" data-gtm=\"home_list\"><div class=\"list_headline\"><h2 class=\"list_headline_title\"><a href=\"https://gunosy.com/categories/6\">コラム</a><span class=\"list_headline_ranking\"><a href=\"https://gunosy.com/categories/6/ranking\">コラムのランキング</a></span><span class=\"list_headline_border list_headline_border_color_6\"></span></h2></div><div class=\"home_list clearfix\"><ul><li><div class=\"home_list_content\"><div class=\"list_thumb list_thumb_left\"><a href=\"https://gunosy.com/articles/aaVNB\"><img alt=\"熊田曜子、ナマ脚露出の美くびれ姿に騒然 「ママに見えない」「年齢にあった服を...」\" src=\"data:image/png;base64,iVBORw0KGgoAAAANSUhEUgAAAAMAAAACCAYAAACddGYaAAAAGXRFWHRTb2Z0d2FyZQBBZG9iZSBJbWFnZVJlYWR5ccllPAAAAA5JREFUeNpiYMAFAAIMAAAaAAHl3zLRAAAAAElFTkSuQmCC\" style=\"background-image:url(//images.gunosy.com/12/21/9ae9e81439924cbad9fa22183682cdec_large.jpg)\"/></a></div><div class=\"list_text\"><div class=\"list_title\"><a href=\"https://gunosy.com/articles/aaVNB\">熊田曜子、ナマ脚露出の美くびれ姿に騒然 「ママに見えない」「年齢にあった服を...」</a></div><div class=\"list_lead\">タレントの熊田曜子が19日、自身のインスタグラムを更新。ミニワンピース姿をアップして話題になっている。 ■「Sサイズで着られる体型」目指して…仕事で着た衣装をアップした熊田。「20代前半の頃から...</div></div></div></li><li><div class=\"home_list_content_s\"><div class=\"list_thumb\"><a href=\"https://gunosy.com/articles/azv1y\"><img alt=\"同性から見ても結婚相手としては危険だと思う人の特徴\" class=\"lazyload\" height=\"85\" src=\"//images.gunosy.com/12/21/cbd2efb9a52d37e7be3025ccf4f67d04_large.jpg?resize=*:170&amp;crop=170:170;*,*\" width=\"85\"/></a></div><div class=\"list_text\"><div class=\"list_title\"><a href=\"https://gunosy.com/articles/azv1y\">同性から見ても結婚相手としては危険だと思う人の特徴</a></div></div></div></li><li><div class=\"home_list_content_s\"><div class=\"list_thumb\"><a href=\"https://gunosy.com/articles/agJd0\"><img alt=\"「ワークマン」1900円の靴が女性に大人気。コスパ抜群の服&amp;靴4選\" class=\"lazyload\" height=\"85\" src=\"//images.gunosy.com/12/21/906feab744ecca20d57cdd5f2c00e1e9_large.jpg?resize=*:170&amp;crop=170:170;*,*\" width=\"85\"/></a></div><div class=\"list_text\"><div class=\"list_title\"><a href=\"https://gunosy.com/articles/agJd0\">「ワークマン」1900円の靴が女性に大人気。コスパ抜群の服&amp;靴4選</a></div></div></div></li><li><div class=\"home_list_content_s\"><div class=\"list_thumb\"><a href=\"https://gunosy.com/articles/RLffB\"><img alt=\"毎日の連絡はNG！？彼の「好き」を持続させるためのLINEハウツー\" class=\"lazyload\" height=\"85\" src=\"//images.gunosy.com/12/21/1074a583e59c968357f3d1679b919d18_large.jpg?resize=*:170&amp;crop=170:170;*,*\" width=\"85\"/></a></div><div class=\"list_text\"><div class=\"list_title\"><a href=\"https://gunosy.com/articles/RLffB\">毎日の連絡はNG！？彼の「好き」を持続させるためのLINEハウツー</a></div></div></div></li><li><div class=\"home_list_content_s\"><div class=\"list_thumb\"><a href=\"https://gunosy.com/articles/aq9QR\"><img alt=\"【心理テスト】男性が座っている椅子は何色？ 答えでわかるあなたの運命の人\" class=\"lazyload\" height=\"85\" src=\"//images.gunosy.com/12/21/d0a876001a38be0dfd920c110d161192_large.jpg?resize=*:170&amp;crop=170:170;*,*\" width=\"85\"/></a></div><div class=\"list_text\"><div class=\"list_title\"><a href=\"https://gunosy.com/articles/aq9QR\">【心理テスト】男性が座っている椅子は何色？ 答えでわかるあなたの運命の人</a></div></div></div></li></ul></div><div class=\"home_list_sub_category clearfix\"><div class=\"home_list_sub_category_title\"><span>絞り込む</span></div><ul><li><a href=\"https://gunosy.com/categories/31\">恋愛</a></li><li><a href=\"https://gunosy.com/categories/32\">ビューティー</a></li><li><a href=\"https://gunosy.com/categories/42\">ファッション</a></li><li><a href=\"https://gunosy.com/categories/33\">コラム総合</a></li></ul></div></div><div class=\"home_list_wrap gtm-click\" data-gtm=\"home_list\"><div class=\"list_headline\"><h2 class=\"list_headline_title\"><a href=\"https://gunosy.com/categories/7\">IT・科学</a><span class=\"list_headline_ranking\"><a href=\"https://gunosy.com/categories/7/ranking\">IT・科学のランキング</a></span><span class=\"list_headline_border list_headline_border_color_7\"></span></h2></div><div class=\"home_list clearfix\"><ul><li><div class=\"home_list_content\"><div class=\"list_text\"><div class=\"list_title\"><a href=\"https://gunosy.com/articles/auK87\">コストコ限定、4Kテレビが税込42,800円から</a></div><div class=\"list_lead\">ユニークは12月20日、HDR 10対応の4K液晶テレビ「プロメテウス」シリーズを発表した。43V型/55V型/65V型の3モデルを用意。12月下旬に、コストコホールセール・ジャパン限定で発売する。販売価格(税込)は43V型が42,8...</div></div><div class=\"list_thumb list_thumb_right\"><a href=\"https://gunosy.com/articles/auK87\"><img alt=\"コストコ限定、4Kテレビが税込42,800円から\" src=\"data:image/png;base64,iVBORw0KGgoAAAANSUhEUgAAAAMAAAACCAYAAACddGYaAAAAGXRFWHRTb2Z0d2FyZQBBZG9iZSBJbWFnZVJlYWR5ccllPAAAAA5JREFUeNpiYMAFAAIMAAAaAAHl3zLRAAAAAElFTkSuQmCC\" style=\"background-image:url(//images.gunosy.com/12/21/873eb6c6befc35a54139cd98a3971694_large.jpg)\"/></a></div></div></li><li><div class=\"home_list_content_s\"><div class=\"list_thumb\"><a href=\"https://gunosy.com/articles/RVyu0\"><img alt=\"5Gが普及してもWi-Fiが必要な理由\" class=\"lazyload\" height=\"85\" src=\"//images.gunosy.com/12/21/b0086abeda6c1d42667885ad510565fb_large.jpg?resize=*:170&amp;crop=170:170;*,*\" width=\"85\"/></a></div><div class=\"list_text\"><div class=\"list_title\"><a href=\"https://gunosy.com/articles/RVyu0\">5Gが普及してもWi-Fiが必要な理由</a></div></div></div></li><li><div class=\"home_list_content_s\"><div class=\"list_thumb\"><a href=\"https://gunosy.com/articles/Rp1Lj\"><img alt=\"2in1「VAIO Pro PA」だからできる新しいワークスタイル\" class=\"lazyload\" height=\"85\" src=\"//images.gunosy.com/12/21/74d3300baa6aa63927c9c90b75c17de7_large.jpg?resize=*:170&amp;crop=170:170;*,*\" width=\"85\"/></a></div><div class=\"list_text\"><div class=\"list_title\"><a href=\"https://gunosy.com/articles/Rp1Lj\">2in1「VAIO Pro PA」だからできる新しいワークスタイル</a></div></div></div></li><li><div class=\"home_list_content_s\"><div class=\"list_thumb\"><a href=\"https://gunosy.com/articles/Rdl8y\"><img alt=\"【報ステ】Muse細胞『表皮水疱症』治験開始へ\" class=\"lazyload\" height=\"85\" src=\"//images.gunosy.com/12/21/e3adfeaee36029dd742c15b007dca47b_large.jpg?resize=*:170&amp;crop=170:170;*,*\" width=\"85\"/></a></div><div class=\"list_text\"><div class=\"list_title\"><a href=\"https://gunosy.com/articles/Rdl8y\">【報ステ】Muse細胞『表皮水疱症』治験開始へ</a><span class=\"list_new_mark\">NEW</span></div></div></div></li><li><div class=\"home_list_content_s\"><div class=\"list_thumb\"><a href=\"https://gunosy.com/articles/abD7h\"><img alt=\"ずっと触っていたいもちふわ触感...、マシュマロボディの「Marshmallo.ソフトケース」発売\" class=\"lazyload\" height=\"85\" src=\"//images.gunosy.com/12/21/bf4622aa1766edb1e0ff24712270f4b9_large.jpg?resize=*:170&amp;crop=170:170;*,*\" width=\"85\"/></a></div><div class=\"list_text\"><div class=\"list_title\"><a href=\"https://gunosy.com/articles/abD7h\">ずっと触っていたいもちふわ触感...、マシュマロボディの「Marshmallo.ソフトケース」発売</a></div></div></div></li></ul></div><div class=\"home_list_sub_category clearfix\"><div class=\"home_list_sub_category_title\"><span>絞り込む</span></div><ul><li><a href=\"https://gunosy.com/categories/34\">Apple</a></li><li><a href=\"https://gunosy.com/categories/35\">Android</a></li><li><a href=\"https://gunosy.com/categories/36\">IT総合</a></li><li><a href=\"https://gunosy.com/categories/52\">アプリ</a></li><li><a href=\"https://gunosy.com/categories/37\">サイエンス</a></li></ul></div></div><div class=\"home_list_wrap gtm-click\" data-gtm=\"home_list\"><div class=\"list_headline\"><h2 class=\"list_headline_title\"><a href=\"https://gunosy.com/categories/8\">グルメ</a><span class=\"list_headline_ranking\"><a href=\"https://gunosy.com/categories/8/ranking\">グルメのランキング</a></span><span class=\"list_headline_border list_headline_border_color_8\"></span></h2></div><div class=\"home_list clearfix\"><ul><li><div class=\"home_list_content\"><div class=\"list_thumb list_thumb_left\"><a href=\"https://gunosy.com/articles/aCXs4\"><img alt=\"ケンタッキー、年末年始にピッタリの「ケンタお重」「ケンタ福袋」を期間限定で販売\" src=\"data:image/png;base64,iVBORw0KGgoAAAANSUhEUgAAAAMAAAACCAYAAACddGYaAAAAGXRFWHRTb2Z0d2FyZQBBZG9iZSBJbWFnZVJlYWR5ccllPAAAAA5JREFUeNpiYMAFAAIMAAAaAAHl3zLRAAAAAElFTkSuQmCC\" style=\"background-image:url(//images.gunosy.com/12/21/f5a3a6486baf06eb872f524b746519b6_large.jpg)\"/></a></div><div class=\"list_text\"><div class=\"list_title\"><a href=\"https://gunosy.com/articles/aCXs4\">ケンタッキー、年末年始にピッタリの「ケンタお重」「ケンタ福袋」を期間限定で販売</a></div><div class=\"list_lead\">ケンタッキー、年末年始にピッタリの「ケンタお重」「ケンタ福袋」を期間限定で販売もっと画像を見る　ケンタッキー・フライド・チキンは、チキンやサイドメニューをおめでたい重箱に詰め合わせたパック「ケン...</div></div></div></li><li><div class=\"home_list_content_s\"><div class=\"list_thumb\"><a href=\"https://gunosy.com/articles/axLWA\"><img alt=\"【無限に食べられる】ミニストップのソフトクリーム、3回目からず~っと半額！！\" class=\"lazyload\" height=\"85\" src=\"//images.gunosy.com/12/21/bfbc54ea297f91da12c2c753c313a1ca_large.jpg?resize=*:170&amp;crop=170:170;*,*\" width=\"85\"/></a></div><div class=\"list_text\"><div class=\"list_title\"><a href=\"https://gunosy.com/articles/axLWA\">【無限に食べられる】ミニストップのソフトクリーム、3回目からず~っと半額！！</a></div></div></div></li><li><div class=\"home_list_content_s\"><div class=\"list_thumb\"><a href=\"https://gunosy.com/articles/RpN9A\"><img alt=\"ロッテリア、今年最後の「肉の日」キャンペーンで6商品を一挙展開\" class=\"lazyload\" height=\"85\" src=\"//images.gunosy.com/12/21/8f651a64ba207a5c083a9a355c7448e4_large.jpg?resize=*:170&amp;crop=170:170;*,*\" width=\"85\"/></a></div><div class=\"list_text\"><div class=\"list_title\"><a href=\"https://gunosy.com/articles/RpN9A\">ロッテリア、今年最後の「肉の日」キャンペーンで6商品を一挙展開</a></div></div></div></li><li><div class=\"home_list_content_s\"><div class=\"list_thumb\"><a href=\"https://gunosy.com/articles/RI0Hy\"><img alt=\"ミスド、鎧塚シェフと再タッグ 人気ドーナツを生地から監修\" class=\"lazyload\" height=\"85\" src=\"//images.gunosy.com/12/21/439a38d7a3f7c9a6205eefe3cde3efc1_large.jpg?resize=*:170&amp;crop=170:170;*,*\" width=\"85\"/></a></div><div class=\"list_text\"><div class=\"list_title\"><a href=\"https://gunosy.com/articles/RI0Hy\">ミスド、鎧塚シェフと再タッグ 人気ドーナツを生地から監修</a></div></div></div></li><li><div class=\"home_list_content_s\"><div class=\"list_thumb\"><a href=\"https://gunosy.com/articles/aFnaj\"><img alt=\"お守り袋にリップがIN！サンリオコラボデザインが新登場\" class=\"lazyload\" height=\"85\" src=\"//images.gunosy.com/12/21/5efe363efb60b43e29e5f1cf11645f8b_large.jpg?resize=*:170&amp;crop=170:170;*,*\" width=\"85\"/></a></div><div class=\"list_text\"><div class=\"list_title\"><a href=\"https://gunosy.com/articles/aFnaj\">お守り袋にリップがIN！サンリオコラボデザインが新登場</a></div></div></div></li></ul></div><div class=\"home_list_sub_category clearfix\"><div class=\"home_list_sub_category_title\"><span>絞り込む</span></div><ul><li><a href=\"https://gunosy.com/categories/38\">お店</a></li><li><a href=\"https://gunosy.com/categories/39\">レシピ</a></li><li><a href=\"https://gunosy.com/categories/40\">新製品</a></li><li><a href=\"https://gunosy.com/categories/41\">グルメ総合</a></li></ul></div></div><div class=\"home_list_wrap gtm-click\" data-gtm=\"home_game_headlines\"><div class=\"list_headline\"><h2 class=\"list_headline_title\"><a href=\"https://game8.jp\">ゲーム</a><span class=\"list_headline_ranking\"><a href=\"https://game8.jp/games\">ゲームのランキング</a></span><span class=\"list_headline_border list_headline_border_color_9\"></span></h2></div><div class=\"home_list clearfix\"><ul><li><div class=\"home_list_content\"><div class=\"list_thumb list_thumb_left\"><a href=\"https://game8.jp/articles/556752\"><img alt=\"バトルアクション『暁のブレイカーズ』のスマホ版が配信開始！　特別特典がゲットできるキャンペーンもスタート\" src=\"data:image/png;base64,iVBORw0KGgoAAAANSUhEUgAAAAMAAAACCAYAAACddGYaAAAAGXRFWHRTb2Z0d2FyZQBBZG9iZSBJbWFnZVJlYWR5ccllPAAAAA5JREFUeNpiYMAFAAIMAAAaAAHl3zLRAAAAAElFTkSuQmCC\" style=\"background-image:url(https://img.game8.jp/2499644/b4e73083b62729353dab16ee0166cc45.jpeg/show)\"/></a></div><div class=\"list_text\"><div class=\"list_title\"><a href=\"https://game8.jp/articles/556752\">バトルアクション『暁のブレイカーズ』のスマホ版が配信開始！　特別特典がゲットできるキャンペーンもスタート</a></div><div class=\"list_lead\">サイバーステップは、『暁のブレイカーズ』のスマートフォン版を12月18日（火）に配信開始した。それにあわせて、お得なキャンペーンを実施する。</div></div></div></li><li><div class=\"home_list_content_s\"><div class=\"list_thumb\"><a href=\"https://game8.jp/articles/556751\"><img alt=\"『アルテイルNEO』で「冬の4大みんなで創るアルテイル」が開催！　半額でボックスが購入できるキャンペーンも開催\" class=\"lazyload\" height=\"85\" src=\"https://img.game8.jp/2499625/da20ef3029da5ce717a76cfcb2921aaa.jpeg/show\" width=\"85\"/></a></div><div class=\"list_text\"><div class=\"list_title\"><a href=\"https://game8.jp/articles/556751\">『アルテイルNEO』で「冬の4大みんなで創るアルテイル」が開催！　半額でボックスが購入できるキャン...</a></div></div></div></li><li><div class=\"home_list_content_s\"><div class=\"list_thumb\"><a href=\"https://game8.jp/articles/556750\"><img alt=\"『DREAM!ing』で久磨 凛太朗（CV：柿原徹也さん）やビアンキ 由仁（CV：天野七瑠さん）が活躍する新イベント「マイサンタマイヒーロー」が開催！\" class=\"lazyload\" height=\"85\" src=\"https://img.game8.jp/2499603/9a5befe517c2babdef6d301e057b3e4a.jpeg/show\" width=\"85\"/></a></div><div class=\"list_text\"><div class=\"list_title\"><a href=\"https://game8.jp/articles/556750\">『DREAM!ing』で久磨 凛太朗（CV：柿原徹也さん）やビアンキ 由仁（CV：天野七瑠さん）が...</a></div></div></div></li><li><div class=\"home_list_content_s\"><div class=\"list_thumb\"><a href=\"https://game8.jp/articles/556749\"><img alt=\"『クラッシュフィーバー』x『初音ミク』コラボ第4弾開催が2019年1月下旬に開催！\" class=\"lazyload\" height=\"85\" src=\"https://img.game8.jp/2499576/619534c09625f4b256e3419cfe4fa444.jpeg/show\" width=\"85\"/></a></div><div class=\"list_text\"><div class=\"list_title\"><a href=\"https://game8.jp/articles/556749\">『クラッシュフィーバー』x『初音ミク』コラボ第4弾開催が2019年1月下旬に開催！</a></div></div></div></li><li><div class=\"home_list_content_s\"><div class=\"list_thumb\"><a href=\"https://game8.jp/articles/556748\"><img alt=\"リアルタイム戦略アクションRPG『グランドチェイス-次元の追跡者-』にふたりで楽しめるリアルタイム協力バトル「デュアルレイド」が実装！\" class=\"lazyload\" height=\"85\" src=\"https://img.game8.jp/2499551/ffd38e912352d4b8326b1c2901ca2cd3.jpeg/show\" width=\"85\"/></a></div><div class=\"list_text\"><div class=\"list_title\"><a href=\"https://game8.jp/articles/556748\">リアルタイム戦略アクションRPG『グランドチェイス-次元の追跡者-』にふたりで楽しめるリアルタイム...</a></div></div></div></li></ul></div></div></div><div class=\"side\"><div class=\"side-inner\"><div class=\"side_content gtm-click\" data-gtm=\"side_yesterday_ranking\"><div class=\"side_header\"><h3 class=\"side_header_title\">ランキング総合</h3><p class=\"side_header_lead\">最近人気のあったニュース</p></div><ul><li class=\"side_list_content\"><div class=\"list_thumb\"><a href=\"https://gunosy.com/articles/aPyYl\"><img alt=\"ベッキーに苦情殺到！“TV史上最悪の放送事故”と「あいのり」ファン大激怒\" src=\"data:image/png;base64,iVBORw0KGgoAAAANSUhEUgAAAAMAAAACCAYAAACddGYaAAAAGXRFWHRTb2Z0d2FyZQBBZG9iZSBJbWFnZVJlYWR5ccllPAAAAA5JREFUeNpiYMAFAAIMAAAaAAHl3zLRAAAAAElFTkSuQmCC\" style=\"background-image:url(//images.gunosy.com/12/20/4639396c53815c10a1cc26515f7f12eb_large.jpg)\"/></a></div><div class=\"list_text\"><p class=\"list_title\"><a href=\"https://gunosy.com/articles/aPyYl\">ベッキーに苦情殺到！“TV史上最悪の放送事故”と「あいのり」ファン大激怒</a></p></div><span class=\"list_rank list_rank_1\">1</span></li><li class=\"side_list_content\"><div class=\"list_thumb\"><a href=\"https://gunosy.com/articles/RQT7z\"><img alt=\"JOY、「絶縁宣言」の相手は「ZOZO・前澤氏のモノマネ芸人」!? “炎上商法”に周囲呆れ\" src=\"data:image/png;base64,iVBORw0KGgoAAAANSUhEUgAAAAMAAAACCAYAAACddGYaAAAAGXRFWHRTb2Z0d2FyZQBBZG9iZSBJbWFnZVJlYWR5ccllPAAAAA5JREFUeNpiYMAFAAIMAAAaAAHl3zLRAAAAAElFTkSuQmCC\" style=\"background-image:url(//images.gunosy.com/12/20/8cf5613dc101b4a811a2d22270ba53db_large.jpg)\"/></a></div><div class=\"list_text\"><p class=\"list_title\"><a href=\"https://gunosy.com/articles/RQT7z\">JOY、「絶縁宣言」の相手は「ZOZO・前澤氏のモノマネ芸人」!? “炎上商法”に周囲呆れ</a></p></div><span class=\"list_rank list_rank_2\">2</span></li><li class=\"side_list_content\"><div class=\"list_thumb\"><a href=\"https://gunosy.com/articles/algfQ\"><img alt=\"小嶋陽菜“一般人が撮った写真”にあぜん...芸能界固執が痛々しい\" src=\"data:image/png;base64,iVBORw0KGgoAAAANSUhEUgAAAAMAAAACCAYAAACddGYaAAAAGXRFWHRTb2Z0d2FyZQBBZG9iZSBJbWFnZVJlYWR5ccllPAAAAA5JREFUeNpiYMAFAAIMAAAaAAHl3zLRAAAAAElFTkSuQmCC\" style=\"background-image:url(//images.gunosy.com/12/20/ba92f4f2bee068617bf217c93017aca4_large.jpg)\"/></a></div><div class=\"list_text\"><p class=\"list_title\"><a href=\"https://gunosy.com/articles/algfQ\">小嶋陽菜“一般人が撮った写真”にあぜん...芸能界固執が痛々しい</a></p></div><span class=\"list_rank list_rank_3\">3</span></li><li class=\"side_list_content\"><div class=\"list_thumb\"><a href=\"https://gunosy.com/articles/RmggA\"><img alt=\"ユニクロより安い！ ワークマンの『2900円防寒パンツ』が暖かすぎる神の性能\" src=\"data:image/png;base64,iVBORw0KGgoAAAANSUhEUgAAAAMAAAACCAYAAACddGYaAAAAGXRFWHRTb2Z0d2FyZQBBZG9iZSBJbWFnZVJlYWR5ccllPAAAAA5JREFUeNpiYMAFAAIMAAAaAAHl3zLRAAAAAElFTkSuQmCC\" style=\"background-image:url(//images.gunosy.com/12/20/594427b9aa075036909b18ce227f3e42_large.jpg)\"/></a></div><div class=\"list_text\"><p class=\"list_title\"><a href=\"https://gunosy.com/articles/RmggA\">ユニクロより安い！ ワークマンの『2900円防寒パンツ』が暖かすぎる神の性能</a></p></div><span class=\"list_rank list_rank_4\">4</span></li><li class=\"side_list_content\"><div class=\"list_thumb\"><a href=\"https://gunosy.com/articles/aCSMz\"><img alt=\"「旦那さん、変じゃない？」友人の警告で、夫の異常性に気付いた女。妻に下された恐ろしい罰とは\" src=\"data:image/png;base64,iVBORw0KGgoAAAANSUhEUgAAAAMAAAACCAYAAACddGYaAAAAGXRFWHRTb2Z0d2FyZQBBZG9iZSBJbWFnZVJlYWR5ccllPAAAAA5JREFUeNpiYMAFAAIMAAAaAAHl3zLRAAAAAElFTkSuQmCC\" style=\"background-image:url(//images.gunosy.com/12/21/b53c8db7d3f32a6b3087d8de5b690d6b_large.jpg)\"/></a></div><div class=\"list_text\"><p class=\"list_title\"><a href=\"https://gunosy.com/articles/aCSMz\">「旦那さん、変じゃない？」友人の警告で、夫の異常性に気付いた女。妻に下された恐ろしい罰とは</a></p></div><span class=\"list_rank list_rank_5\">5</span></li><li class=\"side_list_content\"><div class=\"list_thumb\"><a href=\"https://gunosy.com/articles/a9FEB\"><img alt=\"鶯谷ラブホで全裸の意識不明女性 相手男性の行動が「ヤバすぎる」と騒然\" src=\"data:image/png;base64,iVBORw0KGgoAAAANSUhEUgAAAAMAAAACCAYAAACddGYaAAAAGXRFWHRTb2Z0d2FyZQBBZG9iZSBJbWFnZVJlYWR5ccllPAAAAA5JREFUeNpiYMAFAAIMAAAaAAHl3zLRAAAAAElFTkSuQmCC\" style=\"background-image:url(//images.gunosy.com/12/20/cd595f224d69e0c263ce3d5bac016c07_large.jpg)\"/></a></div><div class=\"list_text\"><p class=\"list_title\"><a href=\"https://gunosy.com/articles/a9FEB\">鶯谷ラブホで全裸の意識不明女性 相手男性の行動が「ヤバすぎる」と騒然</a></p></div><span class=\"list_rank list_rank_6\">6</span></li><li class=\"side_list_content\"><div class=\"list_thumb\"><a href=\"https://gunosy.com/articles/a0ZzR\"><img alt=\"「僕、韓国人だったんですよ」実は日本人じゃない意外な芸能人たち\" src=\"data:image/png;base64,iVBORw0KGgoAAAANSUhEUgAAAAMAAAACCAYAAACddGYaAAAAGXRFWHRTb2Z0d2FyZQBBZG9iZSBJbWFnZVJlYWR5ccllPAAAAA5JREFUeNpiYMAFAAIMAAAaAAHl3zLRAAAAAElFTkSuQmCC\" style=\"background-image:url(//images.gunosy.com/12/19/97a8775d8873a321f8c04047963aa34f_large.jpg)\"/></a></div><div class=\"list_text\"><p class=\"list_title\"><a href=\"https://gunosy.com/articles/a0ZzR\">「僕、韓国人だったんですよ」実は日本人じゃない意外な芸能人たち</a></p></div><span class=\"list_rank list_rank_7\">7</span></li><li class=\"side_list_content\"><div class=\"list_thumb\"><a href=\"https://gunosy.com/articles/RudBb\"><img alt=\"2億円整形サイボーグ・ヴァニラの現在に悲鳴 「怖すぎる」「命が危なそう」\" src=\"data:image/png;base64,iVBORw0KGgoAAAANSUhEUgAAAAMAAAACCAYAAACddGYaAAAAGXRFWHRTb2Z0d2FyZQBBZG9iZSBJbWFnZVJlYWR5ccllPAAAAA5JREFUeNpiYMAFAAIMAAAaAAHl3zLRAAAAAElFTkSuQmCC\" style=\"background-image:url(//images.gunosy.com/12/20/3f04796ddb0d94b8364607351201f1e7_large.jpg)\"/></a></div><div class=\"list_text\"><p class=\"list_title\"><a href=\"https://gunosy.com/articles/RudBb\">2億円整形サイボーグ・ヴァニラの現在に悲鳴 「怖すぎる」「命が危なそう」</a></p></div><span class=\"list_rank list_rank_8\">8</span></li><li class=\"side_list_content\"><div class=\"list_thumb\"><a href=\"https://gunosy.com/articles/RBD4b\"><img alt=\"【日本】煽ってきた車を思いもよらぬ方法で撃退する軽トラックが話題に！\" src=\"data:image/png;base64,iVBORw0KGgoAAAANSUhEUgAAAAMAAAACCAYAAACddGYaAAAAGXRFWHRTb2Z0d2FyZQBBZG9iZSBJbWFnZVJlYWR5ccllPAAAAA5JREFUeNpiYMAFAAIMAAAaAAHl3zLRAAAAAElFTkSuQmCC\" style=\"background-image:url(//images.gunosy.com/assets/black/500x250.jpg?resize=500%3A250&amp;composite=%2A%2C%2A%7Chttps%3A%2F%2Fimages.gunosy.com%2F2018%2F12%2F20%2F29011841%2Fthumbnail%2F5cde01691ba6e13409079dd95e98125c.jpg)\"/></a></div><div class=\"list_text\"><p class=\"list_title\"><a href=\"https://gunosy.com/articles/RBD4b\">【日本】煽ってきた車を思いもよらぬ方法で撃退する軽トラックが話題に！</a></p></div><span class=\"list_rank list_rank_9\">9</span></li><li class=\"side_list_content\"><div class=\"list_thumb\"><a href=\"https://gunosy.com/articles/RPvWA\"><img alt=\"松嶋尚美、南青山の児童相談所建設への発言に視聴者愕然 「虐待」「偏見であり差別」と炎上\" src=\"data:image/png;base64,iVBORw0KGgoAAAANSUhEUgAAAAMAAAACCAYAAACddGYaAAAAGXRFWHRTb2Z0d2FyZQBBZG9iZSBJbWFnZVJlYWR5ccllPAAAAA5JREFUeNpiYMAFAAIMAAAaAAHl3zLRAAAAAElFTkSuQmCC\" style=\"background-image:url(//images.gunosy.com/12/21/d15a19cc7f31b3d30a0c9b0306e6685a_large.jpg)\"/></a></div><div class=\"list_text\"><p class=\"list_title\"><a href=\"https://gunosy.com/articles/RPvWA\">松嶋尚美、南青山の児童相談所建設への発言に視聴者愕然 「虐待」「偏見であり差別」と炎上</a></p></div><span class=\"list_rank list_rank_10\">10</span></li></ul></div><div class=\"side_content gtm-click\" data-gtm=\"side_recommended_tags\"><div class=\"side_header\"><h3 class=\"side_header_title\">注目のキーワード</h3><p class=\"side_header_lead\">キーワードで気になるニュースを絞りこもう</p></div><div class=\"list_tags\"><ul><li><a class=\"tag\" href=\"https://gunosy.com/tags/736\">藤田ニコル</a></li><li><a class=\"tag\" href=\"https://gunosy.com/tags/640\">グラビア</a></li><li><a class=\"tag\" href=\"https://gunosy.com/tags/539\">小嶋陽菜</a></li><li><a class=\"tag\" href=\"https://gunosy.com/tags/16\">ベッキー</a></li><li><a class=\"tag\" href=\"https://gunosy.com/tags/6\">破局</a></li><li><a class=\"tag\" href=\"https://gunosy.com/tags/528\">石原さとみ</a></li><li><a class=\"tag\" href=\"https://gunosy.com/tags/4\">結婚</a></li><li><a class=\"tag\" href=\"https://gunosy.com/tags/1098\">矢部浩之</a></li><li><a class=\"tag\" href=\"https://gunosy.com/tags/740\">香取慎吾</a></li><li><a class=\"tag\" href=\"https://gunosy.com/tags/694\">TOKIO</a></li></ul></div></div></div></div></div></div><div class=\"footer-top\"><div class=\"footer-top-inner\"><div class=\"app-pr\"><div class=\"app-pr-text\"><p class=\"app-pr-title\">グノシー（Gunosy）とは</p><p class=\"app-pr-lead\">話題のニュースがサクサク読める、無料のニュースまとめアプリ グノシー（Gunosy）。「エンタメ」「スポーツ」から「経済」「国際」「政治」など、幅広い分野の旬のニュースをまとめ読みできます。スマートフォンアプリをダウンロードして今日のニュースをチェックしましょう。</p><ul class=\"app-pr-links\"><li><a href=\"https://itunes.apple.com/jp/app/xianinyusu-apurigunosy/id590384791?mt=8\" target=\"_blank\"><img alt=\"\" class=\"applestore\" src=\"https://webassets.gunosy.com/assets/appstore-ebfa12b4b3690fbcff784bc49cf1de2d31c4697a3a8fb80b1ae88e2394a77118.png\"/></a></li><li><a href=\"https://play.google.com/store/apps/details?id=com.gunosy.android\" target=\"_blank\"><img alt=\"\" class=\"googleplay\" src=\"https://webassets.gunosy.com/assets/googleplay-dd8f1fec8a286a1171eb75ef5e15dd0aa340eb9c84cc09e4a0104325ef8e6025.png\"/></a></li></ul></div><div class=\"app-pr-thumb\"><img alt=\"グノシー\" src=\"https://webassets.gunosy.com/assets/app-pr-6b6e3e04ce7dc072e786ef2879586b7d963c8e55bdf8be12d9785c7bf1dbcb66.png\"/></div></div></div></div><footer class=\"footer\"><div class=\"footer-inner\"><div class=\"footer-column footer-logo\"><a href=\"https://gunosy.com/\"><img alt=\"グノシー\" src=\"https://webassets.gunosy.com/assets/logo-gunosy-airplane-4f7cdb6e13d52ea03234357f40793947fa1509d58e250bd64a4d6d6e15c19492.png\"/></a></div><div class=\"footer-social\"><ul><li><div class=\"fb-like\" data-action=\"like\" data-href=\"https://www.facebook.com/gunosy\" data-layout=\"button_count\" data-share=\"false\" data-show-faces=\"false\"></div>\n",
       "</li><li><script>\n",
       "  window.twttr = (function(d, s, id) {\n",
       "    var js, fjs = d.getElementsByTagName(s)[0],\n",
       "      t = window.twttr || {};\n",
       "    if (d.getElementById(id)) return t;\n",
       "    js = d.createElement(s);\n",
       "    js.id = id;\n",
       "    js.async = true\n",
       "    js.src = \"https://platform.twitter.com/widgets.js\";\n",
       "    fjs.parentNode.insertBefore(js, fjs);\n",
       "\n",
       "    t._e = [];\n",
       "    t.ready = function(f) {\n",
       "      t._e.push(f);\n",
       "    };\n",
       "\n",
       "    return t;\n",
       "  }(document, \"script\", \"twitter-wjs\"));\n",
       "</script>\n",
       "<a class=\"twitter-follow-button\" data-lang=\"ja\" data-show-count=\"false\" data-show-screen-name=\"false\" href=\"https://twitter.com/gunosy_news\">@gunosy_newsさんをフォロー</a>\n",
       "<style>\n",
       "  iframe[id*=\"twitter-widget-\"] {\n",
       "    display: none;\n",
       "  }\n",
       "</style>\n",
       "<script>\n",
       "  twttr.ready(function(twttr) {\n",
       "    twttr.events.bind('rendered', function() {\n",
       "      var widgets = document.querySelectorAll('iframe[id*=\"twitter-widget-\"]');\n",
       "      for(i=0;i<widgets.length;i++) {\n",
       "        widgets[i].style.display = 'inline';\n",
       "      }\n",
       "    });\n",
       "  });\n",
       "</script>\n",
       "</li></ul><p class=\"footer-social-title\"><span>「いいね」</span>、フォローをしておすすめの記事をチェックしよう。</p></div><div class=\"footer-column\"><p class=\"footer-column-title\">グノシーについて</p><ul class=\"footer-column-list\"><li><a href=\"https://gunosy.com/ranking\">ランキング一覧</a></li><li><a href=\"https://gunosy.com/categories\">カテゴリ一覧</a></li><li><a href=\"https://gunosy.com/tags\">キーワード一覧</a></li></ul><ul class=\"footer-column-list\"><li><a href=\"https://gunosy.com/media\">メディア一覧</a></li><li><a href=\"https://gunosy.com/sitemap\">サイトマップ</a></li></ul><ul class=\"footer-column-list\"><li><a href=\"//gunosy.co.jp/\" target=\"_blank\">会社概要</a></li><li><a href=\"https://gunosy.com/about/terms\">利用規約</a></li><li><a href=\"https://gunosy.com/about/privacy\">プライバシーポリシー</a></li></ul></div><div class=\"footer-column\"><p class=\"footer-column-title\">公式SNS</p><ul class=\"footer-column-list\"><li><a href=\"https://www.facebook.com/gunosy\" target=\"_blank\">Facebook</a></li><li><a href=\"https://twitter.com/gunosy_news\" target=\"_blank\">Twitter</a></li></ul></div><div class=\"footer-column\"><p class=\"footer-column-title\">関連サイト</p><ul class=\"footer-column-list\"><li><a href=\"//game8.jp\" target=\"_blank\">Game8（ゲームエイト）</a></li><li><a href=\"//newspass.jp/\" target=\"_blank\">ニュースパス</a></li></ul></div></div></footer><div class=\"footer-bottom\"><div class=\"footer-bottom-inner\"><p class=\"site-info\">グノシー | 情報を世界中の人に最適に届ける</p><p class=\"copyright\">Copyright © Gunosy Inc. All rights reserved.</p></div></div><script>\n",
       "  window.twttr = (function(d, s, id) {\n",
       "    var js, fjs = d.getElementsByTagName(s)[0],\n",
       "      t = window.twttr || {};\n",
       "    if (d.getElementById(id)) return t;\n",
       "    js = d.createElement(s);\n",
       "    js.id = id;\n",
       "    js.async = true\n",
       "    js.src = \"https://platform.twitter.com/widgets.js\";\n",
       "    fjs.parentNode.insertBefore(js, fjs);\n",
       "\n",
       "    t._e = [];\n",
       "    t.ready = function(f) {\n",
       "      t._e.push(f);\n",
       "    };\n",
       "\n",
       "    return t;\n",
       "  }(document, \"script\", \"twitter-wjs\"));\n",
       "</script>\n",
       "<script async=\"\" defer=\"\" src=\"//platform.instagram.com/ja_JP/embeds.js\"></script>\n",
       "<div id=\"fb-root\"></div>\n",
       "<script>(function(d, s, id) {\n",
       "  var js, fjs = d.getElementsByTagName(s)[0];\n",
       "  if (d.getElementById(id)) return;\n",
       "  js = d.createElement(s); js.id = id; js.async = true;\n",
       "  js.src = \"//connect.facebook.net/ja_JP/sdk.js#xfbml=1&version=v2.5&appId=282785358406948\";\n",
       "  fjs.parentNode.insertBefore(js, fjs);\n",
       "}(document, 'script', 'facebook-jssdk'));</script>\n",
       "</body></html>"
      ]
     },
     "execution_count": 4,
     "metadata": {},
     "output_type": "execute_result"
    }
   ],
   "source": [
    "soup"
   ]
  },
  {
   "cell_type": "markdown",
   "metadata": {},
   "source": [
    "## htmlの必要な箇所の抽出"
   ]
  },
  {
   "cell_type": "code",
   "execution_count": 5,
   "metadata": {
    "ExecuteTime": {
     "end_time": "2018-12-20T15:27:54.068546Z",
     "start_time": "2018-12-20T15:27:54.062317Z"
    }
   },
   "outputs": [
    {
     "data": {
      "text/plain": [
       "<h1 class=\"header_title\">グノシー</h1>"
      ]
     },
     "execution_count": 5,
     "metadata": {},
     "output_type": "execute_result"
    }
   ],
   "source": [
    "h1 = soup.html.body.h1\n",
    "h1"
   ]
  },
  {
   "cell_type": "code",
   "execution_count": 6,
   "metadata": {
    "ExecuteTime": {
     "end_time": "2018-12-20T15:27:54.082145Z",
     "start_time": "2018-12-20T15:27:54.071034Z"
    }
   },
   "outputs": [],
   "source": [
    "p1 = soup.html.body.p1\n",
    "p1"
   ]
  },
  {
   "cell_type": "code",
   "execution_count": 7,
   "metadata": {
    "ExecuteTime": {
     "end_time": "2018-12-20T15:27:54.090046Z",
     "start_time": "2018-12-20T15:27:54.084863Z"
    }
   },
   "outputs": [
    {
     "data": {
      "text/plain": [
       "bs4.element.Tag"
      ]
     },
     "execution_count": 7,
     "metadata": {},
     "output_type": "execute_result"
    }
   ],
   "source": [
    "type(h1)"
   ]
  },
  {
   "cell_type": "code",
   "execution_count": 8,
   "metadata": {
    "ExecuteTime": {
     "end_time": "2018-12-20T15:27:54.097274Z",
     "start_time": "2018-12-20T15:27:54.092568Z"
    }
   },
   "outputs": [
    {
     "data": {
      "text/plain": [
       "bs4.element.NavigableString"
      ]
     },
     "execution_count": 8,
     "metadata": {},
     "output_type": "execute_result"
    }
   ],
   "source": [
    "type(h1.string)"
   ]
  },
  {
   "cell_type": "code",
   "execution_count": 9,
   "metadata": {
    "ExecuteTime": {
     "end_time": "2018-12-20T15:27:54.114639Z",
     "start_time": "2018-12-20T15:27:54.099508Z"
    }
   },
   "outputs": [
    {
     "data": {
      "text/plain": [
       "{<a href=\"https://gunosy.com/categories/1\">エンタメ</a>,\n",
       " <a href=\"https://gunosy.com/categories/2\">スポーツ</a>,\n",
       " <a href=\"https://gunosy.com/categories/3\">おもしろ</a>,\n",
       " <a href=\"https://gunosy.com/categories/4\">国内</a>,\n",
       " <a href=\"https://gunosy.com/categories/5\">海外</a>,\n",
       " <a href=\"https://gunosy.com/categories/6\">コラム</a>,\n",
       " <a href=\"https://gunosy.com/categories/7\">IT・科学</a>,\n",
       " <a href=\"https://gunosy.com/categories/8\">グルメ</a>,\n",
       " <a href=\"https://gunosy.com/categories/9\">芸能</a>}"
      ]
     },
     "execution_count": 9,
     "metadata": {},
     "output_type": "execute_result"
    }
   ],
   "source": [
    "import re\n",
    "links = soup.find_all(href=re.compile(r\"^https://gunosy.com/categories..$\"))\n",
    "set(links)"
   ]
  },
  {
   "cell_type": "code",
   "execution_count": 10,
   "metadata": {
    "ExecuteTime": {
     "end_time": "2018-12-20T15:27:54.121564Z",
     "start_time": "2018-12-20T15:27:54.116547Z"
    }
   },
   "outputs": [
    {
     "name": "stdout",
     "output_type": "stream",
     "text": [
      "国内\n",
      "海外\n",
      "芸能\n",
      "コラム\n",
      "おもしろ\n",
      "IT・科学\n",
      "スポーツ\n",
      "エンタメ\n",
      "グルメ\n"
     ]
    }
   ],
   "source": [
    "for a in set(links):\n",
    "    print(a.string)"
   ]
  },
  {
   "cell_type": "code",
   "execution_count": 11,
   "metadata": {
    "ExecuteTime": {
     "end_time": "2018-12-20T15:27:54.132627Z",
     "start_time": "2018-12-20T15:27:54.124263Z"
    },
    "scrolled": true
   },
   "outputs": [
    {
     "data": {
      "text/plain": [
       "[<li class=\"nav_color_1\" data-id=\"1\"><a href=\"https://gunosy.com/categories/1\">エンタメ</a><ul class=\"nav_sub_list nav_sub_list_1\"><li><a href=\"https://gunosy.com/categories/9\">芸能</a></li><li><a href=\"https://gunosy.com/categories/10\">映画</a></li><li><a href=\"https://gunosy.com/categories/11\">音楽</a></li><li><a href=\"https://gunosy.com/categories/12\">テレビ</a></li><li><a href=\"https://gunosy.com/categories/13\">アニメ</a></li><li><a href=\"https://gunosy.com/categories/14\">ゲーム</a></li><li><a href=\"https://gunosy.com/categories/15\">漫画</a></li><li><a href=\"https://gunosy.com/categories/17\">海外セレブ</a></li></ul></li>,\n",
       " <li class=\"nav_color_2\" data-id=\"2\"><a href=\"https://gunosy.com/categories/2\">スポーツ</a><ul class=\"nav_sub_list nav_sub_list_2\"><li><a href=\"https://gunosy.com/categories/18\">プロ野球</a></li><li><a href=\"https://gunosy.com/categories/51\">格闘技</a></li><li><a href=\"https://gunosy.com/categories/19\">MLB</a></li><li><a href=\"https://gunosy.com/categories/20\">サッカー日本代表</a></li><li><a href=\"https://gunosy.com/categories/21\">Jリーグ</a></li><li><a href=\"https://gunosy.com/categories/22\">海外サッカー</a></li><li><a href=\"https://gunosy.com/categories/43\">高校野球</a></li><li><a href=\"https://gunosy.com/categories/44\">ゴルフ</a></li><li><a href=\"https://gunosy.com/categories/47\">大相撲</a></li><li><a href=\"https://gunosy.com/categories/48\">テニス</a></li><li><a href=\"https://gunosy.com/categories/54\">フィギュアスケート</a></li></ul></li>,\n",
       " <li class=\"nav_color_3\" data-id=\"3\"><a href=\"https://gunosy.com/categories/3\">おもしろ</a><ul class=\"nav_sub_list nav_sub_list_3\"><li><a href=\"https://gunosy.com/categories/23\">猫</a></li><li><a href=\"https://gunosy.com/categories/24\">動物</a></li><li><a href=\"https://gunosy.com/categories/25\">ネタ</a></li></ul></li>,\n",
       " <li class=\"nav_color_4\" data-id=\"4\"><a href=\"https://gunosy.com/categories/4\">国内</a><ul class=\"nav_sub_list nav_sub_list_4\"><li><a href=\"https://gunosy.com/categories/26\">社会</a></li><li><a href=\"https://gunosy.com/categories/27\">経済</a></li><li><a href=\"https://gunosy.com/categories/28\">政治</a></li></ul></li>,\n",
       " <li class=\"nav_color_5\" data-id=\"5\"><a href=\"https://gunosy.com/categories/5\">海外</a><ul class=\"nav_sub_list nav_sub_list_5\"><li><a href=\"https://gunosy.com/categories/29\">中国・韓国・アジア</a></li><li><a href=\"https://gunosy.com/categories/30\">国外総合</a></li></ul></li>,\n",
       " <li class=\"nav_color_6\" data-id=\"6\"><a href=\"https://gunosy.com/categories/6\">コラム</a><ul class=\"nav_sub_list nav_sub_list_6\"><li><a href=\"https://gunosy.com/categories/31\">恋愛</a></li><li><a href=\"https://gunosy.com/categories/32\">ビューティー</a></li><li><a href=\"https://gunosy.com/categories/42\">ファッション</a></li><li><a href=\"https://gunosy.com/categories/33\">コラム総合</a></li></ul></li>,\n",
       " <li class=\"nav_color_7\" data-id=\"7\"><a href=\"https://gunosy.com/categories/7\">IT・科学</a><ul class=\"nav_sub_list nav_sub_list_7\"><li><a href=\"https://gunosy.com/categories/34\">Apple</a></li><li><a href=\"https://gunosy.com/categories/35\">Android</a></li><li><a href=\"https://gunosy.com/categories/36\">IT総合</a></li><li><a href=\"https://gunosy.com/categories/52\">アプリ</a></li><li><a href=\"https://gunosy.com/categories/37\">サイエンス</a></li></ul></li>,\n",
       " <li class=\"nav_color_8\" data-id=\"8\"><a href=\"https://gunosy.com/categories/8\">グルメ</a><ul class=\"nav_sub_list nav_sub_list_8\"><li><a href=\"https://gunosy.com/categories/38\">お店</a></li><li><a href=\"https://gunosy.com/categories/39\">レシピ</a></li><li><a href=\"https://gunosy.com/categories/40\">新製品</a></li><li><a href=\"https://gunosy.com/categories/41\">グルメ総合</a></li></ul></li>]"
      ]
     },
     "execution_count": 11,
     "metadata": {},
     "output_type": "execute_result"
    }
   ],
   "source": [
    "ul = soup.html.body.nav.ul\n",
    "li = ul.find_all('li', class_=re.compile(r'^(nav_color_).$'),)\n",
    "li"
   ]
  },
  {
   "cell_type": "markdown",
   "metadata": {},
   "source": [
    "## 完成"
   ]
  },
  {
   "cell_type": "code",
   "execution_count": 13,
   "metadata": {
    "ExecuteTime": {
     "end_time": "2018-12-20T15:28:01.379647Z",
     "start_time": "2018-12-20T15:28:01.370768Z"
    }
   },
   "outputs": [
    {
     "name": "stdout",
     "output_type": "stream",
     "text": [
      "<a href=\"https://gunosy.com/categories/1\">エンタメ</a>\n",
      "エンタメ\n",
      "https://gunosy.com/categories/1\n",
      "<a href=\"https://gunosy.com/categories/2\">スポーツ</a>\n",
      "スポーツ\n",
      "https://gunosy.com/categories/2\n",
      "<a href=\"https://gunosy.com/categories/3\">おもしろ</a>\n",
      "おもしろ\n",
      "https://gunosy.com/categories/3\n",
      "<a href=\"https://gunosy.com/categories/4\">国内</a>\n",
      "国内\n",
      "https://gunosy.com/categories/4\n",
      "<a href=\"https://gunosy.com/categories/5\">海外</a>\n",
      "海外\n",
      "https://gunosy.com/categories/5\n",
      "<a href=\"https://gunosy.com/categories/6\">コラム</a>\n",
      "コラム\n",
      "https://gunosy.com/categories/6\n",
      "<a href=\"https://gunosy.com/categories/7\">IT・科学</a>\n",
      "IT・科学\n",
      "https://gunosy.com/categories/7\n",
      "<a href=\"https://gunosy.com/categories/8\">グルメ</a>\n",
      "グルメ\n",
      "https://gunosy.com/categories/8\n"
     ]
    }
   ],
   "source": [
    "main_pick_url_dic = {}\n",
    "for i in li:\n",
    "    print(i.a)\n",
    "    \n",
    "    print(i.a.string)\n",
    "    \n",
    "    print(i.a.attrs['href'])\n",
    "    \n",
    "    main_pick_url_dic[i.a.string] = i.a.attrs['href']"
   ]
  },
  {
   "cell_type": "code",
   "execution_count": 14,
   "metadata": {
    "ExecuteTime": {
     "end_time": "2018-12-20T15:28:02.277240Z",
     "start_time": "2018-12-20T15:28:02.265627Z"
    }
   },
   "outputs": [
    {
     "data": {
      "text/plain": [
       "{'エンタメ': 'https://gunosy.com/categories/1',\n",
       " 'スポーツ': 'https://gunosy.com/categories/2',\n",
       " 'おもしろ': 'https://gunosy.com/categories/3',\n",
       " '国内': 'https://gunosy.com/categories/4',\n",
       " '海外': 'https://gunosy.com/categories/5',\n",
       " 'コラム': 'https://gunosy.com/categories/6',\n",
       " 'IT・科学': 'https://gunosy.com/categories/7',\n",
       " 'グルメ': 'https://gunosy.com/categories/8'}"
      ]
     },
     "execution_count": 14,
     "metadata": {},
     "output_type": "execute_result"
    }
   ],
   "source": [
    "main_pick_url_dic"
   ]
  },
  {
   "cell_type": "markdown",
   "metadata": {},
   "source": [
    "# スクレイピング"
   ]
  },
  {
   "cell_type": "code",
   "execution_count": 21,
   "metadata": {
    "ExecuteTime": {
     "end_time": "2018-12-20T15:29:51.288516Z",
     "start_time": "2018-12-20T15:29:51.275268Z"
    }
   },
   "outputs": [
    {
     "name": "stdout",
     "output_type": "stream",
     "text": [
      "https://gunosy.com/categories/1\n",
      "https://gunosy.com/categories/2\n",
      "https://gunosy.com/categories/3\n",
      "https://gunosy.com/categories/4\n",
      "https://gunosy.com/categories/5\n",
      "https://gunosy.com/categories/6\n",
      "https://gunosy.com/categories/7\n",
      "https://gunosy.com/categories/8\n"
     ]
    }
   ],
   "source": [
    "for url in main_pick_url_dic.values():\n",
    "    "
   ]
  },
  {
   "cell_type": "code",
   "execution_count": null,
   "metadata": {},
   "outputs": [],
   "source": []
  }
 ],
 "metadata": {
  "hide_input": false,
  "kernelspec": {
   "display_name": "Python 3",
   "language": "python",
   "name": "python3"
  },
  "language_info": {
   "codemirror_mode": {
    "name": "ipython",
    "version": 3
   },
   "file_extension": ".py",
   "mimetype": "text/x-python",
   "name": "python",
   "nbconvert_exporter": "python",
   "pygments_lexer": "ipython3",
   "version": "3.6.5"
  },
  "latex_envs": {
   "LaTeX_envs_menu_present": true,
   "autoclose": false,
   "autocomplete": true,
   "bibliofile": "biblio.bib",
   "cite_by": "apalike",
   "current_citInitial": 1,
   "eqLabelWithNumbers": true,
   "eqNumInitial": 1,
   "hotkeys": {
    "equation": "Ctrl-E",
    "itemize": "Ctrl-I"
   },
   "labels_anchors": false,
   "latex_user_defs": false,
   "report_style_numbering": false,
   "user_envs_cfg": false
  },
  "toc": {
   "base_numbering": 1,
   "nav_menu": {},
   "number_sections": true,
   "sideBar": true,
   "skip_h1_title": false,
   "title_cell": "Table of Contents",
   "title_sidebar": "Contents",
   "toc_cell": false,
   "toc_position": {},
   "toc_section_display": true,
   "toc_window_display": false
  }
 },
 "nbformat": 4,
 "nbformat_minor": 2
}
